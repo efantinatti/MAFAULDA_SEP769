{
 "cells": [
  {
   "cell_type": "code",
   "execution_count": 1,
   "id": "01120642",
   "metadata": {},
   "outputs": [],
   "source": [
    "import numpy as np\n",
    "import glob"
   ]
  },
  {
   "cell_type": "code",
   "execution_count": 2,
   "id": "76092737",
   "metadata": {},
   "outputs": [
    {
     "ename": "NameError",
     "evalue": "name 'train_label' is not defined",
     "output_type": "error",
     "traceback": [
      "\u001b[1;31m---------------------------------------------------------------------------\u001b[0m",
      "\u001b[1;31mNameError\u001b[0m                                 Traceback (most recent call last)",
      "\u001b[1;32m<ipython-input-2-f423fdd9a692>\u001b[0m in \u001b[0;36m<module>\u001b[1;34m\u001b[0m\n\u001b[0;32m     26\u001b[0m \u001b[1;33m\u001b[0m\u001b[0m\n\u001b[0;32m     27\u001b[0m \u001b[0mpred_label\u001b[0m \u001b[1;33m=\u001b[0m \u001b[0mnp\u001b[0m\u001b[1;33m.\u001b[0m\u001b[0mzeros\u001b[0m\u001b[1;33m(\u001b[0m\u001b[1;36m490\u001b[0m\u001b[1;33m)\u001b[0m\u001b[1;33m\u001b[0m\u001b[1;33m\u001b[0m\u001b[0m\n\u001b[1;32m---> 28\u001b[1;33m \u001b[0mtrain_label\u001b[0m \u001b[1;33m=\u001b[0m \u001b[0mnp\u001b[0m\u001b[1;33m.\u001b[0m\u001b[0mappend\u001b[0m\u001b[1;33m(\u001b[0m\u001b[0mtrain_label\u001b[0m\u001b[1;33m,\u001b[0m \u001b[0mnp\u001b[0m\u001b[1;33m.\u001b[0m\u001b[0mones\u001b[0m\u001b[1;33m(\u001b[0m\u001b[1;36m3330\u001b[0m\u001b[1;33m)\u001b[0m\u001b[1;33m,\u001b[0m \u001b[0maxis\u001b[0m\u001b[1;33m=\u001b[0m\u001b[1;36m0\u001b[0m\u001b[1;33m)\u001b[0m\u001b[1;33m\u001b[0m\u001b[1;33m\u001b[0m\u001b[0m\n\u001b[0m\u001b[0;32m     29\u001b[0m \u001b[1;33m\u001b[0m\u001b[0m\n\u001b[0;32m     30\u001b[0m \u001b[0mnp\u001b[0m\u001b[1;33m.\u001b[0m\u001b[0msavetxt\u001b[0m\u001b[1;33m(\u001b[0m\u001b[1;34m\"pred_label.txt\"\u001b[0m\u001b[1;33m,\u001b[0m \u001b[0mtrain_label\u001b[0m\u001b[1;33m)\u001b[0m\u001b[1;33m\u001b[0m\u001b[1;33m\u001b[0m\u001b[0m\n",
      "\u001b[1;31mNameError\u001b[0m: name 'train_label' is not defined"
     ]
    }
   ],
   "source": [
    "no_points = 500\n",
    "\n",
    "files_no = glob.glob('normal/*.csv')\n",
    "folders_im = glob.glob('imbalance/*')\n",
    "pred_data = np.empty((3820,no_points,8), float)\n",
    "\n",
    "i=0\n",
    "for f_on in files_no:\n",
    "    source_data = np.loadtxt(f_on, delimiter=\",\")\n",
    "    for j in range(1,11):\n",
    "        pred_data[i,:,:] = source_data[20000*j:20000*j + no_points,:]\n",
    "        i=i+1\n",
    "    print(i)\n",
    "\n",
    "for folder in folders_im:\n",
    "    files_im = glob.glob( folder +'/*.csv')\n",
    "    for f_im in files_im:\n",
    "        source_data = np.loadtxt(f_im, delimiter=\",\")\n",
    "        for j in range(1,11):\n",
    "            pred_data[i,:,:] = source_data[20000*j:20000*j + no_points,:]\n",
    "            i=i+1\n",
    "        print(i)\n",
    "#Need to reshape 3D array before saving as a .txt\n",
    "pred_reshaped = np.reshape(pred_data,(pred_data.shape[0],-1))\n",
    "\n",
    "np.savetxt(\"pred_data.txt\", pred_reshaped)\n",
    "\n",
    "pred_label = np.zeros(490)\n",
    "pred_label = np.append(pred_label, np.ones(3330), axis=0)\n",
    "\n",
    "np.savetxt(\"pred_label.txt\", pred_label)\n",
    "\n",
    "print(\"Finished parsing the files\")\n"
   ]
  },
  {
   "cell_type": "code",
   "execution_count": null,
   "id": "24133250",
   "metadata": {},
   "outputs": [],
   "source": []
  }
 ],
 "metadata": {
  "kernelspec": {
   "display_name": "Python [conda env:tf-gpu-new]",
   "language": "python",
   "name": "conda-env-tf-gpu-new-py"
  },
  "language_info": {
   "codemirror_mode": {
    "name": "ipython",
    "version": 3
   },
   "file_extension": ".py",
   "mimetype": "text/x-python",
   "name": "python",
   "nbconvert_exporter": "python",
   "pygments_lexer": "ipython3",
   "version": "3.8.1"
  }
 },
 "nbformat": 4,
 "nbformat_minor": 5
}
