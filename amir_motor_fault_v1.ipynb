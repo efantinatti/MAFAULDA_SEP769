{
 "cells": [
  {
   "cell_type": "code",
   "execution_count": 1,
   "id": "3a9b57e5",
   "metadata": {},
   "outputs": [],
   "source": [
    "from sklearn.preprocessing import MinMaxScaler\n",
    "from keras.models import Sequential\n",
    "from keras.layers import Dense, Dropout, Flatten\n",
    "from keras.layers.convolutional import Conv2D\n",
    "from keras.utils import np_utils\n",
    "import numpy as np\n",
    "import matplotlib.pyplot as plt\n",
    "import glob"
   ]
  },
  {
   "cell_type": "code",
   "execution_count": 2,
   "id": "4fd4bc16",
   "metadata": {},
   "outputs": [],
   "source": [
    "#Choice = 1 if you have access to the data but not train/test data .txt files\n",
    "#Choice = 0 if you have train/test data .txt files\n",
    "\n",
    "choice = 0\n",
    "\n",
    "#Number of data points to take per batch\n",
    "no_points = 5000"
   ]
  },
  {
   "cell_type": "markdown",
   "id": "ce77091c",
   "metadata": {},
   "source": [
    "Saving 3D Arrays:\n",
    "https://www.geeksforgeeks.org/how-to-load-and-save-3d-numpy-array-to-file-using-savetxt-and-loadtxt-functions/"
   ]
  },
  {
   "cell_type": "code",
   "execution_count": 3,
   "id": "19425f2a",
   "metadata": {},
   "outputs": [],
   "source": [
    "#Loops through all .csv files containing normal and imbalanced data, \n",
    "#takes first 5000 points from each, assigns label in separate array\n",
    "if choice == 1:\n",
    "    files_no = glob.glob('normal/*.csv')\n",
    "    folders_im = glob.glob('imbalance/*')\n",
    "    train_data = np.empty((382,no_points,8), float)\n",
    "    test_data = np.empty((382,no_points,8), float)\n",
    "    i=0\n",
    "    for f_on in files_no:\n",
    "        source_data = np.loadtxt(f_on, delimiter=\",\")\n",
    "        train_data[i,:,:] = source_data[0:no_points,:]\n",
    "        test_data[i,:,:] = source_data[no_points:no_points*2,:]\n",
    "        i=i+1\n",
    "\n",
    "    for folder in folders_im:\n",
    "        files_im = glob.glob( folder +'/*.csv')\n",
    "        for f_im in files_im:\n",
    "            source_data = np.loadtxt(f_im, delimiter=\",\")\n",
    "            train_data[i,:,:] = source_data[0:no_points//6,:]\n",
    "            test_data[i,:,:] = source_data[no_points//6:no_points//6*2,:]\n",
    "            i=i+1\n",
    "    \n",
    "    train_reshaped = np.reshape(train_data,(train_data.shape[0],-1))\n",
    "    test_reshaped = np.reshape(test_data,(train_data.shape[0],-1))\n",
    "    \n",
    "    np.savetxt(\"train_data_equal.txt\", train_reshaped)\n",
    "    np.savetxt(\"test_data_equal.txt\", test_reshaped)\n",
    "    \n",
    "    train_label = np.zeros(49)\n",
    "    train_label = np.append(train_label, np.ones(333), axis=0)\n",
    "    test_label = np.zeros(49)\n",
    "    test_label = np.append(test_label, np.ones(333), axis=0)\n",
    "\n",
    "    np.savetxt(\"train_label.txt\", train_label)\n",
    "    np.savetxt(\"test_label.txt\", test_label)\n",
    "    \n",
    "    print(\"Finished parsing the files\")"
   ]
  },
  {
   "cell_type": "code",
   "execution_count": 7,
   "id": "828eed9b",
   "metadata": {},
   "outputs": [
    {
     "name": "stdout",
     "output_type": "stream",
     "text": [
      "(382,)\n",
      "Loaded data files...\n"
     ]
    }
   ],
   "source": [
    "#Loads train/test data from .txt files to np arrays\n",
    "if choice == 0:    \n",
    "    train_reload = np.loadtxt(\"train_data.txt\")\n",
    "    test_reload = np.loadtxt(\"test_data.txt\")\n",
    "\n",
    "    train_label = np.loadtxt('train_label.txt').astype(int)\n",
    "    test_label = np.loadtxt('test_label.txt').astype(int)\n",
    "    \n",
    "    print(train_label.shape)\n",
    "    print(\"Loaded data files...\")"
   ]
  },
  {
   "cell_type": "code",
   "execution_count": 8,
   "id": "4dd6efa1",
   "metadata": {},
   "outputs": [],
   "source": [
    "train_data = np.reshape(train_reload,(train_reload.shape[0],train_reload.shape[1]//8, 8))\n",
    "test_data = np.reshape(test_reload,(test_reload.shape[0],test_reload.shape[1]//8, 8))"
   ]
  },
  {
   "cell_type": "code",
   "execution_count": 9,
   "id": "4f08e09b",
   "metadata": {},
   "outputs": [],
   "source": [
    "#Splits the batch of 5000 into ten batches of 500\n",
    "train_data = train_data.reshape(train_data.shape[0]*10,int(no_points/10),8, 1)\n",
    "test_data = test_data.reshape(test_data.shape[0]*10, int(no_points/10), 8, 1)\n",
    "train_label = np.zeros(490)\n",
    "train_label = np.append(train_label, np.ones(3330), axis=0)\n",
    "test_label = np.zeros(490)\n",
    "test_label = np.append(test_label, np.ones(3330), axis=0)\n",
    "\n",
    "# #Change label arrays to categorical\n",
    "# train_label = np_utils.to_categorical(train_label)\n",
    "# test_label = np_utils.to_categorical(test_label)"
   ]
  },
  {
   "cell_type": "code",
   "execution_count": 10,
   "id": "e7d4261d",
   "metadata": {},
   "outputs": [],
   "source": [
    "#Load prediction data\n",
    "pred_load = np.loadtxt(\"pred_data.txt\")\n",
    "pred_data = np.reshape(pred_load,(pred_load.shape[0],pred_load.shape[1]//8, 8, 1))\n",
    "pred_label = np.loadtxt(\"pred_label.txt\")\n",
    "# pred_label = np_utils.to_categorical(pred_label)"
   ]
  },
  {
   "cell_type": "code",
   "execution_count": 11,
   "id": "16153052",
   "metadata": {},
   "outputs": [
    {
     "name": "stdout",
     "output_type": "stream",
     "text": [
      "Model: \"sequential\"\n",
      "_________________________________________________________________\n",
      "Layer (type)                 Output Shape              Param #   \n",
      "=================================================================\n",
      "conv2d (Conv2D)              (None, 498, 6, 30)        300       \n",
      "_________________________________________________________________\n",
      "dropout (Dropout)            (None, 498, 6, 30)        0         \n",
      "_________________________________________________________________\n",
      "flatten (Flatten)            (None, 89640)             0         \n",
      "_________________________________________________________________\n",
      "dense (Dense)                (None, 128)               11474048  \n",
      "_________________________________________________________________\n",
      "dense_1 (Dense)              (None, 64)                8256      \n",
      "_________________________________________________________________\n",
      "dense_2 (Dense)              (None, 32)                2080      \n",
      "_________________________________________________________________\n",
      "dense_3 (Dense)              (None, 1)                 33        \n",
      "=================================================================\n",
      "Total params: 11,484,717\n",
      "Trainable params: 11,484,717\n",
      "Non-trainable params: 0\n",
      "_________________________________________________________________\n"
     ]
    }
   ],
   "source": [
    "#Build the model\n",
    "model = Sequential()\n",
    "model.add(Conv2D(30, (3, 3), input_shape=(500, 8, 1), activation='relu'))\n",
    "model.add(Dropout(0.4))\n",
    "model.add(Flatten())\n",
    "model.add(Dense(128, activation='relu'))\n",
    "model.add(Dense(64, activation='relu'))\n",
    "model.add(Dense(32, activation='relu'))\n",
    "model.add(Dense(1, activation='sigmoid'))\n",
    "# Compile model\n",
    "model.compile(loss='binary_crossentropy', optimizer='adam', metrics=['accuracy'])\n",
    "model.summary()"
   ]
  },
  {
   "cell_type": "code",
   "execution_count": 12,
   "id": "fe16fe62",
   "metadata": {
    "scrolled": true
   },
   "outputs": [
    {
     "name": "stdout",
     "output_type": "stream",
     "text": [
      "Epoch 1/10\n",
      "120/120 [==============================] - 24s 16ms/step - loss: 0.4051 - accuracy: 0.9198 - val_loss: 0.1253 - val_accuracy: 0.9497\n",
      "Epoch 2/10\n",
      "120/120 [==============================] - 1s 10ms/step - loss: 0.0924 - accuracy: 0.9666 - val_loss: 0.0589 - val_accuracy: 0.9772\n",
      "Epoch 3/10\n",
      "120/120 [==============================] - 1s 10ms/step - loss: 0.0531 - accuracy: 0.9800 - val_loss: 0.0711 - val_accuracy: 0.9733\n",
      "Epoch 4/10\n",
      "120/120 [==============================] - 1s 10ms/step - loss: 0.0484 - accuracy: 0.9797 - val_loss: 0.0473 - val_accuracy: 0.9840\n",
      "Epoch 5/10\n",
      "120/120 [==============================] - 1s 10ms/step - loss: 0.0253 - accuracy: 0.9915 - val_loss: 0.0664 - val_accuracy: 0.9780\n",
      "Epoch 6/10\n",
      "120/120 [==============================] - 1s 10ms/step - loss: 0.0267 - accuracy: 0.9877 - val_loss: 0.0494 - val_accuracy: 0.9819\n",
      "Epoch 7/10\n",
      "120/120 [==============================] - 1s 10ms/step - loss: 0.0238 - accuracy: 0.9921 - val_loss: 0.0896 - val_accuracy: 0.9730\n",
      "Epoch 8/10\n",
      "120/120 [==============================] - 1s 10ms/step - loss: 0.0253 - accuracy: 0.9919 - val_loss: 0.0722 - val_accuracy: 0.9754\n",
      "Epoch 9/10\n",
      "120/120 [==============================] - 1s 10ms/step - loss: 0.0208 - accuracy: 0.9912 - val_loss: 0.0496 - val_accuracy: 0.9817\n",
      "Epoch 10/10\n",
      "120/120 [==============================] - 1s 10ms/step - loss: 0.0150 - accuracy: 0.9946 - val_loss: 0.0498 - val_accuracy: 0.9843\n"
     ]
    }
   ],
   "source": [
    "history =  model.fit(train_data, train_label, validation_data=(test_data, test_label), epochs=10, batch_size=32)"
   ]
  },
  {
   "cell_type": "code",
   "execution_count": 10,
   "id": "ab4fd957",
   "metadata": {},
   "outputs": [
    {
     "name": "stdout",
     "output_type": "stream",
     "text": [
      "120/120 [==============================] - 0s 4ms/step - loss: 0.0722 - accuracy: 0.9757\n"
     ]
    }
   ],
   "source": [
    "test_accuracy = model.evaluate(test_data, test_label)"
   ]
  },
  {
   "cell_type": "code",
   "execution_count": 11,
   "id": "77ac7d48",
   "metadata": {},
   "outputs": [
    {
     "data": {
      "image/png": "[encoded data removed]",
      "text/plain": [
       "<Figure size 432x288 with 1 Axes>"
      ]
     },
     "metadata": {
      "needs_background": "light"
     },
     "output_type": "display_data"
    }
   ],
   "source": [
    "plt.plot(history.history['accuracy'])\n",
    "plt.plot(history.history['val_accuracy'])\n",
    "plt.title('Model Accuracy')\n",
    "plt.ylabel('accuracy')\n",
    "plt.xlabel('epoch')\n",
    "plt.legend(['train', 'val'], loc='upper right')\n",
    "plt.show()"
   ]
  },
  {
   "cell_type": "code",
   "execution_count": 12,
   "id": "7eae0b1d",
   "metadata": {},
   "outputs": [
    {
     "name": "stdout",
     "output_type": "stream",
     "text": [
      "120/120 [==============================] - 0s 3ms/step - loss: 0.1093 - accuracy: 0.9749\n"
     ]
    },
    {
     "data": {
      "text/plain": [
       "[0.10925935208797455, 0.9748691320419312]"
      ]
     },
     "execution_count": 12,
     "metadata": {},
     "output_type": "execute_result"
    }
   ],
   "source": [
    "model.evaluate(pred_data, pred_label)"
   ]
  },
  {
   "cell_type": "code",
   "execution_count": 13,
   "id": "7b01ce73",
   "metadata": {},
   "outputs": [
    {
     "name": "stdout",
     "output_type": "stream",
     "text": [
      "INFO:tensorflow:Assets written to: amir_CNN\\assets\n"
     ]
    }
   ],
   "source": [
    "model.save(\"amir_CNN\")"
   ]
  },
  {
   "cell_type": "code",
   "execution_count": 14,
   "id": "d3f3c831",
   "metadata": {},
   "outputs": [
    {
     "name": "stderr",
     "output_type": "stream",
     "text": [
      "C:\\Users\\Amir\\anaconda3\\envs\\tf-gpu-new\\lib\\site-packages\\keras\\engine\\sequential.py:450: UserWarning: `model.predict_classes()` is deprecated and will be removed after 2021-01-01. Please use instead:* `np.argmax(model.predict(x), axis=-1)`,   if your model does multi-class classification   (e.g. if it uses a `softmax` last-layer activation).* `(model.predict(x) > 0.5).astype(\"int32\")`,   if your model does binary classification   (e.g. if it uses a `sigmoid` last-layer activation).\n",
      "  warnings.warn('`model.predict_classes()` is deprecated and '\n"
     ]
    },
    {
     "name": "stdout",
     "output_type": "stream",
     "text": [
      "(3820,)\n",
      "0.974869109947644\n"
     ]
    }
   ],
   "source": [
    "# print(pred_data.shape)\n",
    "# print(pred_label.shape)\n",
    "prediction = model.predict_classes(pred_data)\n",
    "prediction = prediction.reshape(prediction.shape[0])\n",
    "print(prediction.shape)\n",
    "print(1-sum(prediction != pred_label)/3820)"
   ]
  },
  {
   "cell_type": "code",
   "execution_count": 15,
   "id": "3ccdd8dd",
   "metadata": {},
   "outputs": [
    {
     "name": "stdout",
     "output_type": "stream",
     "text": [
      "normal\\12.288.csv [0.112]\n",
      "normal\\13.1072.csv [0.174]\n",
      "normal\\14.336.csv [0.146]\n",
      "normal\\15.1552.csv [0.168]\n",
      "normal\\16.1792.csv [0.14]\n",
      "normal\\17.2032.csv [0.4]\n",
      "normal\\18.432.csv [0.314]\n",
      "normal\\19.6608.csv [0.122]\n",
      "normal\\20.2752.csv [0.114]\n",
      "normal\\21.7088.csv [0.112]\n",
      "normal\\22.3232.csv [0.102]\n",
      "normal\\23.552.csv [0.114]\n",
      "normal\\24.576.csv [0.068]\n",
      "normal\\25.6.csv [0.054]\n",
      "normal\\26.624.csv [0.1]\n",
      "normal\\27.4432.csv [0.106]\n",
      "normal\\28.8768.csv [0.022]\n",
      "normal\\29.4912.csv [0.074]\n",
      "normal\\30.72.csv [0.048]\n",
      "normal\\31.744.csv [0.006]\n",
      "normal\\32.9728.csv [0.002]\n",
      "normal\\33.5872.csv [0.004]\n",
      "normal\\34.2016.csv [0.012]\n",
      "normal\\35.4304.csv [0.002]\n",
      "normal\\36.4544.csv [0.002]\n",
      "normal\\37.6832.csv [0.]\n",
      "normal\\38.2976.csv [0.002]\n",
      "normal\\39.3216.csv [0.018]\n",
      "normal\\40.3456.csv [0.056]\n",
      "normal\\41.7792.csv [0.]\n",
      "normal\\42.3936.csv [0.002]\n",
      "normal\\43.6224.csv [0.006]\n",
      "normal\\44.6464.csv [0.]\n",
      "normal\\45.4656.csv [0.006]\n",
      "normal\\46.2848.csv [0.]\n",
      "normal\\47.7184.csv [0.]\n",
      "normal\\48.9472.csv [0.]\n",
      "normal\\49.5616.csv [0.058]\n",
      "normal\\51.8144.csv [0.006]\n",
      "normal\\52.4288.csv [0.066]\n",
      "normal\\53.8624.csv [0.002]\n",
      "normal\\54.6816.csv [0.052]\n",
      "normal\\55.7056.csv [0.018]\n",
      "normal\\56.7296.csv [0.05]\n",
      "normal\\57.9584.csv [0.016]\n",
      "normal\\58.7776.csv [0.032]\n",
      "normal\\59.5968.csv [0.214]\n",
      "normal\\60.416.csv [0.266]\n",
      "normal\\61.44.csv [0.102]\n"
     ]
    }
   ],
   "source": [
    "files_no = glob.glob('normal/*.csv')\n",
    "# errors = numpy.empty(1)\n",
    "for f_on in files_no:\n",
    "    normal_data = np.loadtxt(f_on, delimiter=\",\")\n",
    "    normal_data = normal_data.reshape(-1,500,8,1)\n",
    "    y = model.predict_classes(normal_data)\n",
    "    print(f_on, sum(y)/y.shape[0])"
   ]
  },
  {
   "cell_type": "code",
   "execution_count": null,
   "id": "581d1ac8",
   "metadata": {},
   "outputs": [],
   "source": []
  }
 ],
 "metadata": {
  "kernelspec": {
   "display_name": "Python [conda env:tf-gpu-new]",
   "language": "python",
   "name": "conda-env-tf-gpu-new-py"
  },
  "language_info": {
   "codemirror_mode": {
    "name": "ipython",
    "version": 3
   },
   "file_extension": ".py",
   "mimetype": "text/x-python",
   "name": "python",
   "nbconvert_exporter": "python",
   "pygments_lexer": "ipython3",
   "version": "3.8.1"
  }
 },
 "nbformat": 4,
 "nbformat_minor": 5
}
