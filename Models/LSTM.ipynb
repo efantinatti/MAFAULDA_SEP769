{
 "cells": [
  {
   "cell_type": "code",
   "execution_count": 1,
   "id": "ec558735",
   "metadata": {},
   "outputs": [],
   "source": [
    "# SEP769 - July 27, 2021\n",
    "# Amir Kamaleddine, Ernani Fantinatti, Mohammed Ibraheem\n",
    "# LSTM model for classifying normal and imbalanced motors as part of the MAFAULDA motor fault dataset\n",
    "# https://github.com/efantinatti/MAFAULDA_SEP769"
   ]
  },
  {
   "cell_type": "code",
   "execution_count": 2,
   "id": "eca2a4d1",
   "metadata": {},
   "outputs": [],
   "source": [
    "# Load in tensorboard extension to view results interactively\n",
    "%load_ext tensorboard"
   ]
  },
  {
   "cell_type": "code",
   "execution_count": 3,
   "id": "3a9b57e5",
   "metadata": {},
   "outputs": [],
   "source": [
    "# Load relevant libraries\n",
    "import tensorflow as tf\n",
    "from keras.models import Sequential, load_model\n",
    "from keras.layers import Dense, Dropout, Flatten, SimpleRNN, LSTM\n",
    "import matplotlib.pyplot as plt\n",
    "import numpy as np\n",
    "import glob\n",
    "import datetime"
   ]
  },
  {
   "cell_type": "code",
   "execution_count": 4,
   "id": "01d79360",
   "metadata": {},
   "outputs": [],
   "source": [
    "# Decide whether to load model from a .h5 file or train a new one\n",
    "saved_model = 0"
   ]
  },
  {
   "cell_type": "code",
   "execution_count": 5,
   "id": "1e3f618a",
   "metadata": {},
   "outputs": [
    {
     "name": "stderr",
     "output_type": "stream",
     "text": [
      "'rm' is not recognized as an internal or external command,\n",
      "operable program or batch file.\n"
     ]
    }
   ],
   "source": [
    "#Delete tensorboard logs from previous runs\n",
    "#If using Collab or Unix system use !rm, otherwise\n",
    "#if using windows use...\n",
    "!rm -rf ./logs/"
   ]
  },
  {
   "cell_type": "code",
   "execution_count": 6,
   "id": "828eed9b",
   "metadata": {},
   "outputs": [
    {
     "name": "stdout",
     "output_type": "stream",
     "text": [
      "(2315000, 8)\n",
      "Loaded data files...\n"
     ]
    }
   ],
   "source": [
    "# Loads train/test data from .txt files to np arrays \n",
    "# Ensure you choose the correct file directory\n",
    "dir = \"D:/SEP769_DeepLearning/jul20data/\"\n",
    "\n",
    "train_reload = np.loadtxt(dir + 'train_data.txt')\n",
    "test_reload = np.loadtxt(dir + 'test_data.txt')\n",
    "\n",
    "print(train_reload.shape)\n",
    "print(\"Loaded data files...\")"
   ]
  },
  {
   "cell_type": "code",
   "execution_count": 7,
   "id": "22271df0",
   "metadata": {},
   "outputs": [
    {
     "name": "stdout",
     "output_type": "stream",
     "text": [
      "(46300, 50, 8)\n",
      "(16400, 50, 8)\n"
     ]
    }
   ],
   "source": [
    "# Shaping the training/testing data\n",
    "# Shapes the data into an nx50x8 array\n",
    "# Each sequence is 50 timestamps (1 ms of data collection)\n",
    "\n",
    "train_data = np.reshape(train_reload,(-1,50, 8))\n",
    "test_data = np.reshape(test_reload,(-1,50, 8))\n",
    "print(train_data.shape)\n",
    "print(test_data.shape)"
   ]
  },
  {
   "cell_type": "code",
   "execution_count": 8,
   "id": "41678331",
   "metadata": {},
   "outputs": [
    {
     "name": "stdout",
     "output_type": "stream",
     "text": [
      "(46300,)\n",
      "(16400,)\n"
     ]
    }
   ],
   "source": [
    "# Loads labels corresponding to training/test data\n",
    "train_label = np.loadtxt(dir + 'train_label.txt').astype(int)\n",
    "test_label = np.loadtxt(dir + 'test_label.txt').astype(int)\n",
    "\n",
    "# Organized data is labeled per 500 timestamps\n",
    "# These lines correct the number of labels\n",
    "A = sum(train_label == 1)\n",
    "B = sum(test_label == 1)\n",
    "train_label = np.zeros((train_label.shape-A)*10)\n",
    "train_label = np.append(train_label,np.ones(A*10))\n",
    "test_label = np.zeros((test_label.shape-B)*10)\n",
    "test_label = np.append(test_label,np.ones(B*10))\n",
    "print(train_label.shape)\n",
    "print(test_label.shape)"
   ]
  },
  {
   "cell_type": "code",
   "execution_count": 18,
   "id": "16153052",
   "metadata": {},
   "outputs": [
    {
     "name": "stdout",
     "output_type": "stream",
     "text": [
      "Model: \"sequential_1\"\n",
      "_________________________________________________________________\n",
      "Layer (type)                 Output Shape              Param #   \n",
      "=================================================================\n",
      "lstm_3 (LSTM)                (None, 50, 24)            3168      \n",
      "_________________________________________________________________\n",
      "lstm_4 (LSTM)                (None, 50, 12)            1776      \n",
      "_________________________________________________________________\n",
      "lstm_5 (LSTM)                (None, 4)                 272       \n",
      "_________________________________________________________________\n",
      "dense_1 (Dense)              (None, 1)                 5         \n",
      "=================================================================\n",
      "Total params: 5,221\n",
      "Trainable params: 5,221\n",
      "Non-trainable params: 0\n",
      "_________________________________________________________________\n"
     ]
    }
   ],
   "source": [
    "# Build the model\n",
    "# Sequential model\n",
    "model = Sequential()\n",
    "\n",
    "# LSTM layers\n",
    "model.add(LSTM(24, input_shape = (50,8), activation = 'tanh', recurrent_activation='sigmoid', return_sequences=True))\n",
    "model.add(LSTM(12, activation = 'tanh', recurrent_activation='sigmoid', return_sequences=True))\n",
    "model.add(LSTM(4, activation = 'tanh', recurrent_activation='sigmoid'))\n",
    "\n",
    "# Output layer\n",
    "model.add(Dense(1, activation='sigmoid'))\n",
    "\n",
    "# Compile model\n",
    "# Binary crossentropy for a binary classifier\n",
    "model.compile(loss='binary_crossentropy', optimizer='adam', metrics=['accuracy'])\n",
    "model.summary()"
   ]
  },
  {
   "cell_type": "code",
   "execution_count": 19,
   "id": "d3ef0925",
   "metadata": {},
   "outputs": [],
   "source": [
    "ld = \"logs/fit/\" + datetime.datetime.now().strftime(\"%Y%m%d-%H%M%S\")\n",
    "callTensorboard = tf.keras.callbacks.TensorBoard(log_dir=ld, histogram_freq=1)"
   ]
  },
  {
   "cell_type": "code",
   "execution_count": 20,
   "id": "fe16fe62",
   "metadata": {
    "scrolled": true
   },
   "outputs": [
    {
     "name": "stdout",
     "output_type": "stream",
     "text": [
      "Epoch 1/20\n",
      "926/926 [==============================] - 22s 19ms/step - loss: 0.4470 - accuracy: 0.8043 - val_loss: 0.2660 - val_accuracy: 0.8973\n",
      "Epoch 2/20\n",
      "926/926 [==============================] - 13s 14ms/step - loss: 0.2154 - accuracy: 0.9191 - val_loss: 0.2016 - val_accuracy: 0.9261\n",
      "Epoch 3/20\n",
      "926/926 [==============================] - 13s 14ms/step - loss: 0.1696 - accuracy: 0.9371 - val_loss: 0.1627 - val_accuracy: 0.9421\n",
      "Epoch 4/20\n",
      "926/926 [==============================] - 13s 14ms/step - loss: 0.1385 - accuracy: 0.9514 - val_loss: 0.1498 - val_accuracy: 0.9499\n",
      "Epoch 5/20\n",
      "926/926 [==============================] - 13s 14ms/step - loss: 0.1185 - accuracy: 0.9583 - val_loss: 0.1310 - val_accuracy: 0.9555\n",
      "Epoch 6/20\n",
      "926/926 [==============================] - 13s 14ms/step - loss: 0.1036 - accuracy: 0.9634 - val_loss: 0.1202 - val_accuracy: 0.9576\n",
      "Epoch 7/20\n",
      "926/926 [==============================] - 13s 14ms/step - loss: 0.0919 - accuracy: 0.9675 - val_loss: 0.1242 - val_accuracy: 0.9587\n",
      "Epoch 8/20\n",
      "926/926 [==============================] - 13s 14ms/step - loss: 0.0886 - accuracy: 0.9710 - val_loss: 0.1069 - val_accuracy: 0.9635\n",
      "Epoch 9/20\n",
      "926/926 [==============================] - 13s 14ms/step - loss: 0.0832 - accuracy: 0.9723 - val_loss: 0.1139 - val_accuracy: 0.9610\n",
      "Epoch 10/20\n",
      "926/926 [==============================] - 13s 14ms/step - loss: 0.0762 - accuracy: 0.9748 - val_loss: 0.1086 - val_accuracy: 0.9665\n",
      "Epoch 11/20\n",
      "926/926 [==============================] - 13s 14ms/step - loss: 0.0774 - accuracy: 0.9748 - val_loss: 0.1011 - val_accuracy: 0.9665\n",
      "Epoch 12/20\n",
      "926/926 [==============================] - 13s 14ms/step - loss: 0.0705 - accuracy: 0.9764 - val_loss: 0.0991 - val_accuracy: 0.9694\n",
      "Epoch 13/20\n",
      "926/926 [==============================] - 13s 14ms/step - loss: 0.0713 - accuracy: 0.9758 - val_loss: 0.0874 - val_accuracy: 0.9726\n",
      "Epoch 14/20\n",
      "926/926 [==============================] - 13s 14ms/step - loss: 0.0655 - accuracy: 0.9787 - val_loss: 0.0888 - val_accuracy: 0.9717\n",
      "Epoch 15/20\n",
      "926/926 [==============================] - 13s 14ms/step - loss: 0.0643 - accuracy: 0.9777 - val_loss: 0.0980 - val_accuracy: 0.9689\n",
      "Epoch 16/20\n",
      "926/926 [==============================] - 13s 14ms/step - loss: 0.0605 - accuracy: 0.9793 - val_loss: 0.0991 - val_accuracy: 0.9717\n",
      "Epoch 17/20\n",
      "926/926 [==============================] - 13s 14ms/step - loss: 0.0592 - accuracy: 0.9801 - val_loss: 0.0965 - val_accuracy: 0.9702\n",
      "Epoch 18/20\n",
      "926/926 [==============================] - 13s 14ms/step - loss: 0.0545 - accuracy: 0.9807 - val_loss: 0.1068 - val_accuracy: 0.9682\n",
      "Epoch 19/20\n",
      "926/926 [==============================] - 13s 14ms/step - loss: 0.0506 - accuracy: 0.9829 - val_loss: 0.0901 - val_accuracy: 0.9702\n",
      "Epoch 20/20\n",
      "926/926 [==============================] - 13s 14ms/step - loss: 0.0530 - accuracy: 0.9824 - val_loss: 0.0888 - val_accuracy: 0.9735\n"
     ]
    }
   ],
   "source": [
    "if saved_model == 0:\n",
    "    history = model.fit(train_data, train_label, validation_data=(test_data, test_label), callbacks=[callTensorboard], epochs=20, batch_size=50)\n",
    "    model.save('LSTM.h5')    \n",
    "else:\n",
    "    model = load_model('LSTM.h5')"
   ]
  },
  {
   "cell_type": "code",
   "execution_count": 21,
   "id": "ab4fd957",
   "metadata": {},
   "outputs": [
    {
     "name": "stdout",
     "output_type": "stream",
     "text": [
      "513/513 [==============================] - 5s 7ms/step - loss: 0.0888 - accuracy: 0.9735\n"
     ]
    }
   ],
   "source": [
    "test_accuracy = model.evaluate(test_data, test_label)"
   ]
  },
  {
   "cell_type": "code",
   "execution_count": 22,
   "id": "32955b20",
   "metadata": {},
   "outputs": [
    {
     "data": {
      "image/png": "[encoded data removed]",
      "text/plain": [
       "<Figure size 432x288 with 1 Axes>"
      ]
     },
     "metadata": {
      "needs_background": "light"
     },
     "output_type": "display_data"
    }
   ],
   "source": [
    "if saved_model == 0:\n",
    "    plt.plot(history.history['accuracy'])\n",
    "    plt.plot(history.history['val_accuracy'])\n",
    "    plt.title('Model Accuracy')\n",
    "    plt.ylabel('accuracy')\n",
    "    plt.xlabel('epoch')\n",
    "    plt.legend(['train', 'val'], loc='upper right')\n",
    "    plt.show()"
   ]
  },
  {
   "cell_type": "code",
   "execution_count": null,
   "id": "3ccdd8dd",
   "metadata": {},
   "outputs": [],
   "source": [
    "%tensorboard --logdir logs/fit"
   ]
  }
 ],
 "metadata": {
  "kernelspec": {
   "display_name": "Python 3",
   "language": "python",
   "name": "python3"
  },
  "language_info": {
   "codemirror_mode": {
    "name": "ipython",
    "version": 3
   },
   "file_extension": ".py",
   "mimetype": "text/x-python",
   "name": "python",
   "nbconvert_exporter": "python",
   "pygments_lexer": "ipython3",
   "version": "3.8.8"
  }
 },
 "nbformat": 4,
 "nbformat_minor": 5
}
