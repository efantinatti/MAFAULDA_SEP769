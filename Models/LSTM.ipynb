{
 "cells": [
  {
   "cell_type": "code",
   "execution_count": 1,
   "id": "ec558735",
   "metadata": {},
   "outputs": [],
   "source": [
    "# SEP769 - July 27, 2021\n",
    "# Amir Kamaleddine, Ernani Fantinatti, Mohammed Ibraheem\n",
    "# LSTM model for classifying normal and imbalanced motors as part of the MAFAULDA motor fault dataset\n",
    "# If training, we suggest you use GPU acceleration in Colab\n",
    "# https://github.com/efantinatti/MAFAULDA_SEP769"
   ]
  },
  {
   "cell_type": "code",
   "execution_count": 2,
   "id": "eca2a4d1",
   "metadata": {},
   "outputs": [],
   "source": [
    "# Load in tensorboard extension to view results interactively\n",
    "%load_ext tensorboard"
   ]
  },
  {
   "cell_type": "code",
   "execution_count": 3,
   "id": "3a9b57e5",
   "metadata": {},
   "outputs": [],
   "source": [
    "# Load relevant libraries\n",
    "import tensorflow as tf\n",
    "from keras.models import Sequential, load_model\n",
    "from keras.layers import Dense, Dropout, Flatten, SimpleRNN, LSTM\n",
    "import matplotlib.pyplot as plt\n",
    "import numpy as np\n",
    "import glob\n",
    "import datetime"
   ]
  },
  {
   "cell_type": "code",
   "execution_count": null,
   "id": "827a68c3",
   "metadata": {},
   "outputs": [],
   "source": [
    "# For Google Colab only\n",
    "# Pulling processed data from public folder\n",
    "# Credit to this stack overflow forum: https://stackoverflow.com/questions/38511444/python-download-files-from-google-drive-using-url\n",
    "import gdown\n",
    "\n",
    "url = 'https://drive.google.com/uc?id=1otE_HKfM24r9Hp1-e5xodSkgve1o3DO5' \n",
    "output = 'jul27data.zip'\n",
    "gdown.download(url, output, quiet=False)\n",
    "\n",
    "import zipfile\n",
    "\n",
    "!unzip /content/jul27data.zip"
   ]
  },
  {
   "cell_type": "code",
   "execution_count": null,
   "id": "47091faa",
   "metadata": {},
   "outputs": [],
   "source": [
    "# Cloning github repo\n",
    "!git clone https://github.com/efantinatti/MAFAULDA_SEP769.git"
   ]
  },
  {
   "cell_type": "code",
   "execution_count": 9,
   "id": "01d79360",
   "metadata": {},
   "outputs": [],
   "source": [
    "# Decide whether to load model from a .h5 file or train a new one\n",
    "saved_model = 0"
   ]
  },
  {
   "cell_type": "code",
   "execution_count": 5,
   "id": "1e3f618a",
   "metadata": {},
   "outputs": [
    {
     "name": "stderr",
     "output_type": "stream",
     "text": [
      "'rm' is not recognized as an internal or external command,\n",
      "operable program or batch file.\n"
     ]
    }
   ],
   "source": [
    "#Delete tensorboard logs from previous runs\n",
    "#If using Collab or Unix system use !rm, otherwise\n",
    "#if using windows skip this\n",
    "!rm -rf ./logs/"
   ]
  },
  {
   "cell_type": "code",
   "execution_count": 4,
   "id": "828eed9b",
   "metadata": {},
   "outputs": [
    {
     "name": "stdout",
     "output_type": "stream",
     "text": [
      "Loaded data files...\n"
     ]
    }
   ],
   "source": [
    "# Loads train/test data from .txt files to np arrays \n",
    "# Ensure you choose the correct file directory\n",
    "\n",
    "dir = '/content/jul27data/'\n",
    "train_reload = np.loadtxt(dir + 'train_data.txt')\n",
    "test_reload = np.loadtxt(dir + 'test_data.txt')\n",
    "\n",
    "print(\"Loaded data files...\")"
   ]
  },
  {
   "cell_type": "code",
   "execution_count": 5,
   "id": "22271df0",
   "metadata": {},
   "outputs": [],
   "source": [
    "# Shaping the training/testing data\n",
    "# Shapes the data into an nx50x8 array\n",
    "# Each sequence is 50 timesteps (1 ms of data collection)\n",
    "\n",
    "train_data = np.reshape(train_reload,(-1,50, 8))\n",
    "test_data = np.reshape(test_reload,(-1,50, 8))"
   ]
  },
  {
   "cell_type": "code",
   "execution_count": 6,
   "id": "41678331",
   "metadata": {},
   "outputs": [],
   "source": [
    "# Loads labels corresponding to training/test data\n",
    "train_label = np.loadtxt(dir + 'train_label.txt').astype(int)\n",
    "test_label = np.loadtxt(dir + 'test_label.txt').astype(int)\n",
    "\n",
    "# Organized data is labeled per 500 timesteps\n",
    "# To align the number of labels with number of sequences, need to correct number of labels\n",
    "# These lines correct the number of labels\n",
    "A = sum(train_label == 1)\n",
    "B = sum(test_label == 1)\n",
    "train_label = np.zeros((train_label.shape-A)*10)\n",
    "train_label = np.append(train_label,np.ones(A*10))\n",
    "test_label = np.zeros((test_label.shape-B)*10)\n",
    "test_label = np.append(test_label,np.ones(B*10))"
   ]
  },
  {
   "cell_type": "code",
   "execution_count": 7,
   "id": "16153052",
   "metadata": {},
   "outputs": [
    {
     "name": "stdout",
     "output_type": "stream",
     "text": [
      "Model: \"sequential\"\n",
      "_________________________________________________________________\n",
      "Layer (type)                 Output Shape              Param #   \n",
      "=================================================================\n",
      "lstm (LSTM)                  (None, 50, 24)            3168      \n",
      "_________________________________________________________________\n",
      "lstm_1 (LSTM)                (None, 50, 12)            1776      \n",
      "_________________________________________________________________\n",
      "lstm_2 (LSTM)                (None, 4)                 272       \n",
      "_________________________________________________________________\n",
      "dense (Dense)                (None, 1)                 5         \n",
      "=================================================================\n",
      "Total params: 5,221\n",
      "Trainable params: 5,221\n",
      "Non-trainable params: 0\n",
      "_________________________________________________________________\n"
     ]
    }
   ],
   "source": [
    "# Build the model\n",
    "# Sequential model\n",
    "model = Sequential()\n",
    "\n",
    "# LSTM layers\n",
    "model.add(LSTM(24, input_shape = (50,8), activation = 'tanh', recurrent_activation='sigmoid', return_sequences=True))\n",
    "model.add(LSTM(12, activation = 'tanh', recurrent_activation='sigmoid', return_sequences=True))\n",
    "model.add(LSTM(4, activation = 'tanh', recurrent_activation='sigmoid'))\n",
    "\n",
    "# Output layer\n",
    "model.add(Dense(1, activation='sigmoid'))\n",
    "\n",
    "# Compile model\n",
    "# Binary crossentropy for a binary classifier\n",
    "model.compile(loss='binary_crossentropy', optimizer='adam', metrics=['accuracy'])\n",
    "model.summary()"
   ]
  },
  {
   "cell_type": "code",
   "execution_count": 11,
   "id": "d3ef0925",
   "metadata": {},
   "outputs": [],
   "source": [
    "ld = \"logs/fit/\" + datetime.datetime.now().strftime(\"%Y%m%d-%H%M%S\")\n",
    "callTensorboard = tf.keras.callbacks.TensorBoard(log_dir=ld, histogram_freq=1)"
   ]
  },
  {
   "cell_type": "code",
   "execution_count": 12,
   "id": "fe16fe62",
   "metadata": {
    "scrolled": true
   },
   "outputs": [
    {
     "name": "stdout",
     "output_type": "stream",
     "text": [
      "Epoch 1/20\n",
      "998/998 [==============================] - 50s 22ms/step - loss: 0.4606 - accuracy: 0.8141 - val_loss: 0.2480 - val_accuracy: 0.9094\n",
      "Epoch 2/20\n",
      "998/998 [==============================] - 15s 15ms/step - loss: 0.2239 - accuracy: 0.9178 - val_loss: 0.2043 - val_accuracy: 0.9223\n",
      "Epoch 3/20\n",
      "998/998 [==============================] - 14s 14ms/step - loss: 0.1744 - accuracy: 0.9350 - val_loss: 0.1828 - val_accuracy: 0.9275\n",
      "Epoch 4/20\n",
      "998/998 [==============================] - 15s 15ms/step - loss: 0.1440 - accuracy: 0.9469 - val_loss: 0.1516 - val_accuracy: 0.9463\n",
      "Epoch 5/20\n",
      "998/998 [==============================] - 14s 15ms/step - loss: 0.1237 - accuracy: 0.9565 - val_loss: 0.1277 - val_accuracy: 0.9540\n",
      "Epoch 6/20\n",
      "998/998 [==============================] - 14s 14ms/step - loss: 0.1118 - accuracy: 0.9600 - val_loss: 0.1186 - val_accuracy: 0.9612\n",
      "Epoch 7/20\n",
      "998/998 [==============================] - 14s 14ms/step - loss: 0.1003 - accuracy: 0.9653 - val_loss: 0.1123 - val_accuracy: 0.9633\n",
      "Epoch 8/20\n",
      "998/998 [==============================] - 15s 15ms/step - loss: 0.0951 - accuracy: 0.9679 - val_loss: 0.1120 - val_accuracy: 0.9656\n",
      "Epoch 9/20\n",
      "998/998 [==============================] - 14s 14ms/step - loss: 0.0904 - accuracy: 0.9698 - val_loss: 0.1152 - val_accuracy: 0.9609\n",
      "Epoch 10/20\n",
      "998/998 [==============================] - 14s 14ms/step - loss: 0.0822 - accuracy: 0.9720 - val_loss: 0.1027 - val_accuracy: 0.9662\n",
      "Epoch 11/20\n",
      "998/998 [==============================] - 15s 15ms/step - loss: 0.0787 - accuracy: 0.9743 - val_loss: 0.1058 - val_accuracy: 0.9646\n",
      "Epoch 12/20\n",
      "998/998 [==============================] - 15s 15ms/step - loss: 0.0748 - accuracy: 0.9759 - val_loss: 0.0931 - val_accuracy: 0.9690\n",
      "Epoch 13/20\n",
      "998/998 [==============================] - 15s 15ms/step - loss: 0.0741 - accuracy: 0.9751 - val_loss: 0.0993 - val_accuracy: 0.9674\n",
      "Epoch 14/20\n",
      "998/998 [==============================] - 15s 15ms/step - loss: 0.0734 - accuracy: 0.9765 - val_loss: 0.0968 - val_accuracy: 0.9690\n",
      "Epoch 15/20\n",
      "998/998 [==============================] - 14s 14ms/step - loss: 0.0668 - accuracy: 0.9780 - val_loss: 0.0991 - val_accuracy: 0.9698\n",
      "Epoch 16/20\n",
      "998/998 [==============================] - 15s 15ms/step - loss: 0.0687 - accuracy: 0.9776 - val_loss: 0.0891 - val_accuracy: 0.9708\n",
      "Epoch 17/20\n",
      "998/998 [==============================] - 14s 14ms/step - loss: 0.0616 - accuracy: 0.9796 - val_loss: 0.0895 - val_accuracy: 0.9707\n",
      "Epoch 18/20\n",
      "998/998 [==============================] - 14s 14ms/step - loss: 0.0597 - accuracy: 0.9804 - val_loss: 0.0869 - val_accuracy: 0.9716\n",
      "Epoch 19/20\n",
      "998/998 [==============================] - 14s 14ms/step - loss: 0.0579 - accuracy: 0.9810 - val_loss: 0.0915 - val_accuracy: 0.9715\n",
      "Epoch 20/20\n",
      "998/998 [==============================] - 14s 14ms/step - loss: 0.0569 - accuracy: 0.9812 - val_loss: 0.0817 - val_accuracy: 0.9734\n"
     ]
    }
   ],
   "source": [
    "if saved_model == 0:\n",
    "    # Train model\n",
    "    # Note that validation data is NOT used to train model at all\n",
    "    history = model.fit(train_data, train_label, validation_data=(test_data, test_label), callbacks=[callTensorboard], epochs=20, batch_size=50)\n",
    "    model.save('LSTM.h5')    \n",
    "else:\n",
    "    # Load model from .h5 file\n",
    "    model = load_model('LSTM.h5')"
   ]
  },
  {
   "cell_type": "code",
   "execution_count": 13,
   "id": "ab4fd957",
   "metadata": {},
   "outputs": [
    {
     "name": "stdout",
     "output_type": "stream",
     "text": [
      "554/554 [==============================] - 5s 7ms/step - loss: 0.0817 - accuracy: 0.9734\n"
     ]
    }
   ],
   "source": [
    "# Evaluate model performance with test set\n",
    "test_accuracy = model.evaluate(test_data, test_label)"
   ]
  },
  {
   "cell_type": "code",
   "execution_count": 14,
   "id": "32955b20",
   "metadata": {},
   "outputs": [
    {
     "data": {
      "image/png": "[encoded data removed]",
      "text/plain": [
       "<Figure size 432x288 with 1 Axes>"
      ]
     },
     "metadata": {
      "needs_background": "light"
     },
     "output_type": "display_data"
    }
   ],
   "source": [
    "# Plot model accuracy over epoch if trained\n",
    "if saved_model == 0:\n",
    "    plt.plot(history.history['accuracy'])\n",
    "    plt.plot(history.history['val_accuracy'])\n",
    "    plt.title('Model Accuracy')\n",
    "    plt.ylabel('accuracy')\n",
    "    plt.xlabel('epoch')\n",
    "    plt.legend(['train', 'val'], loc='upper right')\n",
    "    plt.show()"
   ]
  },
  {
   "cell_type": "code",
   "execution_count": null,
   "id": "3ccdd8dd",
   "metadata": {},
   "outputs": [],
   "source": [
    "%tensorboard --logdir logs/fit"
   ]
  }
 ],
 "metadata": {
  "kernelspec": {
   "display_name": "Python 3",
   "language": "python",
   "name": "python3"
  },
  "language_info": {
   "codemirror_mode": {
    "name": "ipython",
    "version": 3
   },
   "file_extension": ".py",
   "mimetype": "text/x-python",
   "name": "python",
   "nbconvert_exporter": "python",
   "pygments_lexer": "ipython3",
   "version": "3.8.8"
  }
 },
 "nbformat": 4,
 "nbformat_minor": 5
}
