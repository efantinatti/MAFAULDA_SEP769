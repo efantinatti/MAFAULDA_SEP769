{
 "cells": [
  {
   "cell_type": "code",
   "execution_count": 1,
   "id": "3a9b57e5",
   "metadata": {},
   "outputs": [],
   "source": [
    "from keras.models import Sequential\n",
    "from keras.layers import Dense, Dropout, Flatten, SimpleRNN, LSTM\n",
    "from keras.utils import np_utils\n",
    "import numpy as np\n",
    "import glob"
   ]
  },
  {
   "cell_type": "markdown",
   "id": "ce77091c",
   "metadata": {},
   "source": [
    "Saving 3D Arrays:\n",
    "https://www.geeksforgeeks.org/how-to-load-and-save-3d-numpy-array-to-file-using-savetxt-and-loadtxt-functions/"
   ]
  },
  {
   "cell_type": "code",
   "execution_count": 2,
   "id": "828eed9b",
   "metadata": {},
   "outputs": [
    {
     "name": "stdout",
     "output_type": "stream",
     "text": [
      "(2830,)\n",
      "Loaded data files...\n"
     ]
    }
   ],
   "source": [
    "#Loads train/test data from .txt files to np arrays \n",
    "train_reload = np.loadtxt(\"jul19data/train_data.txt\")\n",
    "test_reload = np.loadtxt(\"jul19data/test_data.txt\")\n",
    "\n",
    "train_label = np.loadtxt('jul19data/train_label.txt').astype(int)\n",
    "test_label = np.loadtxt('jul19data/test_label.txt').astype(int)\n",
    "\n",
    "print(\"Loaded data files...\")"
   ]
  },
  {
   "cell_type": "code",
   "execution_count": 13,
   "id": "22271df0",
   "metadata": {},
   "outputs": [],
   "source": [
    "train_data = np.reshape(train_reload,(-1,50, 8))\n",
    "test_data = np.reshape(test_reload,(-1,50, 8))"
   ]
  },
  {
   "cell_type": "code",
   "execution_count": 14,
   "id": "41678331",
   "metadata": {},
   "outputs": [
    {
     "name": "stdout",
     "output_type": "stream",
     "text": [
      "(28300,)\n",
      "(9900,)\n"
     ]
    }
   ],
   "source": [
    "train_label = np.loadtxt('jul19data/train_label.txt').astype(int)\n",
    "test_label = np.loadtxt('jul19data/test_label.txt').astype(int)\n",
    "\n",
    "A = sum(train_label == 1)\n",
    "B = sum(test_label == 1)\n",
    "train_label = np.zeros((train_label.shape-A)*10)\n",
    "train_label = np.append(train_label,np.ones(A*10))\n",
    "test_label = np.zeros((test_label.shape-B)*10)\n",
    "test_label = np.append(test_label,np.ones(B*10))\n",
    "print(train_label.shape)\n",
    "print(test_label.shape)"
   ]
  },
  {
   "cell_type": "code",
   "execution_count": 15,
   "id": "16153052",
   "metadata": {},
   "outputs": [
    {
     "name": "stdout",
     "output_type": "stream",
     "text": [
      "Model: \"sequential_2\"\n",
      "_________________________________________________________________\n",
      "Layer (type)                 Output Shape              Param #   \n",
      "=================================================================\n",
      "lstm_6 (LSTM)                (None, 50, 24)            3168      \n",
      "_________________________________________________________________\n",
      "lstm_7 (LSTM)                (None, 50, 12)            1776      \n",
      "_________________________________________________________________\n",
      "lstm_8 (LSTM)                (None, 4)                 272       \n",
      "_________________________________________________________________\n",
      "dense_2 (Dense)              (None, 1)                 5         \n",
      "=================================================================\n",
      "Total params: 5,221\n",
      "Trainable params: 5,221\n",
      "Non-trainable params: 0\n",
      "_________________________________________________________________\n"
     ]
    }
   ],
   "source": [
    "#Build the model\n",
    "model = Sequential()\n",
    "model.add(LSTM(24, input_shape = (50,8), activation = 'tanh', recurrent_activation='sigmoid', return_sequences=True))\n",
    "model.add(LSTM(12, activation = 'tanh', recurrent_activation='sigmoid', return_sequences=True))\n",
    "model.add(LSTM(4, activation = 'tanh', recurrent_activation='sigmoid'))\n",
    "model.add(Dense(1, activation='sigmoid'))\n",
    "# Compile model\n",
    "model.compile(loss='binary_crossentropy', optimizer='adam', metrics=['accuracy'])\n",
    "model.summary()"
   ]
  },
  {
   "cell_type": "code",
   "execution_count": 16,
   "id": "fe16fe62",
   "metadata": {
    "scrolled": true
   },
   "outputs": [
    {
     "name": "stdout",
     "output_type": "stream",
     "text": [
      "Epoch 1/20\n",
      "57/57 [==============================] - 8s 41ms/step - loss: 0.6015 - accuracy: 0.8134 - val_loss: 0.4629 - val_accuracy: 0.8668\n",
      "Epoch 2/20\n",
      "57/57 [==============================] - 1s 18ms/step - loss: 0.4338 - accuracy: 0.8798 - val_loss: 0.3789 - val_accuracy: 0.8887\n",
      "Epoch 3/20\n",
      "57/57 [==============================] - 1s 18ms/step - loss: 0.3643 - accuracy: 0.8913 - val_loss: 0.3362 - val_accuracy: 0.8951\n",
      "Epoch 4/20\n",
      "57/57 [==============================] - 1s 18ms/step - loss: 0.3275 - accuracy: 0.8984 - val_loss: 0.3128 - val_accuracy: 0.9051\n",
      "Epoch 5/20\n",
      "57/57 [==============================] - 1s 17ms/step - loss: 0.3021 - accuracy: 0.9082 - val_loss: 0.2972 - val_accuracy: 0.9084\n",
      "Epoch 6/20\n",
      "57/57 [==============================] - 1s 17ms/step - loss: 0.2913 - accuracy: 0.9098 - val_loss: 0.2904 - val_accuracy: 0.9081\n",
      "Epoch 7/20\n",
      "57/57 [==============================] - 1s 17ms/step - loss: 0.2791 - accuracy: 0.9141 - val_loss: 0.2823 - val_accuracy: 0.9061\n",
      "Epoch 8/20\n",
      "57/57 [==============================] - 1s 18ms/step - loss: 0.2575 - accuracy: 0.9188 - val_loss: 0.2292 - val_accuracy: 0.9226\n",
      "Epoch 9/20\n",
      "57/57 [==============================] - 1s 17ms/step - loss: 0.2056 - accuracy: 0.9332 - val_loss: 0.2069 - val_accuracy: 0.9301\n",
      "Epoch 10/20\n",
      "57/57 [==============================] - 1s 17ms/step - loss: 0.2039 - accuracy: 0.9329 - val_loss: 0.2573 - val_accuracy: 0.9039\n",
      "Epoch 11/20\n",
      "57/57 [==============================] - 1s 17ms/step - loss: 0.2413 - accuracy: 0.9169 - val_loss: 0.2156 - val_accuracy: 0.9269\n",
      "Epoch 12/20\n",
      "57/57 [==============================] - 1s 18ms/step - loss: 0.1974 - accuracy: 0.9338 - val_loss: 0.1909 - val_accuracy: 0.9353\n",
      "Epoch 13/20\n",
      "57/57 [==============================] - 1s 17ms/step - loss: 0.1734 - accuracy: 0.9437 - val_loss: 0.1881 - val_accuracy: 0.9310\n",
      "Epoch 14/20\n",
      "57/57 [==============================] - 1s 18ms/step - loss: 0.1629 - accuracy: 0.9450 - val_loss: 0.1833 - val_accuracy: 0.9340\n",
      "Epoch 15/20\n",
      "57/57 [==============================] - 1s 18ms/step - loss: 0.1564 - accuracy: 0.9501 - val_loss: 0.1773 - val_accuracy: 0.9369\n",
      "Epoch 16/20\n",
      "57/57 [==============================] - 1s 18ms/step - loss: 0.1521 - accuracy: 0.9508 - val_loss: 0.1743 - val_accuracy: 0.9373\n",
      "Epoch 17/20\n",
      "57/57 [==============================] - 1s 18ms/step - loss: 0.1461 - accuracy: 0.9505 - val_loss: 0.1679 - val_accuracy: 0.9388\n",
      "Epoch 18/20\n",
      "57/57 [==============================] - 1s 18ms/step - loss: 0.1415 - accuracy: 0.9526 - val_loss: 0.1654 - val_accuracy: 0.9418\n",
      "Epoch 19/20\n",
      "57/57 [==============================] - 1s 17ms/step - loss: 0.1410 - accuracy: 0.9520 - val_loss: 0.1657 - val_accuracy: 0.9405\n",
      "Epoch 20/20\n",
      "57/57 [==============================] - 1s 18ms/step - loss: 0.1441 - accuracy: 0.9491 - val_loss: 0.1678 - val_accuracy: 0.9338\n"
     ]
    },
    {
     "data": {
      "text/plain": [
       "<keras.callbacks.History at 0x181a1399b80>"
      ]
     },
     "execution_count": 16,
     "metadata": {},
     "output_type": "execute_result"
    }
   ],
   "source": [
    "model.fit(train_data, train_label, validation_data=(test_data, test_label), epochs=20, batch_size=500)"
   ]
  },
  {
   "cell_type": "code",
   "execution_count": 9,
   "id": "ab4fd957",
   "metadata": {},
   "outputs": [
    {
     "name": "stdout",
     "output_type": "stream",
     "text": [
      "120/120 [==============================] - 2s 17ms/step - loss: 0.3181 - accuracy: 0.8819\n"
     ]
    }
   ],
   "source": [
    "test_accuracy = model.evaluate(test_data, test_label)"
   ]
  },
  {
   "cell_type": "code",
   "execution_count": 22,
   "id": "eec7bc77",
   "metadata": {},
   "outputs": [],
   "source": [
    "#Load prediction data\n",
    "pred_load = np.loadtxt(\"jul19data/pred_data.txt\")\n",
    "pred_data = np.reshape(pred_load,(-1,50, 8))\n",
    "pred_label = np.loadtxt(\"jul19data/pred_label.txt\")\n",
    "A = sum(pred_label == 1)\n",
    "pred_label = np.zeros((pred_label.shape-A)*10)\n",
    "pred_label = np.append(pred_label,np.ones(A*10))"
   ]
  },
  {
   "cell_type": "code",
   "execution_count": 23,
   "id": "f9098717",
   "metadata": {},
   "outputs": [
    {
     "name": "stdout",
     "output_type": "stream",
     "text": [
      "310/310 [==============================] - 2s 6ms/step - loss: 0.1604 - accuracy: 0.9365\n"
     ]
    },
    {
     "data": {
      "text/plain": [
       "[0.16043104231357574, 0.9364646673202515]"
      ]
     },
     "execution_count": 23,
     "metadata": {},
     "output_type": "execute_result"
    }
   ],
   "source": [
    "model.evaluate(pred_data, pred_label)"
   ]
  },
  {
   "cell_type": "code",
   "execution_count": 9,
   "id": "f2b6bdd8",
   "metadata": {},
   "outputs": [
    {
     "name": "stdout",
     "output_type": "stream",
     "text": [
      "(50000, 8)\n"
     ]
    }
   ],
   "source": [
    "normal_load = np.loadtxt(\"normal/61.44.csv\", delimiter = ',')\n",
    "# normal_load = np.loadtxt(\"imbalance/35g/56.7296.csv\", delimiter = ',')\n",
    "normal_data = normal_load[200000:250000,:]\n",
    "print(normal_data.shape)"
   ]
  },
  {
   "cell_type": "code",
   "execution_count": 10,
   "id": "c57b55dc",
   "metadata": {},
   "outputs": [
    {
     "name": "stderr",
     "output_type": "stream",
     "text": [
      "C:\\Users\\Amir\\anaconda3\\envs\\tf-gpu-new\\lib\\site-packages\\keras\\engine\\sequential.py:450: UserWarning: `model.predict_classes()` is deprecated and will be removed after 2021-01-01. Please use instead:* `np.argmax(model.predict(x), axis=-1)`,   if your model does multi-class classification   (e.g. if it uses a `softmax` last-layer activation).* `(model.predict(x) > 0.5).astype(\"int32\")`,   if your model does binary classification   (e.g. if it uses a `sigmoid` last-layer activation).\n",
      "  warnings.warn('`model.predict_classes()` is deprecated and '\n"
     ]
    },
    {
     "name": "stdout",
     "output_type": "stream",
     "text": [
      "normal\\12.288.csv [0.532]\n",
      "normal\\13.1072.csv [0.1448]\n",
      "normal\\14.336.csv [0.0534]\n",
      "normal\\15.1552.csv [0.0546]\n",
      "normal\\16.1792.csv [0.269]\n",
      "normal\\17.2032.csv [0.3896]\n",
      "normal\\18.432.csv [0.0736]\n",
      "normal\\19.6608.csv [0.1546]\n",
      "normal\\20.2752.csv [0.2498]\n",
      "normal\\21.7088.csv [0.1638]\n",
      "normal\\22.3232.csv [0.0622]\n",
      "normal\\23.552.csv [0.0764]\n",
      "normal\\24.576.csv [0.1246]\n",
      "normal\\25.6.csv [0.1634]\n",
      "normal\\26.624.csv [0.104]\n",
      "normal\\27.4432.csv [0.1232]\n",
      "normal\\28.8768.csv [0.0706]\n",
      "normal\\29.4912.csv [0.186]\n",
      "normal\\30.72.csv [0.1014]\n",
      "normal\\31.744.csv [0.0428]\n",
      "normal\\32.9728.csv [0.0478]\n",
      "normal\\33.5872.csv [0.0586]\n",
      "normal\\34.2016.csv [0.0804]\n",
      "normal\\35.4304.csv [0.0368]\n",
      "normal\\36.4544.csv [0.035]\n",
      "normal\\37.6832.csv [0.0402]\n",
      "normal\\38.2976.csv [0.0378]\n",
      "normal\\39.3216.csv [0.028]\n",
      "normal\\40.3456.csv [0.045]\n",
      "normal\\41.7792.csv [0.0428]\n",
      "normal\\42.3936.csv [0.0502]\n",
      "normal\\43.6224.csv [0.0474]\n",
      "normal\\44.6464.csv [0.0422]\n",
      "normal\\45.4656.csv [0.0502]\n",
      "normal\\46.2848.csv [0.0518]\n",
      "normal\\47.7184.csv [0.0716]\n",
      "normal\\48.9472.csv [0.0516]\n",
      "normal\\49.5616.csv [0.3646]\n",
      "normal\\51.8144.csv [0.36]\n",
      "normal\\52.4288.csv [0.3822]\n",
      "normal\\53.8624.csv [0.3222]\n",
      "normal\\54.6816.csv [0.361]\n",
      "normal\\55.7056.csv [0.3266]\n",
      "normal\\56.7296.csv [0.2178]\n",
      "normal\\57.9584.csv [0.1454]\n",
      "normal\\58.7776.csv [0.184]\n",
      "normal\\59.5968.csv [0.393]\n",
      "normal\\60.416.csv [0.484]\n",
      "normal\\61.44.csv [0.4114]\n"
     ]
    }
   ],
   "source": [
    "files_no = glob.glob('normal/*.csv')\n",
    "# errors = numpy.empty(1)\n",
    "for f_on in files_no:\n",
    "    normal_data = np.loadtxt(f_on, delimiter=\",\")\n",
    "    normal_data = normal_data.reshape(-1,50,8)\n",
    "    y = model.predict_classes(normal_data)\n",
    "    print(f_on, sum(y)/y.shape[0])\n",
    "\n"
   ]
  },
  {
   "cell_type": "code",
   "execution_count": 10,
   "id": "e7d4261d",
   "metadata": {},
   "outputs": [],
   "source": [
    "#Load prediction data\n",
    "pred_load = np.loadtxt(\"pred_data.txt\")\n",
    "pred_label = np.zeros(490*500)\n",
    "pred_label = np.append(pred_label, np.ones(3330*500), axis=0)"
   ]
  },
  {
   "cell_type": "code",
   "execution_count": 11,
   "id": "7eae0b1d",
   "metadata": {},
   "outputs": [
    {
     "name": "stdout",
     "output_type": "stream",
     "text": [
      "WARNING:tensorflow:Model was constructed with shape (None, 500, 8) for input KerasTensor(type_spec=TensorSpec(shape=(None, 500, 8), dtype=tf.float32, name='lstm_input'), name='lstm_input', description=\"created by layer 'lstm_input'\"), but it was called on an input with incompatible shape (None, 1, 8).\n",
      "59688/59688 [==============================] - 197s 3ms/step - loss: 0.6386 - accuracy: 0.8145\n"
     ]
    },
    {
     "data": {
      "text/plain": [
       "[0.6385664343833923, 0.8144764304161072]"
      ]
     },
     "execution_count": 11,
     "metadata": {},
     "output_type": "execute_result"
    }
   ],
   "source": [
    "pred_data = np.reshape(pred_load,(-1, 1, 8))\n",
    "model.evaluate(pred_data, pred_label)"
   ]
  },
  {
   "cell_type": "code",
   "execution_count": 12,
   "id": "d3f3c831",
   "metadata": {},
   "outputs": [
    {
     "name": "stdout",
     "output_type": "stream",
     "text": [
      "[-0.56815   0.60986   0.034358  0.033138 -0.63896   0.016935 -0.17671\n",
      "  0.022027]\n"
     ]
    }
   ],
   "source": [
    "print(pred_data[0,0])"
   ]
  },
  {
   "cell_type": "code",
   "execution_count": null,
   "id": "3ccdd8dd",
   "metadata": {},
   "outputs": [],
   "source": []
  }
 ],
 "metadata": {
  "kernelspec": {
   "display_name": "Python [conda env:tf-gpu-new]",
   "language": "python",
   "name": "conda-env-tf-gpu-new-py"
  },
  "language_info": {
   "codemirror_mode": {
    "name": "ipython",
    "version": 3
   },
   "file_extension": ".py",
   "mimetype": "text/x-python",
   "name": "python",
   "nbconvert_exporter": "python",
   "pygments_lexer": "ipython3",
   "version": "3.8.1"
  }
 },
 "nbformat": 4,
 "nbformat_minor": 5
}
