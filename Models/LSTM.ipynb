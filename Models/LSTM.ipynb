{
  "nbformat": 4,
  "nbformat_minor": 5,
  "metadata": {
    "kernelspec": {
      "display_name": "Python 3",
      "language": "python",
      "name": "python3"
    },
    "language_info": {
      "codemirror_mode": {
        "name": "ipython",
        "version": 3
      },
      "file_extension": ".py",
      "mimetype": "text/x-python",
      "name": "python",
      "nbconvert_exporter": "python",
      "pygments_lexer": "ipython3",
      "version": "3.8.8"
    },
    "colab": {
      "name": "LSTM.ipynb",
      "provenance": []
    },
    "accelerator": "GPU"
  },
  "cells": [
    {
      "cell_type": "code",
      "metadata": {
        "id": "ec558735"
      },
      "source": [
        "# SEP769 - July 27, 2021\n",
        "# Amir Kamaleddine, Ernani Fantinatti, Mohammed Ibraheem\n",
        "# LSTM model for classifying normal and imbalanced motors as part of the MAFAULDA motor fault dataset\n",
        "# If training, we suggest you use GPU acceleration in Colab\n",
        "# https://github.com/efantinatti/MAFAULDA_SEP769"
      ],
      "id": "ec558735",
      "execution_count": null,
      "outputs": []
    },
    {
      "cell_type": "code",
      "metadata": {
        "id": "eca2a4d1"
      },
      "source": [
        "# Load in tensorboard extension to view results interactively\n",
        "%load_ext tensorboard\n"
      ],
      "id": "eca2a4d1",
      "execution_count": null,
      "outputs": []
    },
    {
      "cell_type": "code",
      "metadata": {
        "id": "3a9b57e5"
      },
      "source": [
        "# Load relevant libraries\n",
        "import tensorflow as tf\n",
        "from keras.models import Sequential, load_model\n",
        "from keras.layers import Dense, Dropout, Flatten, SimpleRNN, LSTM\n",
        "import matplotlib.pyplot as plt\n",
        "import numpy as np\n",
        "import glob\n",
        "import datetime\n"
      ],
      "id": "3a9b57e5",
      "execution_count": null,
      "outputs": []
    },
    {
      "cell_type": "code",
      "metadata": {
        "id": "827a68c3"
      },
      "source": [
        "# For Google Colab only\n",
        "# Pulling processed data from public folder\n",
        "# Credit to this stack overflow forum: https://stackoverflow.com/questions/38511444/python-download-files-from-google-drive-using-url\n",
        "import gdown\n",
        "\n",
        "url = 'https://drive.google.com/uc?id=1otE_HKfM24r9Hp1-e5xodSkgve1o3DO5' \n",
        "output = 'jul27data.zip'\n",
        "gdown.download(url, output, quiet=False)\n",
        "\n",
        "!unzip /content/jul27data.zip\n",
        "!rm -rf sample_data\n"
      ],
      "id": "827a68c3",
      "execution_count": null,
      "outputs": []
    },
    {
      "cell_type": "code",
      "metadata": {
        "colab": {
          "base_uri": "https://localhost:8080/"
        },
        "id": "47091faa",
        "outputId": "d3ab297c-3dbe-441a-e535-45e8e9c03ac7"
      },
      "source": [
        "# Cloning github repo\n",
        "!git clone https://github.com/efantinatti/MAFAULDA_SEP769.git\n"
      ],
      "id": "47091faa",
      "execution_count": 6,
      "outputs": [
        {
          "output_type": "stream",
          "text": [
            "fatal: destination path 'MAFAULDA_SEP769' already exists and is not an empty directory.\n"
          ],
          "name": "stdout"
        }
      ]
    },
    {
      "cell_type": "code",
      "metadata": {
        "id": "01d79360"
      },
      "source": [
        "# Decide whether to load model from a .h5 file or train a new one\n",
        "saved_model = 0\n"
      ],
      "id": "01d79360",
      "execution_count": 7,
      "outputs": []
    },
    {
      "cell_type": "code",
      "metadata": {
        "id": "1e3f618a"
      },
      "source": [
        "#Delete tensorboard logs from previous runs\n",
        "#If using Collab or Unix system use !rm, otherwise\n",
        "#if using windows skip this\n",
        "!rm -rf ./logs/\n"
      ],
      "id": "1e3f618a",
      "execution_count": 8,
      "outputs": []
    },
    {
      "cell_type": "code",
      "metadata": {
        "colab": {
          "base_uri": "https://localhost:8080/"
        },
        "id": "828eed9b",
        "outputId": "5f8a6cbd-5f77-46e6-de9d-be81dcdc57c3"
      },
      "source": [
        "# Loads train/test data from .txt files to np arrays \n",
        "# Ensure you choose the correct file directory\n",
        "\n",
        "dir = '/content/jul27data/'\n",
        "train_reload = np.loadtxt(dir + 'train_data.txt')\n",
        "test_reload = np.loadtxt(dir + 'test_data.txt')\n",
        "\n",
        "print(\"Loaded data files...\")\n"
      ],
      "id": "828eed9b",
      "execution_count": 9,
      "outputs": [
        {
          "output_type": "stream",
          "text": [
            "Loaded data files...\n"
          ],
          "name": "stdout"
        }
      ]
    },
    {
      "cell_type": "code",
      "metadata": {
        "id": "22271df0"
      },
      "source": [
        "# Shaping the training/testing data\n",
        "# Shapes the data into an nx50x8 array\n",
        "# Each sequence is 50 timesteps (1 ms of data collection)\n",
        "\n",
        "train_data = np.reshape(train_reload,(-1,50, 8))\n",
        "test_data = np.reshape(test_reload,(-1,50, 8))\n"
      ],
      "id": "22271df0",
      "execution_count": 10,
      "outputs": []
    },
    {
      "cell_type": "code",
      "metadata": {
        "id": "41678331"
      },
      "source": [
        "# Loads labels corresponding to training/test data\n",
        "train_label = np.loadtxt(dir + 'train_label.txt').astype(int)\n",
        "test_label = np.loadtxt(dir + 'test_label.txt').astype(int)\n",
        "\n",
        "# Organized data is labeled per 500 timesteps\n",
        "# To align the number of labels with number of sequences, need to correct number of labels\n",
        "# These lines correct the number of labels\n",
        "A = sum(train_label == 1)\n",
        "B = sum(test_label == 1)\n",
        "train_label = np.zeros((train_label.shape-A)*10)\n",
        "train_label = np.append(train_label,np.ones(A*10))\n",
        "test_label = np.zeros((test_label.shape-B)*10)\n",
        "test_label = np.append(test_label,np.ones(B*10))\n"
      ],
      "id": "41678331",
      "execution_count": 11,
      "outputs": []
    },
    {
      "cell_type": "code",
      "metadata": {
        "colab": {
          "base_uri": "https://localhost:8080/"
        },
        "id": "16153052",
        "outputId": "3c35e650-9f35-4245-80b8-e930aee0ac31"
      },
      "source": [
        "# Build the model\n",
        "# Sequential model\n",
        "model = Sequential()\n",
        "\n",
        "# LSTM layers\n",
        "model.add(LSTM(24, input_shape = (50,8), activation = 'tanh', recurrent_activation='sigmoid', return_sequences=True))\n",
        "model.add(LSTM(12, activation = 'tanh', recurrent_activation='sigmoid', return_sequences=True))\n",
        "model.add(LSTM(4, activation = 'tanh', recurrent_activation='sigmoid'))\n",
        "\n",
        "# Output layer\n",
        "model.add(Dense(1, activation='sigmoid'))\n",
        "\n",
        "# Compile model\n",
        "# Binary crossentropy for a binary classifier\n",
        "model.compile(loss='binary_crossentropy', optimizer='adam', metrics=['accuracy'])\n",
        "model.summary()\n"
      ],
      "id": "16153052",
      "execution_count": 12,
      "outputs": [
        {
          "output_type": "stream",
          "text": [
            "Model: \"sequential\"\n",
            "_________________________________________________________________\n",
            "Layer (type)                 Output Shape              Param #   \n",
            "=================================================================\n",
            "lstm (LSTM)                  (None, 50, 24)            3168      \n",
            "_________________________________________________________________\n",
            "lstm_1 (LSTM)                (None, 50, 12)            1776      \n",
            "_________________________________________________________________\n",
            "lstm_2 (LSTM)                (None, 4)                 272       \n",
            "_________________________________________________________________\n",
            "dense (Dense)                (None, 1)                 5         \n",
            "=================================================================\n",
            "Total params: 5,221\n",
            "Trainable params: 5,221\n",
            "Non-trainable params: 0\n",
            "_________________________________________________________________\n"
          ],
          "name": "stdout"
        }
      ]
    },
    {
      "cell_type": "code",
      "metadata": {
        "id": "d3ef0925"
      },
      "source": [
        "ld = \"logs/fit/\" + datetime.datetime.now().strftime(\"%Y%m%d-%H%M%S\")\n",
        "callTensorboard = tf.keras.callbacks.TensorBoard(log_dir=ld, histogram_freq=1)\n"
      ],
      "id": "d3ef0925",
      "execution_count": 13,
      "outputs": []
    },
    {
      "cell_type": "code",
      "metadata": {
        "scrolled": true,
        "colab": {
          "base_uri": "https://localhost:8080/"
        },
        "id": "fe16fe62",
        "outputId": "33423c3c-a8ba-4939-b093-5ace300cce05"
      },
      "source": [
        "if saved_model == 0:\n",
        "    # Train model\n",
        "    # Note that validation data is NOT used to train model at all\n",
        "    history = model.fit(train_data, train_label, validation_data=(test_data, test_label), callbacks=[callTensorboard], epochs=20, batch_size=50)\n",
        "    model.save('/content/MAFAULDA_SEP769/Models/LSTM.h5')    \n",
        "else:\n",
        "    # Load model from .h5 file\n",
        "    model = load_model('/content/MAFAULDA_SEP769/Models/LSTM.h5')\n"
      ],
      "id": "fe16fe62",
      "execution_count": 14,
      "outputs": [
        {
          "output_type": "stream",
          "text": [
            "Epoch 1/20\n",
            "998/998 [==============================] - 35s 12ms/step - loss: 0.4379 - accuracy: 0.8154 - val_loss: 0.2302 - val_accuracy: 0.9116\n",
            "Epoch 2/20\n",
            "998/998 [==============================] - 10s 10ms/step - loss: 0.2078 - accuracy: 0.9206 - val_loss: 0.1986 - val_accuracy: 0.9294\n",
            "Epoch 3/20\n",
            "998/998 [==============================] - 9s 10ms/step - loss: 0.1642 - accuracy: 0.9387 - val_loss: 0.1704 - val_accuracy: 0.9385\n",
            "Epoch 4/20\n",
            "998/998 [==============================] - 10s 10ms/step - loss: 0.1387 - accuracy: 0.9507 - val_loss: 0.1462 - val_accuracy: 0.9473\n",
            "Epoch 5/20\n",
            "998/998 [==============================] - 10s 10ms/step - loss: 0.1163 - accuracy: 0.9582 - val_loss: 0.1308 - val_accuracy: 0.9549\n",
            "Epoch 6/20\n",
            "998/998 [==============================] - 11s 11ms/step - loss: 0.1028 - accuracy: 0.9643 - val_loss: 0.1345 - val_accuracy: 0.9546\n",
            "Epoch 7/20\n",
            "998/998 [==============================] - 10s 10ms/step - loss: 0.0910 - accuracy: 0.9693 - val_loss: 0.1080 - val_accuracy: 0.9645\n",
            "Epoch 8/20\n",
            "998/998 [==============================] - 10s 10ms/step - loss: 0.0835 - accuracy: 0.9725 - val_loss: 0.1101 - val_accuracy: 0.9649\n",
            "Epoch 9/20\n",
            "998/998 [==============================] - 10s 10ms/step - loss: 0.0784 - accuracy: 0.9748 - val_loss: 0.1033 - val_accuracy: 0.9666\n",
            "Epoch 10/20\n",
            "998/998 [==============================] - 10s 10ms/step - loss: 0.0770 - accuracy: 0.9746 - val_loss: 0.1183 - val_accuracy: 0.9579\n",
            "Epoch 11/20\n",
            "998/998 [==============================] - 9s 9ms/step - loss: 0.0685 - accuracy: 0.9779 - val_loss: 0.0919 - val_accuracy: 0.9717\n",
            "Epoch 12/20\n",
            "998/998 [==============================] - 11s 11ms/step - loss: 0.0661 - accuracy: 0.9789 - val_loss: 0.0879 - val_accuracy: 0.9707\n",
            "Epoch 13/20\n",
            "998/998 [==============================] - 10s 11ms/step - loss: 0.0641 - accuracy: 0.9794 - val_loss: 0.0802 - val_accuracy: 0.9740\n",
            "Epoch 14/20\n",
            "998/998 [==============================] - 10s 10ms/step - loss: 0.0574 - accuracy: 0.9822 - val_loss: 0.0808 - val_accuracy: 0.9725\n",
            "Epoch 15/20\n",
            "998/998 [==============================] - 10s 10ms/step - loss: 0.0549 - accuracy: 0.9820 - val_loss: 0.0858 - val_accuracy: 0.9721\n",
            "Epoch 16/20\n",
            "998/998 [==============================] - 10s 10ms/step - loss: 0.0489 - accuracy: 0.9840 - val_loss: 0.0912 - val_accuracy: 0.9704\n",
            "Epoch 17/20\n",
            "998/998 [==============================] - 10s 10ms/step - loss: 0.0469 - accuracy: 0.9846 - val_loss: 0.0780 - val_accuracy: 0.9735\n",
            "Epoch 18/20\n",
            "998/998 [==============================] - 10s 10ms/step - loss: 0.0495 - accuracy: 0.9833 - val_loss: 0.0831 - val_accuracy: 0.9743\n",
            "Epoch 19/20\n",
            "998/998 [==============================] - 10s 10ms/step - loss: 0.0463 - accuracy: 0.9859 - val_loss: 0.0831 - val_accuracy: 0.9734\n",
            "Epoch 20/20\n",
            "998/998 [==============================] - 10s 10ms/step - loss: 0.0423 - accuracy: 0.9855 - val_loss: 0.0805 - val_accuracy: 0.9744\n"
          ],
          "name": "stdout"
        }
      ]
    },
    {
      "cell_type": "code",
      "metadata": {
        "colab": {
          "base_uri": "https://localhost:8080/"
        },
        "id": "ab4fd957",
        "outputId": "6b917fb5-b7c1-436a-f96a-5f23bc17adbe"
      },
      "source": [
        "# Evaluate model performance with test set\n",
        "test_accuracy = model.evaluate(test_data, test_label)\n"
      ],
      "id": "ab4fd957",
      "execution_count": 15,
      "outputs": [
        {
          "output_type": "stream",
          "text": [
            "554/554 [==============================] - 4s 5ms/step - loss: 0.0805 - accuracy: 0.9744\n"
          ],
          "name": "stdout"
        }
      ]
    },
    {
      "cell_type": "code",
      "metadata": {
        "colab": {
          "base_uri": "https://localhost:8080/",
          "height": 295
        },
        "id": "32955b20",
        "outputId": "2c009877-248c-4c33-b5c9-3ec2b37f8ce4"
      },
      "source": [
        "# Plot model accuracy over epoch if trained\n",
        "if saved_model == 0:\n",
        "    plt.plot(history.history['accuracy'])\n",
        "    plt.plot(history.history['val_accuracy'])\n",
        "    plt.title('Model Accuracy')\n",
        "    plt.ylabel('accuracy')\n",
        "    plt.xlabel('epoch')\n",
        "    plt.legend(['train', 'val'], loc='upper right')\n",
        "    plt.show()\n",
        "    "
      ],
      "id": "32955b20",
      "execution_count": 16,
      "outputs": [
        {
          "output_type": "display_data",
          "data": {
            "image/png": "[encoded data removed]",
            "text/plain": [
              "<Figure size 432x288 with 1 Axes>"
            ]
          },
          "metadata": {
            "tags": [],
            "needs_background": "light"
          }
        }
      ]
    },
    {
      "cell_type": "code",
      "metadata": {
        "colab": {
          "base_uri": "https://localhost:8080/",
          "height": 838
        },
        "id": "3ccdd8dd",
        "outputId": "cd40fe1e-397f-4463-8720-b139dc727f8c"
      },
      "source": [
        "%tensorboard --logdir logs/fit\n"
      ],
      "id": "3ccdd8dd",
      "execution_count": 25,
      "outputs": [
        {
          "output_type": "display_data",
          "data": {
            "text/plain": [
              "Reusing TensorBoard on port 6006 (pid 288), started 0:02:41 ago. (Use '!kill 288' to kill it.)"
            ]
          },
          "metadata": {
            "tags": []
          }
        },
        {
          "output_type": "display_data",
          "data": {
            "application/javascript": [
              "\n",
              "        (async () => {\n",
              "            const url = new URL(await google.colab.kernel.proxyPort(6006, {'cache': true}));\n",
              "            url.searchParams.set('tensorboardColab', 'true');\n",
              "            const iframe = document.createElement('iframe');\n",
              "            iframe.src = url;\n",
              "            iframe.setAttribute('width', '100%');\n",
              "            iframe.setAttribute('height', '800');\n",
              "            iframe.setAttribute('frameborder', 0);\n",
              "            document.body.appendChild(iframe);\n",
              "        })();\n",
              "    "
            ],
            "text/plain": [
              "<IPython.core.display.Javascript object>"
            ]
          },
          "metadata": {
            "tags": []
          }
        }
      ]
    }
  ]
}