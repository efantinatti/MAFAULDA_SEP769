{
 "cells": [
  {
   "cell_type": "code",
   "execution_count": 23,
   "id": "feecb04a",
   "metadata": {},
   "outputs": [],
   "source": [
    "# SEP769 - July 27, 2021\n",
    "# Amir Kamaleddine, Ernani Fantinatti, Mohammed Ibraheem\n",
    "# CNN model for classifying normal and imbalanced motors as part of the MAFAULDA motor fault dataset\n",
    "# https://github.com/efantinatti/MAFAULDA_SEP769"
   ]
  },
  {
   "cell_type": "code",
   "execution_count": 24,
   "id": "a03dec13",
   "metadata": {},
   "outputs": [
    {
     "name": "stdout",
     "output_type": "stream",
     "text": [
      "The tensorboard extension is already loaded. To reload it, use:\n",
      "  %reload_ext tensorboard\n"
     ]
    }
   ],
   "source": [
    "# Load in tensorboard extension to view results interactively\n",
    "%load_ext tensorboard"
   ]
  },
  {
   "cell_type": "code",
   "execution_count": 25,
   "id": "3a9b57e5",
   "metadata": {},
   "outputs": [],
   "source": [
    "# Load relevant libraries\n",
    "import numpy as np\n",
    "import tensorflow as tf\n",
    "from keras.models import Sequential, load_model\n",
    "from keras.layers import Dense, Dropout, Flatten\n",
    "from keras.layers.convolutional import Conv1D\n",
    "import matplotlib.pyplot as plt\n",
    "import glob\n",
    "import datetime"
   ]
  },
  {
   "cell_type": "code",
   "execution_count": 41,
   "id": "3381f7d1",
   "metadata": {},
   "outputs": [],
   "source": [
    "# Decide whether to load model from a .h5 file or train a new one\n",
    "saved_model = 0"
   ]
  },
  {
   "cell_type": "code",
   "execution_count": 27,
   "id": "552db1b5",
   "metadata": {},
   "outputs": [
    {
     "name": "stderr",
     "output_type": "stream",
     "text": [
      "'rm' is not recognized as an internal or external command,\n",
      "operable program or batch file.\n"
     ]
    }
   ],
   "source": [
    "#Delete tensorboard logs from previous runs\n",
    "#If using Collab or Unix system use !rm, otherwise\n",
    "#if using windows use...\n",
    "!rm -rf ./logs/"
   ]
  },
  {
   "cell_type": "code",
   "execution_count": 28,
   "id": "828eed9b",
   "metadata": {},
   "outputs": [
    {
     "name": "stdout",
     "output_type": "stream",
     "text": [
      "(2315000, 8)\n",
      "Loaded data files...\n"
     ]
    }
   ],
   "source": [
    "# Loads train/test data from .txt files to np arrays \n",
    "# Ensure you choose the correct file directory\n",
    "dir = \"D:/SEP769_DeepLearning/jul20data/\"\n",
    "\n",
    "train_reload = np.loadtxt(dir + 'train_data.txt')\n",
    "test_reload = np.loadtxt(dir + 'test_data.txt')\n",
    "\n",
    "print(train_reload.shape)\n",
    "print(\"Loaded data files...\")"
   ]
  },
  {
   "cell_type": "code",
   "execution_count": 29,
   "id": "496490af",
   "metadata": {},
   "outputs": [
    {
     "name": "stdout",
     "output_type": "stream",
     "text": [
      "(4630, 500, 8)\n"
     ]
    }
   ],
   "source": [
    "# Shaping the training/testing data\n",
    "# Shapes the data into an nx500x8 array\n",
    "# Each sequence is 500 timestamps (10 ms of data collection)\n",
    "\n",
    "train_data = np.reshape(train_reload,(-1,500, 8))\n",
    "test_data = np.reshape(test_reload,(-1,500, 8))\n",
    "print(train_data.shape)"
   ]
  },
  {
   "cell_type": "code",
   "execution_count": 30,
   "id": "4499bca2",
   "metadata": {},
   "outputs": [
    {
     "name": "stdout",
     "output_type": "stream",
     "text": [
      "2160\n",
      "2470\n"
     ]
    }
   ],
   "source": [
    "# Loads labels corresponding to training/test data\n",
    "train_label = np.loadtxt(dir + 'train_label.txt').astype(int)\n",
    "test_label = np.loadtxt(dir + 'test_label.txt').astype(int)\n",
    "print(sum(train_label == 0))\n",
    "print(sum(train_label != 0))"
   ]
  },
  {
   "cell_type": "code",
   "execution_count": 42,
   "id": "16153052",
   "metadata": {},
   "outputs": [
    {
     "name": "stdout",
     "output_type": "stream",
     "text": [
      "Model: \"sequential_2\"\n",
      "_________________________________________________________________\n",
      "Layer (type)                 Output Shape              Param #   \n",
      "=================================================================\n",
      "conv1d_2 (Conv1D)            (None, 50, 30)            1230      \n",
      "_________________________________________________________________\n",
      "flatten_2 (Flatten)          (None, 1500)              0         \n",
      "_________________________________________________________________\n",
      "dense_6 (Dense)              (None, 32)                48032     \n",
      "_________________________________________________________________\n",
      "dense_7 (Dense)              (None, 16)                528       \n",
      "_________________________________________________________________\n",
      "dense_8 (Dense)              (None, 1)                 17        \n",
      "=================================================================\n",
      "Total params: 49,807\n",
      "Trainable params: 49,807\n",
      "Non-trainable params: 0\n",
      "_________________________________________________________________\n"
     ]
    }
   ],
   "source": [
    "# Build the model\n",
    "# Sequential model\n",
    "model = Sequential()\n",
    "\n",
    "# Conv1D is used to perform convolution on temporal data\n",
    "model.add(Conv1D(30, (5), input_shape=(500, 8), padding = 'same', strides = 10, activation='relu'))\n",
    "\n",
    "# Flatten before feeding into dense layers\n",
    "model.add(Flatten())\n",
    "\n",
    "# Dense layers and Output Layer\n",
    "model.add(Dense(32, activation='relu'))\n",
    "model.add(Dense(16, activation='relu'))\n",
    "model.add(Dense(1, activation='sigmoid'))\n",
    "\n",
    "# Compile model\n",
    "# Binary crossentropy for a binary classifier\n",
    "model.compile(loss='binary_crossentropy', optimizer='adam', metrics=['accuracy'])\n",
    "model.summary()"
   ]
  },
  {
   "cell_type": "code",
   "execution_count": 43,
   "id": "66146451",
   "metadata": {},
   "outputs": [],
   "source": [
    "# Log model training process with Tensorboard\n",
    "ld = \"logs/fit/\" + datetime.datetime.now().strftime(\"%Y%m%d-%H%M%S\")\n",
    "callTensorboard = tf.keras.callbacks.TensorBoard(log_dir=ld, histogram_freq=1)"
   ]
  },
  {
   "cell_type": "code",
   "execution_count": 44,
   "id": "fe16fe62",
   "metadata": {
    "scrolled": true
   },
   "outputs": [
    {
     "name": "stdout",
     "output_type": "stream",
     "text": [
      "Epoch 1/10\n",
      "145/145 [==============================] - 3s 17ms/step - loss: 0.4826 - accuracy: 0.7392 - val_loss: 0.2304 - val_accuracy: 0.9311\n",
      "Epoch 2/10\n",
      "145/145 [==============================] - 1s 6ms/step - loss: 0.1368 - accuracy: 0.9568 - val_loss: 0.1620 - val_accuracy: 0.9707\n",
      "Epoch 3/10\n",
      "145/145 [==============================] - 1s 5ms/step - loss: 0.0753 - accuracy: 0.9847 - val_loss: 0.1266 - val_accuracy: 0.9720\n",
      "Epoch 4/10\n",
      "145/145 [==============================] - 1s 5ms/step - loss: 0.0572 - accuracy: 0.9838 - val_loss: 0.1031 - val_accuracy: 0.9750\n",
      "Epoch 5/10\n",
      "145/145 [==============================] - 1s 5ms/step - loss: 0.0461 - accuracy: 0.9866 - val_loss: 0.0716 - val_accuracy: 0.9805\n",
      "Epoch 6/10\n",
      "145/145 [==============================] - 1s 6ms/step - loss: 0.0267 - accuracy: 0.9937 - val_loss: 0.0622 - val_accuracy: 0.9774\n",
      "Epoch 7/10\n",
      "145/145 [==============================] - 1s 6ms/step - loss: 0.0281 - accuracy: 0.9922 - val_loss: 0.0591 - val_accuracy: 0.9780\n",
      "Epoch 8/10\n",
      "145/145 [==============================] - 1s 6ms/step - loss: 0.0173 - accuracy: 0.9962 - val_loss: 0.0623 - val_accuracy: 0.9780\n",
      "Epoch 9/10\n",
      "145/145 [==============================] - 1s 6ms/step - loss: 0.0105 - accuracy: 0.9975 - val_loss: 0.0610 - val_accuracy: 0.9787\n",
      "Epoch 10/10\n",
      "145/145 [==============================] - 1s 6ms/step - loss: 0.0136 - accuracy: 0.9952 - val_loss: 0.0706 - val_accuracy: 0.9811\n"
     ]
    }
   ],
   "source": [
    "if saved_model == 0:\n",
    "    # Train model\n",
    "    # Note that validation data is NOT used to train model at all\n",
    "    history = model.fit(train_data, train_label, validation_data=(test_data, test_label), callbacks = [callTensorboard], epochs=10, batch_size=32)\n",
    "    model.save('CNN.h5')\n",
    "else:\n",
    "    model = load_model('CNN.h5')"
   ]
  },
  {
   "cell_type": "code",
   "execution_count": 45,
   "id": "7eae0b1d",
   "metadata": {},
   "outputs": [
    {
     "name": "stdout",
     "output_type": "stream",
     "text": [
      "52/52 [==============================] - 0s 3ms/step - loss: 0.0706 - accuracy: 0.9811\n"
     ]
    }
   ],
   "source": [
    "# Evaluate model performance with prediction set\n",
    "pred_accuracy = model.evaluate(test_data, test_label)"
   ]
  },
  {
   "cell_type": "code",
   "execution_count": 46,
   "id": "aec2bfab",
   "metadata": {},
   "outputs": [
    {
     "data": {
      "image/png": "[encoded data removed]",
      "text/plain": [
       "<Figure size 432x288 with 1 Axes>"
      ]
     },
     "metadata": {
      "needs_background": "light"
     },
     "output_type": "display_data"
    }
   ],
   "source": [
    "# Plot model accuracy over epoch\n",
    "if saved_model == 0:\n",
    "    plt.plot(history.history['accuracy'])\n",
    "    plt.plot(history.history['val_accuracy'])\n",
    "    plt.title('Model Accuracy')\n",
    "    plt.ylabel('accuracy')\n",
    "    plt.xlabel('epoch')\n",
    "    plt.legend(['train', 'val'], loc='upper right')\n",
    "    plt.show()"
   ]
  },
  {
   "cell_type": "code",
   "execution_count": null,
   "id": "3ccdd8dd",
   "metadata": {},
   "outputs": [],
   "source": [
    "%tensorboard --logdir logs/fit"
   ]
  },
  {
   "cell_type": "code",
   "execution_count": null,
   "id": "1abf4d9e",
   "metadata": {},
   "outputs": [],
   "source": []
  }
 ],
 "metadata": {
  "kernelspec": {
   "display_name": "Python [conda env:tf-gpu-new]",
   "language": "python",
   "name": "conda-env-tf-gpu-new-py"
  },
  "language_info": {
   "codemirror_mode": {
    "name": "ipython",
    "version": 3
   },
   "file_extension": ".py",
   "mimetype": "text/x-python",
   "name": "python",
   "nbconvert_exporter": "python",
   "pygments_lexer": "ipython3",
   "version": "3.8.1"
  }
 },
 "nbformat": 4,
 "nbformat_minor": 5
}
