{
 "cells": [
  {
   "cell_type": "code",
   "execution_count": 1,
   "id": "feecb04a",
   "metadata": {},
   "outputs": [],
   "source": [
    "# SEP769 - July 27, 2021\n",
    "# Amir Kamaleddine, Ernani Fantinatti, Mohammed Ibraheem\n",
    "# CNN model for classifying normal and imbalanced motors as part of the MAFAULDA motor fault dataset\n",
    "# If training, we suggest you use GPU acceleration in Colab\n",
    "# https://github.com/efantinatti/MAFAULDA_SEP769"
   ]
  },
  {
   "cell_type": "code",
   "execution_count": 2,
   "id": "a03dec13",
   "metadata": {},
   "outputs": [],
   "source": [
    "# Load in tensorboard extension to view results interactively\n",
    "%load_ext tensorboard"
   ]
  },
  {
   "cell_type": "code",
   "execution_count": 1,
   "id": "3a9b57e5",
   "metadata": {},
   "outputs": [],
   "source": [
    "# Load relevant libraries\n",
    "import numpy as np\n",
    "import tensorflow as tf\n",
    "from keras.models import Sequential, load_model\n",
    "from keras.layers import Dense, Dropout, Flatten\n",
    "from keras.layers.convolutional import Conv1D\n",
    "import matplotlib.pyplot as plt\n",
    "import glob\n",
    "import datetime"
   ]
  },
  {
   "cell_type": "code",
   "execution_count": null,
   "id": "21e12471",
   "metadata": {},
   "outputs": [],
   "source": [
    "# For Google Colab only\n",
    "# Pulling processed data from public folder\n",
    "# Credit to this stack overflow forum: https://stackoverflow.com/questions/38511444/python-download-files-from-google-drive-using-url\n",
    "import gdown\n",
    "\n",
    "url = 'https://drive.google.com/uc?id=1otE_HKfM24r9Hp1-e5xodSkgve1o3DO5' \n",
    "output = 'jul27data.zip'\n",
    "gdown.download(url, output, quiet=False)\n",
    "\n",
    "import zipfile\n",
    "\n",
    "!unzip /content/jul27data.zip"
   ]
  },
  {
   "cell_type": "code",
   "execution_count": null,
   "id": "c9d88f6d",
   "metadata": {},
   "outputs": [],
   "source": [
    "# Cloning github repo\n",
    "!git clone https://github.com/efantinatti/MAFAULDA_SEP769.git"
   ]
  },
  {
   "cell_type": "code",
   "execution_count": 2,
   "id": "3381f7d1",
   "metadata": {},
   "outputs": [],
   "source": [
    "# Decide whether to load model from a .h5 file or train a new one\n",
    "# 0 if training the model again\n",
    "# 1 if loading model\n",
    "saved_model = 0"
   ]
  },
  {
   "cell_type": "code",
   "execution_count": 53,
   "id": "552db1b5",
   "metadata": {},
   "outputs": [
    {
     "name": "stderr",
     "output_type": "stream",
     "text": [
      "Invalid switch - \"logs\".\n"
     ]
    }
   ],
   "source": [
    "#Delete tensorboard logs from previous runs\n",
    "#If using Collab or Unix system use !rm, otherwise\n",
    "#if using windows use skip this line\n",
    "!rm -rf ./logs/"
   ]
  },
  {
   "cell_type": "code",
   "execution_count": 3,
   "id": "828eed9b",
   "metadata": {},
   "outputs": [
    {
     "name": "stdout",
     "output_type": "stream",
     "text": [
      "Loaded data files...\n"
     ]
    }
   ],
   "source": [
    "# Loads train/test data from .txt files to np arrays \n",
    "# Ensure you choose the correct file directory\n",
    "\n",
    "dir = '/content/jul27data/'\n",
    "\n",
    "train_reload = np.loadtxt(dir + 'train_data.txt')\n",
    "test_reload = np.loadtxt(dir + 'test_data.txt')\n",
    "\n",
    "print(\"Loaded data files...\")"
   ]
  },
  {
   "cell_type": "code",
   "execution_count": 4,
   "id": "496490af",
   "metadata": {},
   "outputs": [],
   "source": [
    "# Shaping the training/testing data\n",
    "# Shapes the data into an nx500x8 array\n",
    "# Each sequence is 500 timesteps (10 ms of data collection)\n",
    "\n",
    "train_data = np.reshape(train_reload,(-1,500, 8))\n",
    "test_data = np.reshape(test_reload,(-1,500, 8))"
   ]
  },
  {
   "cell_type": "code",
   "execution_count": 12,
   "id": "4499bca2",
   "metadata": {},
   "outputs": [],
   "source": [
    "# Loads labels corresponding to training/test data\n",
    "train_label = np.loadtxt(dir + 'train_label.txt').astype(int)\n",
    "test_label = np.loadtxt(dir + 'test_label.txt').astype(int)"
   ]
  },
  {
   "cell_type": "code",
   "execution_count": 6,
   "id": "16153052",
   "metadata": {},
   "outputs": [
    {
     "name": "stdout",
     "output_type": "stream",
     "text": [
      "Model: \"sequential\"\n",
      "_________________________________________________________________\n",
      "Layer (type)                 Output Shape              Param #   \n",
      "=================================================================\n",
      "conv1d (Conv1D)              (None, 500, 30)           1230      \n",
      "_________________________________________________________________\n",
      "flatten (Flatten)            (None, 15000)             0         \n",
      "_________________________________________________________________\n",
      "dense (Dense)                (None, 32)                480032    \n",
      "_________________________________________________________________\n",
      "dense_1 (Dense)              (None, 16)                528       \n",
      "_________________________________________________________________\n",
      "dense_2 (Dense)              (None, 1)                 17        \n",
      "=================================================================\n",
      "Total params: 481,807\n",
      "Trainable params: 481,807\n",
      "Non-trainable params: 0\n",
      "_________________________________________________________________\n"
     ]
    }
   ],
   "source": [
    "# Build the model\n",
    "# Sequential model\n",
    "model = Sequential()\n",
    "\n",
    "# Conv1D is used to perform convolution on temporal data\n",
    "model.add(Conv1D(30, (5), input_shape=(500, 8), padding = 'same', strides = 1, activation='relu'))\n",
    "\n",
    "# Flatten before feeding into dense layers\n",
    "model.add(Flatten())\n",
    "\n",
    "# Dense layers and Output Layer\n",
    "model.add(Dense(32, activation='relu'))\n",
    "model.add(Dense(16, activation='relu'))\n",
    "model.add(Dense(1, activation='sigmoid'))\n",
    "\n",
    "# Compile model\n",
    "# Binary crossentropy for a binary classifier\n",
    "model.compile(loss='binary_crossentropy', optimizer='adam', metrics=['accuracy'])\n",
    "model.summary()"
   ]
  },
  {
   "cell_type": "code",
   "execution_count": 7,
   "id": "66146451",
   "metadata": {},
   "outputs": [],
   "source": [
    "# Log model training process with Tensorboard\n",
    "ld = \"logs/fit/\" + datetime.datetime.now().strftime(\"%Y%m%d-%H%M%S\")\n",
    "callTensorboard = tf.keras.callbacks.TensorBoard(log_dir=ld, histogram_freq=1)"
   ]
  },
  {
   "cell_type": "code",
   "execution_count": 8,
   "id": "fe16fe62",
   "metadata": {
    "scrolled": true
   },
   "outputs": [
    {
     "name": "stdout",
     "output_type": "stream",
     "text": [
      "Epoch 1/10\n",
      "156/156 [==============================] - 23s 13ms/step - loss: 0.3897 - accuracy: 0.8109 - val_loss: 0.1303 - val_accuracy: 0.9706\n",
      "Epoch 2/10\n",
      "156/156 [==============================] - 1s 6ms/step - loss: 0.0943 - accuracy: 0.9710 - val_loss: 0.1136 - val_accuracy: 0.9746\n",
      "Epoch 3/10\n",
      "156/156 [==============================] - 1s 6ms/step - loss: 0.0573 - accuracy: 0.9831 - val_loss: 0.0930 - val_accuracy: 0.9712\n",
      "Epoch 4/10\n",
      "156/156 [==============================] - 1s 6ms/step - loss: 0.0405 - accuracy: 0.9899 - val_loss: 0.0603 - val_accuracy: 0.9791\n",
      "Epoch 5/10\n",
      "156/156 [==============================] - 1s 6ms/step - loss: 0.0447 - accuracy: 0.9881 - val_loss: 0.0941 - val_accuracy: 0.9746\n",
      "Epoch 6/10\n",
      "156/156 [==============================] - 1s 6ms/step - loss: 0.0241 - accuracy: 0.9928 - val_loss: 0.0727 - val_accuracy: 0.9774\n",
      "Epoch 7/10\n",
      "156/156 [==============================] - 1s 6ms/step - loss: 0.0300 - accuracy: 0.9907 - val_loss: 0.0799 - val_accuracy: 0.9814\n",
      "Epoch 8/10\n",
      "156/156 [==============================] - 1s 6ms/step - loss: 0.0147 - accuracy: 0.9969 - val_loss: 0.0987 - val_accuracy: 0.9814\n",
      "Epoch 9/10\n",
      "156/156 [==============================] - 1s 6ms/step - loss: 0.0118 - accuracy: 0.9969 - val_loss: 0.0855 - val_accuracy: 0.9785\n",
      "Epoch 10/10\n",
      "156/156 [==============================] - 1s 7ms/step - loss: 0.0130 - accuracy: 0.9961 - val_loss: 0.0722 - val_accuracy: 0.9746\n"
     ]
    }
   ],
   "source": [
    "if saved_model == 0:\n",
    "    # Train model\n",
    "    # Note that validation data is NOT used to train model at all\n",
    "    history = model.fit(train_data, train_label, validation_data=(test_data, test_label), callbacks = [callTensorboard], epochs=10, batch_size=32)\n",
    "    model.save('CNN.h5')\n",
    "else:\n",
    "    # Load model from .h5 file\n",
    "    model = load_model('CNN.h5')"
   ]
  },
  {
   "cell_type": "code",
   "execution_count": 9,
   "id": "7eae0b1d",
   "metadata": {},
   "outputs": [
    {
     "name": "stdout",
     "output_type": "stream",
     "text": [
      "56/56 [==============================] - 0s 3ms/step - loss: 0.0722 - accuracy: 0.9746\n"
     ]
    }
   ],
   "source": [
    "# Evaluate model performance with test set\n",
    "test_accuracy = model.evaluate(test_data, test_label)"
   ]
  },
  {
   "cell_type": "code",
   "execution_count": 10,
   "id": "aec2bfab",
   "metadata": {},
   "outputs": [
    {
     "data": {
      "image/png": "[encoded data removed]",
      "text/plain": [
       "<Figure size 432x288 with 1 Axes>"
      ]
     },
     "metadata": {
      "needs_background": "light"
     },
     "output_type": "display_data"
    }
   ],
   "source": [
    "# Plot model accuracy over epoch if trained\n",
    "if saved_model == 0:\n",
    "    plt.plot(history.history['accuracy'])\n",
    "    plt.plot(history.history['val_accuracy'])\n",
    "    plt.title('Model Accuracy')\n",
    "    plt.ylabel('accuracy')\n",
    "    plt.xlabel('epoch')\n",
    "    plt.legend(['train', 'val'], loc='upper right')\n",
    "    plt.show()"
   ]
  },
  {
   "cell_type": "code",
   "execution_count": null,
   "id": "3ccdd8dd",
   "metadata": {},
   "outputs": [],
   "source": [
    "%tensorboard --logdir logs/fit"
   ]
  },
  {
   "cell_type": "code",
   "execution_count": null,
   "id": "1abf4d9e",
   "metadata": {},
   "outputs": [],
   "source": []
  }
 ],
 "metadata": {
  "kernelspec": {
   "display_name": "Python [conda env:tf-gpu-new]",
   "language": "python",
   "name": "conda-env-tf-gpu-new-py"
  },
  "language_info": {
   "codemirror_mode": {
    "name": "ipython",
    "version": 3
   },
   "file_extension": ".py",
   "mimetype": "text/x-python",
   "name": "python",
   "nbconvert_exporter": "python",
   "pygments_lexer": "ipython3",
   "version": "3.8.1"
  }
 },
 "nbformat": 4,
 "nbformat_minor": 5
}
