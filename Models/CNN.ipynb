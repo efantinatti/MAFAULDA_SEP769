{
  "nbformat": 4,
  "nbformat_minor": 5,
  "metadata": {
    "kernelspec": {
      "display_name": "Python [conda env:tf-gpu-new]",
      "language": "python",
      "name": "conda-env-tf-gpu-new-py"
    },
    "language_info": {
      "codemirror_mode": {
        "name": "ipython",
        "version": 3
      },
      "file_extension": ".py",
      "mimetype": "text/x-python",
      "name": "python",
      "nbconvert_exporter": "python",
      "pygments_lexer": "ipython3",
      "version": "3.8.1"
    },
    "colab": {
      "name": "CNN.ipynb",
      "provenance": []
    },
    "accelerator": "GPU"
  },
  "cells": [
    {
      "cell_type": "code",
      "metadata": {
        "id": "feecb04a"
      },
      "source": [
        "# SEP769 - July 27, 2021\n",
        "# Amir Kamaleddine, Ernani Fantinatti, Mohammed Ibraheem\n",
        "# CNN model for classifying normal and imbalanced motors as part of the MAFAULDA motor fault dataset\n",
        "# If training, we suggest you use GPU acceleration in Colab\n",
        "# https://github.com/efantinatti/MAFAULDA_SEP769\n"
      ],
      "id": "feecb04a",
      "execution_count": 1,
      "outputs": []
    },
    {
      "cell_type": "code",
      "metadata": {
        "id": "a03dec13"
      },
      "source": [
        "# Load in tensorboard extension to view results interactively\n",
        "%load_ext tensorboard\n"
      ],
      "id": "a03dec13",
      "execution_count": 2,
      "outputs": []
    },
    {
      "cell_type": "code",
      "metadata": {
        "id": "3a9b57e5"
      },
      "source": [
        "# Load relevant libraries\n",
        "import numpy as np\n",
        "import tensorflow as tf\n",
        "from keras.models import Sequential, load_model\n",
        "from keras.layers import Dense, Dropout, Flatten\n",
        "from keras.layers.convolutional import Conv1D\n",
        "import matplotlib.pyplot as plt\n",
        "import glob\n",
        "import datetime"
      ],
      "id": "3a9b57e5",
      "execution_count": 3,
      "outputs": []
    },
    {
      "cell_type": "code",
      "metadata": {
        "colab": {
          "base_uri": "https://localhost:8080/"
        },
        "id": "21e12471",
        "outputId": "7c3a8650-b4cb-4e1d-c6fd-393cdc4b6ac9"
      },
      "source": [
        "# For Google Colab only\n",
        "# Pulling processed data from public folder\n",
        "# Credit to this stack overflow forum: https://stackoverflow.com/questions/38511444/python-download-files-from-google-drive-using-url\n",
        "import gdown\n",
        "\n",
        "url = 'https://drive.google.com/uc?id=1otE_HKfM24r9Hp1-e5xodSkgve1o3DO5' \n",
        "output = 'jul27data.zip'\n",
        "gdown.download(url, output, quiet=False)\n",
        "\n",
        "!unzip /content/jul27data.zip\n",
        "!rm -rf sample_data\n"
      ],
      "id": "21e12471",
      "execution_count": 4,
      "outputs": [
        {
          "output_type": "stream",
          "text": [
            "Downloading...\n",
            "From: https://drive.google.com/uc?id=1otE_HKfM24r9Hp1-e5xodSkgve1o3DO5\n",
            "To: /content/jul27data.zip\n",
            "154MB [00:01, 119MB/s]\n"
          ],
          "name": "stderr"
        },
        {
          "output_type": "stream",
          "text": [
            "Archive:  /content/jul27data.zip\n",
            "   creating: jul27data/\n",
            "  inflating: jul27data/test_data.txt  \n",
            "  inflating: jul27data/test_label.txt  \n",
            "  inflating: jul27data/train_data.txt  \n",
            "  inflating: jul27data/train_label.txt  \n"
          ],
          "name": "stdout"
        }
      ]
    },
    {
      "cell_type": "code",
      "metadata": {
        "colab": {
          "base_uri": "https://localhost:8080/"
        },
        "id": "c9d88f6d",
        "outputId": "26391852-6c20-4846-9599-243abb00e607"
      },
      "source": [
        "# Cloning github repo\n",
        "!git clone https://github.com/efantinatti/MAFAULDA_SEP769.git\n"
      ],
      "id": "c9d88f6d",
      "execution_count": 5,
      "outputs": [
        {
          "output_type": "stream",
          "text": [
            "Cloning into 'MAFAULDA_SEP769'...\n",
            "remote: Enumerating objects: 285, done.\u001b[K\n",
            "remote: Counting objects: 100% (285/285), done.\u001b[K\n",
            "remote: Compressing objects: 100% (240/240), done.\u001b[K\n",
            "remote: Total 285 (delta 91), reused 131 (delta 31), pack-reused 0\u001b[K\n",
            "Receiving objects: 100% (285/285), 11.37 MiB | 21.72 MiB/s, done.\n",
            "Resolving deltas: 100% (91/91), done.\n"
          ],
          "name": "stdout"
        }
      ]
    },
    {
      "cell_type": "code",
      "metadata": {
        "id": "3381f7d1"
      },
      "source": [
        "# Decide whether to load model from a .h5 file or train a new one\n",
        "# 0 if training the model again\n",
        "# 1 if loading model\n",
        "saved_model = 0\n"
      ],
      "id": "3381f7d1",
      "execution_count": 6,
      "outputs": []
    },
    {
      "cell_type": "code",
      "metadata": {
        "id": "552db1b5"
      },
      "source": [
        "#Delete tensorboard logs from previous runs\n",
        "#If using Collab or Unix system use !rm, otherwise\n",
        "#if using windows use skip this line\n",
        "!rm -rf ./logs/\n"
      ],
      "id": "552db1b5",
      "execution_count": 7,
      "outputs": []
    },
    {
      "cell_type": "code",
      "metadata": {
        "colab": {
          "base_uri": "https://localhost:8080/"
        },
        "id": "828eed9b",
        "outputId": "24ecaa75-f9df-4850-c756-52e20b714309"
      },
      "source": [
        "# Loads train/test data from .txt files to np arrays \n",
        "# Ensure you choose the correct file directory\n",
        "\n",
        "dir = '/content/jul27data/'\n",
        "\n",
        "train_reload = np.loadtxt(dir + 'train_data.txt')\n",
        "test_reload = np.loadtxt(dir + 'test_data.txt')\n",
        "\n",
        "print(\"Loaded data files...\")\n"
      ],
      "id": "828eed9b",
      "execution_count": 8,
      "outputs": [
        {
          "output_type": "stream",
          "text": [
            "Loaded data files...\n"
          ],
          "name": "stdout"
        }
      ]
    },
    {
      "cell_type": "code",
      "metadata": {
        "id": "496490af"
      },
      "source": [
        "# Shaping the training/testing data\n",
        "# Shapes the data into an nx500x8 array\n",
        "# Each sequence is 500 timesteps (10 ms of data collection)\n",
        "\n",
        "train_data = np.reshape(train_reload,(-1,500, 8))\n",
        "test_data = np.reshape(test_reload,(-1,500, 8))\n"
      ],
      "id": "496490af",
      "execution_count": 9,
      "outputs": []
    },
    {
      "cell_type": "code",
      "metadata": {
        "id": "4499bca2"
      },
      "source": [
        "# Loads labels corresponding to training/test data\n",
        "train_label = np.loadtxt(dir + 'train_label.txt').astype(int)\n",
        "test_label = np.loadtxt(dir + 'test_label.txt').astype(int)\n"
      ],
      "id": "4499bca2",
      "execution_count": 10,
      "outputs": []
    },
    {
      "cell_type": "code",
      "metadata": {
        "colab": {
          "base_uri": "https://localhost:8080/"
        },
        "id": "16153052",
        "outputId": "72898ecb-40d3-4f6a-9e4c-f2079a6a590a"
      },
      "source": [
        "# Build the model\n",
        "# Sequential model\n",
        "model = Sequential()\n",
        "\n",
        "# Conv1D is used to perform convolution on temporal data\n",
        "model.add(Conv1D(30, (5), input_shape=(500, 8), padding = 'same', strides = 1, activation='relu'))\n",
        "\n",
        "# Flatten before feeding into dense layers\n",
        "model.add(Flatten())\n",
        "\n",
        "# Dense layers and Output Layer\n",
        "model.add(Dense(32, activation='relu'))\n",
        "model.add(Dense(16, activation='relu'))\n",
        "model.add(Dense(1, activation='sigmoid'))\n",
        "\n",
        "# Compile model\n",
        "# Binary crossentropy for a binary classifier\n",
        "model.compile(loss='binary_crossentropy', optimizer='adam', metrics=['accuracy'])\n",
        "model.summary()\n"
      ],
      "id": "16153052",
      "execution_count": 11,
      "outputs": [
        {
          "output_type": "stream",
          "text": [
            "Model: \"sequential\"\n",
            "_________________________________________________________________\n",
            "Layer (type)                 Output Shape              Param #   \n",
            "=================================================================\n",
            "conv1d (Conv1D)              (None, 500, 30)           1230      \n",
            "_________________________________________________________________\n",
            "flatten (Flatten)            (None, 15000)             0         \n",
            "_________________________________________________________________\n",
            "dense (Dense)                (None, 32)                480032    \n",
            "_________________________________________________________________\n",
            "dense_1 (Dense)              (None, 16)                528       \n",
            "_________________________________________________________________\n",
            "dense_2 (Dense)              (None, 1)                 17        \n",
            "=================================================================\n",
            "Total params: 481,807\n",
            "Trainable params: 481,807\n",
            "Non-trainable params: 0\n",
            "_________________________________________________________________\n"
          ],
          "name": "stdout"
        }
      ]
    },
    {
      "cell_type": "code",
      "metadata": {
        "id": "66146451"
      },
      "source": [
        "# Log model training process with Tensorboard\n",
        "ld = \"logs/fit/\" + datetime.datetime.now().strftime(\"%Y%m%d-%H%M%S\")\n",
        "callTensorboard = tf.keras.callbacks.TensorBoard(log_dir=ld, histogram_freq=1)\n"
      ],
      "id": "66146451",
      "execution_count": 12,
      "outputs": []
    },
    {
      "cell_type": "code",
      "metadata": {
        "scrolled": true,
        "colab": {
          "base_uri": "https://localhost:8080/"
        },
        "id": "fe16fe62",
        "outputId": "323b4d11-73e9-4fad-83e6-090fabc339e7"
      },
      "source": [
        "if saved_model == 0:\n",
        "    # Train model\n",
        "    # Note that validation data is NOT used to train model at all\n",
        "    history = model.fit(train_data, train_label, validation_data=(test_data, test_label), callbacks = [callTensorboard], epochs=10, batch_size=32)\n",
        "    model.save('/content/MAFAULDA_SEP769/Models/CNN.h5')\n",
        "else:\n",
        "    # Load model from .h5 file\n",
        "    model = load_model('/content/MAFAULDA_SEP769/Models/CNN.h5')\n"
      ],
      "id": "fe16fe62",
      "execution_count": 13,
      "outputs": [
        {
          "output_type": "stream",
          "text": [
            "Epoch 1/10\n",
            "156/156 [==============================] - 45s 13ms/step - loss: 0.4008 - accuracy: 0.8132 - val_loss: 0.1853 - val_accuracy: 0.9531\n",
            "Epoch 2/10\n",
            "156/156 [==============================] - 1s 6ms/step - loss: 0.1111 - accuracy: 0.9635 - val_loss: 0.1439 - val_accuracy: 0.9650\n",
            "Epoch 3/10\n",
            "156/156 [==============================] - 1s 7ms/step - loss: 0.0675 - accuracy: 0.9786 - val_loss: 0.1298 - val_accuracy: 0.9751\n",
            "Epoch 4/10\n",
            "156/156 [==============================] - 1s 6ms/step - loss: 0.0510 - accuracy: 0.9872 - val_loss: 0.1075 - val_accuracy: 0.9638\n",
            "Epoch 5/10\n",
            "156/156 [==============================] - 1s 6ms/step - loss: 0.0457 - accuracy: 0.9855 - val_loss: 0.0810 - val_accuracy: 0.9763\n",
            "Epoch 6/10\n",
            "156/156 [==============================] - 1s 7ms/step - loss: 0.0260 - accuracy: 0.9926 - val_loss: 0.0741 - val_accuracy: 0.9802\n",
            "Epoch 7/10\n",
            "156/156 [==============================] - 1s 6ms/step - loss: 0.0193 - accuracy: 0.9953 - val_loss: 0.0740 - val_accuracy: 0.9847\n",
            "Epoch 8/10\n",
            "156/156 [==============================] - 1s 7ms/step - loss: 0.0150 - accuracy: 0.9973 - val_loss: 0.0630 - val_accuracy: 0.9768\n",
            "Epoch 9/10\n",
            "156/156 [==============================] - 1s 7ms/step - loss: 0.0136 - accuracy: 0.9962 - val_loss: 0.0743 - val_accuracy: 0.9780\n",
            "Epoch 10/10\n",
            "156/156 [==============================] - 1s 6ms/step - loss: 0.0244 - accuracy: 0.9908 - val_loss: 0.0662 - val_accuracy: 0.9814\n"
          ],
          "name": "stdout"
        }
      ]
    },
    {
      "cell_type": "code",
      "metadata": {
        "colab": {
          "base_uri": "https://localhost:8080/"
        },
        "id": "7eae0b1d",
        "outputId": "9c9096f1-7391-4509-ea31-3c32f7699e94"
      },
      "source": [
        "# Evaluate model performance with test set\n",
        "test_accuracy = model.evaluate(test_data, test_label)\n"
      ],
      "id": "7eae0b1d",
      "execution_count": 14,
      "outputs": [
        {
          "output_type": "stream",
          "text": [
            "56/56 [==============================] - 0s 3ms/step - loss: 0.0662 - accuracy: 0.9814\n"
          ],
          "name": "stdout"
        }
      ]
    },
    {
      "cell_type": "code",
      "metadata": {
        "colab": {
          "base_uri": "https://localhost:8080/",
          "height": 295
        },
        "id": "aec2bfab",
        "outputId": "9b02f9a3-6d35-417a-f48b-cb16fbd0bafa"
      },
      "source": [
        "# Plot model accuracy over epoch if trained\n",
        "#If you have chosen 'saved_model == 1', chart won't be presented.\n",
        "if saved_model == 0:\n",
        "    plt.plot(history.history['accuracy'])\n",
        "    plt.plot(history.history['val_accuracy'])\n",
        "    plt.title('Model Accuracy')\n",
        "    plt.ylabel('accuracy')\n",
        "    plt.xlabel('epoch')\n",
        "    plt.legend(['train', 'val'], loc='upper right')\n",
        "    plt.show()\n"
      ],
      "id": "aec2bfab",
      "execution_count": 15,
      "outputs": [
        {
          "output_type": "display_data",
          "data": {
            "image/png": "[encoded data removed]",
            "text/plain": [
              "<Figure size 432x288 with 1 Axes>"
            ]
          },
          "metadata": {
            "tags": [],
            "needs_background": "light"
          }
        }
      ]
    },
    {
      "cell_type": "code",
      "metadata": {
        "id": "3ccdd8dd"
      },
      "source": [
        "#If you have chosen 'saved_model == 1', Tensorboard won't work.\n",
        "%tensorboard --logdir logs/fit\n"
      ],
      "id": "3ccdd8dd",
      "execution_count": null,
      "outputs": []
    }
  ]
}