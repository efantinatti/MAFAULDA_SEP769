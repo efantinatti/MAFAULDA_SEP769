{
 "cells": [
  {
   "cell_type": "code",
   "execution_count": 27,
   "id": "3a9b57e5",
   "metadata": {},
   "outputs": [],
   "source": [
    "from keras.models import Sequential\n",
    "from keras.layers import Dense, Dropout, Flatten, SimpleRNN, LSTM\n",
    "from keras.utils import np_utils\n",
    "import matplotlib.pyplot as plt\n",
    "import numpy as np\n",
    "import glob"
   ]
  },
  {
   "cell_type": "markdown",
   "id": "ce77091c",
   "metadata": {},
   "source": [
    "Saving 3D Arrays:\n",
    "https://www.geeksforgeeks.org/how-to-load-and-save-3d-numpy-array-to-file-using-savetxt-and-loadtxt-functions/"
   ]
  },
  {
   "cell_type": "code",
   "execution_count": 6,
   "id": "828eed9b",
   "metadata": {},
   "outputs": [
    {
     "name": "stdout",
     "output_type": "stream",
     "text": [
      "Loaded data files...\n"
     ]
    }
   ],
   "source": [
    "#Loads train/test data from .txt files to np arrays \n",
    "train_reload = np.loadtxt(\"D:/SEP769_DeepLearning/jul20data/train_data.txt\")\n",
    "test_reload = np.loadtxt(\"D:/SEP769_DeepLearning/jul20data/test_data.txt\")\n",
    "\n",
    "print(\"Loaded data files...\")"
   ]
  },
  {
   "cell_type": "code",
   "execution_count": 22,
   "id": "22271df0",
   "metadata": {},
   "outputs": [
    {
     "name": "stdout",
     "output_type": "stream",
     "text": [
      "(46300, 50, 8)\n",
      "(16400, 50, 8)\n"
     ]
    }
   ],
   "source": [
    "train_data = np.reshape(train_reload,(-1,50, 8))\n",
    "test_data = np.reshape(test_reload,(-1,50, 8))\n",
    "print(train_data.shape)\n",
    "print(test_data.shape)"
   ]
  },
  {
   "cell_type": "code",
   "execution_count": 10,
   "id": "41678331",
   "metadata": {},
   "outputs": [
    {
     "name": "stdout",
     "output_type": "stream",
     "text": [
      "(46300,)\n",
      "(16400,)\n"
     ]
    }
   ],
   "source": [
    "train_label = np.loadtxt('D:/SEP769_DeepLearning/jul20data/train_label.txt').astype(int)\n",
    "test_label = np.loadtxt('D:/SEP769_DeepLearning/jul20data/test_label.txt').astype(int)\n",
    "\n",
    "A = sum(train_label == 1)\n",
    "B = sum(test_label == 1)\n",
    "train_label = np.zeros((train_label.shape-A)*10)\n",
    "train_label = np.append(train_label,np.ones(A*10))\n",
    "test_label = np.zeros((test_label.shape-B)*10)\n",
    "test_label = np.append(test_label,np.ones(B*10))\n",
    "print(train_label.shape)\n",
    "print(test_label.shape)"
   ]
  },
  {
   "cell_type": "code",
   "execution_count": 35,
   "id": "eec7bc77",
   "metadata": {},
   "outputs": [],
   "source": [
    "#Load prediction data\n",
    "pred_load = np.loadtxt(\"D:/SEP769_DeepLearning/jul19data/pred_data.txt\")\n",
    "pred_data = np.reshape(pred_load,(-1,50, 8))\n",
    "pred_label = np.loadtxt(\"D:/SEP769_DeepLearning/jul19data/pred_label.txt\")\n",
    "A = sum(pred_label == 1)\n",
    "pred_label = np.zeros((pred_label.shape-A)*10)\n",
    "pred_label = np.append(pred_label,np.ones(A*10))"
   ]
  },
  {
   "cell_type": "code",
   "execution_count": 55,
   "id": "16153052",
   "metadata": {},
   "outputs": [
    {
     "name": "stdout",
     "output_type": "stream",
     "text": [
      "Model: \"sequential_9\"\n",
      "_________________________________________________________________\n",
      "Layer (type)                 Output Shape              Param #   \n",
      "=================================================================\n",
      "lstm_29 (LSTM)               (None, 50, 24)            3168      \n",
      "_________________________________________________________________\n",
      "lstm_30 (LSTM)               (None, 50, 12)            1776      \n",
      "_________________________________________________________________\n",
      "lstm_31 (LSTM)               (None, 4)                 272       \n",
      "_________________________________________________________________\n",
      "dense_9 (Dense)              (None, 1)                 5         \n",
      "=================================================================\n",
      "Total params: 5,221\n",
      "Trainable params: 5,221\n",
      "Non-trainable params: 0\n",
      "_________________________________________________________________\n"
     ]
    }
   ],
   "source": [
    "#Build the model\n",
    "model = Sequential()\n",
    "model.add(LSTM(24, input_shape = (50,8), activation = 'tanh', recurrent_activation='sigmoid', return_sequences=True))\n",
    "# model.add(LSTM(24, activation = 'tanh', recurrent_activation='sigmoid', return_sequences=True))\n",
    "model.add(LSTM(12, activation = 'tanh', recurrent_activation='sigmoid', return_sequences=True))\n",
    "model.add(LSTM(4, activation = 'tanh', recurrent_activation='sigmoid'))\n",
    "model.add(Dense(1, activation='sigmoid'))\n",
    "# Compile model\n",
    "model.compile(loss='binary_crossentropy', optimizer='adam', metrics=['accuracy'])\n",
    "model.summary()"
   ]
  },
  {
   "cell_type": "code",
   "execution_count": 56,
   "id": "fe16fe62",
   "metadata": {
    "scrolled": true
   },
   "outputs": [
    {
     "name": "stdout",
     "output_type": "stream",
     "text": [
      "Epoch 1/20\n",
      "926/926 [==============================] - 20s 16ms/step - loss: 0.4388 - accuracy: 0.8087 - val_loss: 0.2387 - val_accuracy: 0.9073\n",
      "Epoch 2/20\n",
      "926/926 [==============================] - 13s 14ms/step - loss: 0.2076 - accuracy: 0.9218 - val_loss: 0.2024 - val_accuracy: 0.9234\n",
      "Epoch 3/20\n",
      "926/926 [==============================] - 12s 13ms/step - loss: 0.1723 - accuracy: 0.9364 - val_loss: 0.1653 - val_accuracy: 0.9420\n",
      "Epoch 4/20\n",
      "926/926 [==============================] - 13s 14ms/step - loss: 0.1405 - accuracy: 0.9495 - val_loss: 0.1456 - val_accuracy: 0.9503\n",
      "Epoch 5/20\n",
      "926/926 [==============================] - 13s 14ms/step - loss: 0.1247 - accuracy: 0.9554 - val_loss: 0.1507 - val_accuracy: 0.9480\n",
      "Epoch 6/20\n",
      "926/926 [==============================] - 14s 15ms/step - loss: 0.1146 - accuracy: 0.9594 - val_loss: 0.1311 - val_accuracy: 0.9557\n",
      "Epoch 7/20\n",
      "926/926 [==============================] - 14s 16ms/step - loss: 0.1088 - accuracy: 0.9612 - val_loss: 0.1288 - val_accuracy: 0.9552\n",
      "Epoch 8/20\n",
      "926/926 [==============================] - 13s 14ms/step - loss: 0.0955 - accuracy: 0.9687 - val_loss: 0.1183 - val_accuracy: 0.9607\n",
      "Epoch 9/20\n",
      "926/926 [==============================] - 13s 15ms/step - loss: 0.0912 - accuracy: 0.9679 - val_loss: 0.1093 - val_accuracy: 0.9624\n",
      "Epoch 10/20\n",
      "926/926 [==============================] - 14s 15ms/step - loss: 0.0861 - accuracy: 0.9715 - val_loss: 0.1097 - val_accuracy: 0.9643\n",
      "Epoch 11/20\n",
      "926/926 [==============================] - 14s 15ms/step - loss: 0.0796 - accuracy: 0.9733 - val_loss: 0.1005 - val_accuracy: 0.9674\n",
      "Epoch 12/20\n",
      "926/926 [==============================] - 14s 15ms/step - loss: 0.0756 - accuracy: 0.9750 - val_loss: 0.1011 - val_accuracy: 0.9654\n",
      "Epoch 13/20\n",
      "926/926 [==============================] - 13s 14ms/step - loss: 0.0721 - accuracy: 0.9762 - val_loss: 0.0907 - val_accuracy: 0.9705\n",
      "Epoch 14/20\n",
      "926/926 [==============================] - 13s 14ms/step - loss: 0.0665 - accuracy: 0.9784 - val_loss: 0.1059 - val_accuracy: 0.9641\n",
      "Epoch 15/20\n",
      "926/926 [==============================] - 13s 14ms/step - loss: 0.0669 - accuracy: 0.9787 - val_loss: 0.0952 - val_accuracy: 0.9701\n",
      "Epoch 16/20\n",
      "926/926 [==============================] - 14s 15ms/step - loss: 0.0661 - accuracy: 0.9790 - val_loss: 0.0896 - val_accuracy: 0.9705\n",
      "Epoch 17/20\n",
      "926/926 [==============================] - 13s 14ms/step - loss: 0.0644 - accuracy: 0.9787 - val_loss: 0.0834 - val_accuracy: 0.9717\n",
      "Epoch 18/20\n",
      "926/926 [==============================] - 14s 15ms/step - loss: 0.0589 - accuracy: 0.9809 - val_loss: 0.0903 - val_accuracy: 0.9731\n",
      "Epoch 19/20\n",
      "926/926 [==============================] - 13s 14ms/step - loss: 0.0580 - accuracy: 0.9810 - val_loss: 0.0902 - val_accuracy: 0.9710\n",
      "Epoch 20/20\n",
      "926/926 [==============================] - 13s 14ms/step - loss: 0.0567 - accuracy: 0.9812 - val_loss: 0.0924 - val_accuracy: 0.9724\n"
     ]
    }
   ],
   "source": [
    "history = model.fit(train_data, train_label, validation_data=(test_data, test_label), epochs=20, batch_size=50)"
   ]
  },
  {
   "cell_type": "code",
   "execution_count": 57,
   "id": "ab4fd957",
   "metadata": {},
   "outputs": [
    {
     "name": "stdout",
     "output_type": "stream",
     "text": [
      "513/513 [==============================] - 5s 7ms/step - loss: 0.0924 - accuracy: 0.9724\n"
     ]
    }
   ],
   "source": [
    "test_accuracy = model.evaluate(test_data, test_label)"
   ]
  },
  {
   "cell_type": "code",
   "execution_count": 58,
   "id": "32955b20",
   "metadata": {},
   "outputs": [
    {
     "data": {
      "image/png": "[encoded data removed]",
      "text/plain": [
       "<Figure size 432x288 with 1 Axes>"
      ]
     },
     "metadata": {
      "needs_background": "light"
     },
     "output_type": "display_data"
    }
   ],
   "source": [
    "plt.plot(history.history['accuracy'])\n",
    "plt.plot(history.history['val_accuracy'])\n",
    "plt.title('Model Accuracy')\n",
    "plt.ylabel('accuracy')\n",
    "plt.xlabel('epoch')\n",
    "plt.legend(['train', 'val'], loc='upper right')\n",
    "plt.show()"
   ]
  },
  {
   "cell_type": "code",
   "execution_count": 59,
   "id": "f9098717",
   "metadata": {},
   "outputs": [
    {
     "name": "stdout",
     "output_type": "stream",
     "text": [
      "310/310 [==============================] - 2s 7ms/step - loss: 0.1040 - accuracy: 0.9699\n"
     ]
    }
   ],
   "source": [
    "prediction_accuracy = model.evaluate(pred_data, pred_label)"
   ]
  },
  {
   "cell_type": "code",
   "execution_count": null,
   "id": "3ccdd8dd",
   "metadata": {},
   "outputs": [],
   "source": []
  }
 ],
 "metadata": {
  "kernelspec": {
   "display_name": "Python [conda env:tf-gpu-new]",
   "language": "python",
   "name": "conda-env-tf-gpu-new-py"
  },
  "language_info": {
   "codemirror_mode": {
    "name": "ipython",
    "version": 3
   },
   "file_extension": ".py",
   "mimetype": "text/x-python",
   "name": "python",
   "nbconvert_exporter": "python",
   "pygments_lexer": "ipython3",
   "version": "3.8.1"
  }
 },
 "nbformat": 4,
 "nbformat_minor": 5
}
