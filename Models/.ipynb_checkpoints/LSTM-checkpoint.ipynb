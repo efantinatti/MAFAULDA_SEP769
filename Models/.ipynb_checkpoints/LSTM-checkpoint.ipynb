{
 "cells": [
  {
   "cell_type": "code",
   "execution_count": 5,
   "id": "3a9b57e5",
   "metadata": {},
   "outputs": [],
   "source": [
    "from keras.models import Sequential\n",
    "from keras.layers import Dense, Dropout, Flatten, SimpleRNN, LSTM\n",
    "from keras.utils import np_utils\n",
    "import numpy as np\n",
    "import glob"
   ]
  },
  {
   "cell_type": "markdown",
   "id": "ce77091c",
   "metadata": {},
   "source": [
    "Saving 3D Arrays:\n",
    "https://www.geeksforgeeks.org/how-to-load-and-save-3d-numpy-array-to-file-using-savetxt-and-loadtxt-functions/"
   ]
  },
  {
   "cell_type": "code",
   "execution_count": 6,
   "id": "828eed9b",
   "metadata": {},
   "outputs": [
    {
     "name": "stdout",
     "output_type": "stream",
     "text": [
      "Loaded data files...\n"
     ]
    }
   ],
   "source": [
    "#Loads train/test data from .txt files to np arrays \n",
    "train_reload = np.loadtxt(\"D:/SEP769_DeepLearning/jul20data/train_data.txt\")\n",
    "test_reload = np.loadtxt(\"D:/SEP769_DeepLearning/jul20data/test_data.txt\")\n",
    "\n",
    "print(\"Loaded data files...\")"
   ]
  },
  {
   "cell_type": "code",
   "execution_count": 22,
   "id": "22271df0",
   "metadata": {},
   "outputs": [
    {
     "name": "stdout",
     "output_type": "stream",
     "text": [
      "(46300, 50, 8)\n",
      "(16400, 50, 8)\n"
     ]
    }
   ],
   "source": [
    "train_data = np.reshape(train_reload,(-1,50, 8))\n",
    "test_data = np.reshape(test_reload,(-1,50, 8))\n",
    "print(train_data.shape)\n",
    "print(test_data.shape)"
   ]
  },
  {
   "cell_type": "code",
   "execution_count": 10,
   "id": "41678331",
   "metadata": {},
   "outputs": [
    {
     "name": "stdout",
     "output_type": "stream",
     "text": [
      "(46300,)\n",
      "(16400,)\n"
     ]
    }
   ],
   "source": [
    "train_label = np.loadtxt('D:/SEP769_DeepLearning/jul20data/train_label.txt').astype(int)\n",
    "test_label = np.loadtxt('D:/SEP769_DeepLearning/jul20data/test_label.txt').astype(int)\n",
    "\n",
    "A = sum(train_label == 1)\n",
    "B = sum(test_label == 1)\n",
    "train_label = np.zeros((train_label.shape-A)*10)\n",
    "train_label = np.append(train_label,np.ones(A*10))\n",
    "test_label = np.zeros((test_label.shape-B)*10)\n",
    "test_label = np.append(test_label,np.ones(B*10))\n",
    "print(train_label.shape)\n",
    "print(test_label.shape)"
   ]
  },
  {
   "cell_type": "code",
   "execution_count": 16,
   "id": "16153052",
   "metadata": {},
   "outputs": [
    {
     "name": "stdout",
     "output_type": "stream",
     "text": [
      "Model: \"sequential_1\"\n",
      "_________________________________________________________________\n",
      "Layer (type)                 Output Shape              Param #   \n",
      "=================================================================\n",
      "lstm_3 (LSTM)                (None, 50, 24)            3168      \n",
      "_________________________________________________________________\n",
      "lstm_4 (LSTM)                (None, 50, 12)            1776      \n",
      "_________________________________________________________________\n",
      "lstm_5 (LSTM)                (None, 4)                 272       \n",
      "_________________________________________________________________\n",
      "dense_1 (Dense)              (None, 1)                 5         \n",
      "=================================================================\n",
      "Total params: 5,221\n",
      "Trainable params: 5,221\n",
      "Non-trainable params: 0\n",
      "_________________________________________________________________\n"
     ]
    }
   ],
   "source": [
    "#Build the model\n",
    "model = Sequential()\n",
    "model.add(LSTM(24, input_shape = (50,8), activation = 'tanh', recurrent_activation='sigmoid', return_sequences=True))\n",
    "model.add(LSTM(12, activation = 'tanh', recurrent_activation='sigmoid', return_sequences=True))\n",
    "model.add(LSTM(4, activation = 'tanh', recurrent_activation='sigmoid'))\n",
    "model.add(Dense(1, activation='sigmoid'))\n",
    "# Compile model\n",
    "model.compile(loss='binary_crossentropy', optimizer='adam', metrics=['accuracy'])\n",
    "model.summary()"
   ]
  },
  {
   "cell_type": "code",
   "execution_count": 17,
   "id": "fe16fe62",
   "metadata": {
    "scrolled": true
   },
   "outputs": [
    {
     "name": "stdout",
     "output_type": "stream",
     "text": [
      "Epoch 1/20\n",
      "926/926 [==============================] - 19s 16ms/step - loss: 0.4319 - accuracy: 0.8188 - val_loss: 0.2573 - val_accuracy: 0.9037\n",
      "Epoch 2/20\n",
      "926/926 [==============================] - 13s 14ms/step - loss: 0.2161 - accuracy: 0.9218 - val_loss: 0.2067 - val_accuracy: 0.9248\n",
      "Epoch 3/20\n",
      "926/926 [==============================] - 13s 14ms/step - loss: 0.1789 - accuracy: 0.9346 - val_loss: 0.1862 - val_accuracy: 0.9307\n",
      "Epoch 4/20\n",
      "926/926 [==============================] - 14s 15ms/step - loss: 0.1533 - accuracy: 0.9423 - val_loss: 0.1608 - val_accuracy: 0.9429\n",
      "Epoch 5/20\n",
      "926/926 [==============================] - 14s 15ms/step - loss: 0.1246 - accuracy: 0.9554 - val_loss: 0.1549 - val_accuracy: 0.9463\n",
      "Epoch 6/20\n",
      "926/926 [==============================] - 14s 15ms/step - loss: 0.1178 - accuracy: 0.9595 - val_loss: 0.1437 - val_accuracy: 0.9525\n",
      "Epoch 7/20\n",
      "926/926 [==============================] - 13s 14ms/step - loss: 0.1081 - accuracy: 0.9628 - val_loss: 0.1237 - val_accuracy: 0.9585\n",
      "Epoch 8/20\n",
      "926/926 [==============================] - 13s 14ms/step - loss: 0.0931 - accuracy: 0.9691 - val_loss: 0.1174 - val_accuracy: 0.9594\n",
      "Epoch 9/20\n",
      "926/926 [==============================] - 14s 15ms/step - loss: 0.0889 - accuracy: 0.9699 - val_loss: 0.1248 - val_accuracy: 0.9587\n",
      "Epoch 10/20\n",
      "926/926 [==============================] - 14s 15ms/step - loss: 0.0851 - accuracy: 0.9722 - val_loss: 0.1082 - val_accuracy: 0.9641\n",
      "Epoch 11/20\n",
      "926/926 [==============================] - 13s 14ms/step - loss: 0.0806 - accuracy: 0.9742 - val_loss: 0.1089 - val_accuracy: 0.9634\n",
      "Epoch 12/20\n",
      "926/926 [==============================] - 13s 14ms/step - loss: 0.0780 - accuracy: 0.9745 - val_loss: 0.1023 - val_accuracy: 0.9670\n",
      "Epoch 13/20\n",
      "926/926 [==============================] - 13s 14ms/step - loss: 0.0721 - accuracy: 0.9768 - val_loss: 0.1008 - val_accuracy: 0.9661\n",
      "Epoch 14/20\n",
      "926/926 [==============================] - 15s 16ms/step - loss: 0.0730 - accuracy: 0.9755 - val_loss: 0.0977 - val_accuracy: 0.9693\n",
      "Epoch 15/20\n",
      "926/926 [==============================] - 14s 15ms/step - loss: 0.0666 - accuracy: 0.9777 - val_loss: 0.1103 - val_accuracy: 0.9641\n",
      "Epoch 16/20\n",
      "926/926 [==============================] - 15s 16ms/step - loss: 0.0624 - accuracy: 0.9797 - val_loss: 0.1031 - val_accuracy: 0.9663\n",
      "Epoch 17/20\n",
      "926/926 [==============================] - 14s 15ms/step - loss: 0.0622 - accuracy: 0.9803 - val_loss: 0.0901 - val_accuracy: 0.9686\n",
      "Epoch 18/20\n",
      "926/926 [==============================] - 14s 15ms/step - loss: 0.0580 - accuracy: 0.9808 - val_loss: 0.0955 - val_accuracy: 0.9686\n",
      "Epoch 19/20\n",
      "926/926 [==============================] - 13s 14ms/step - loss: 0.0586 - accuracy: 0.9804 - val_loss: 0.0906 - val_accuracy: 0.9690\n",
      "Epoch 20/20\n",
      "926/926 [==============================] - 13s 14ms/step - loss: 0.0572 - accuracy: 0.9811 - val_loss: 0.0943 - val_accuracy: 0.9676\n"
     ]
    },
    {
     "data": {
      "text/plain": [
       "<keras.callbacks.History at 0x1d31c6114f0>"
      ]
     },
     "execution_count": 17,
     "metadata": {},
     "output_type": "execute_result"
    }
   ],
   "source": [
    "model.fit(train_data, train_label, validation_data=(test_data, test_label), epochs=20, batch_size=50)"
   ]
  },
  {
   "cell_type": "code",
   "execution_count": 18,
   "id": "ab4fd957",
   "metadata": {},
   "outputs": [
    {
     "name": "stdout",
     "output_type": "stream",
     "text": [
      "513/513 [==============================] - 5s 7ms/step - loss: 0.0943 - accuracy: 0.9676\n"
     ]
    }
   ],
   "source": [
    "test_accuracy = model.evaluate(test_data, test_label)"
   ]
  },
  {
   "cell_type": "code",
   "execution_count": 19,
   "id": "eec7bc77",
   "metadata": {},
   "outputs": [],
   "source": [
    "#Load prediction data\n",
    "pred_load = np.loadtxt(\"D:/SEP769_DeepLearning/jul19data/pred_data.txt\")\n",
    "pred_data = np.reshape(pred_load,(-1,50, 8))\n",
    "pred_label = np.loadtxt(\"D:/SEP769_DeepLearning/jul19data/pred_label.txt\")\n",
    "A = sum(pred_label == 1)\n",
    "pred_label = np.zeros((pred_label.shape-A)*10)\n",
    "pred_label = np.append(pred_label,np.ones(A*10))"
   ]
  },
  {
   "cell_type": "code",
   "execution_count": 21,
   "id": "f9098717",
   "metadata": {},
   "outputs": [
    {
     "name": "stdout",
     "output_type": "stream",
     "text": [
      "310/310 [==============================] - 2s 7ms/step - loss: 0.0937 - accuracy: 0.9693\n"
     ]
    }
   ],
   "source": [
    "prediction_accuracy = model.evaluate(pred_data, pred_label)"
   ]
  },
  {
   "cell_type": "code",
   "execution_count": null,
   "id": "3ccdd8dd",
   "metadata": {},
   "outputs": [],
   "source": []
  }
 ],
 "metadata": {
  "kernelspec": {
   "display_name": "Python [conda env:tf-gpu-new]",
   "language": "python",
   "name": "conda-env-tf-gpu-new-py"
  },
  "language_info": {
   "codemirror_mode": {
    "name": "ipython",
    "version": 3
   },
   "file_extension": ".py",
   "mimetype": "text/x-python",
   "name": "python",
   "nbconvert_exporter": "python",
   "pygments_lexer": "ipython3",
   "version": "3.8.1"
  }
 },
 "nbformat": 4,
 "nbformat_minor": 5
}
