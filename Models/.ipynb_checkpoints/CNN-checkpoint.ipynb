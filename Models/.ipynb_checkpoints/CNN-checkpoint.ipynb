{
 "cells": [
  {
   "cell_type": "code",
   "execution_count": 58,
   "id": "5936569e",
   "metadata": {},
   "outputs": [],
   "source": [
    "# import numpy as np\n",
    "# from tensorflow import random\n",
    "# # https://machinelearningmastery.com/reproducible-results-neural-networks-keras/\n",
    "# #Seed for repeatable results\n",
    "# seed = 1\n",
    "# np.random.seed(seed)\n",
    "# random.set_seed(seed)"
   ]
  },
  {
   "cell_type": "code",
   "execution_count": null,
   "id": "a03dec13",
   "metadata": {},
   "outputs": [],
   "source": [
    "%load_ext tensorboard"
   ]
  },
  {
   "cell_type": "code",
   "execution_count": 1,
   "id": "3a9b57e5",
   "metadata": {},
   "outputs": [],
   "source": [
    "import numpy as np\n",
    "from keras.models import Sequential\n",
    "from keras.layers import Dense, Dropout, Flatten\n",
    "from keras.layers.convolutional import Conv2D\n",
    "from keras.utils import np_utils\n",
    "import matplotlib.pyplot as plt\n",
    "import glob"
   ]
  },
  {
   "cell_type": "code",
   "execution_count": 60,
   "id": "828eed9b",
   "metadata": {},
   "outputs": [
    {
     "name": "stdout",
     "output_type": "stream",
     "text": [
      "(2830,)\n",
      "Loaded data files...\n"
     ]
    }
   ],
   "source": [
    "#Loads train/test data from .txt files to np arrays \n",
    "train_reload = np.loadtxt(\"jul20data/train_data.txt\")\n",
    "test_reload = np.loadtxt(\"jul20data/test_data.txt\")\n",
    "\n",
    "train_label = np.loadtxt('jul20data/train_label.txt').astype(int)\n",
    "test_label = np.loadtxt('jul20data/test_label.txt').astype(int)\n",
    "\n",
    "print(train_label.shape)\n",
    "print(\"Loaded data files...\")"
   ]
  },
  {
   "cell_type": "code",
   "execution_count": 61,
   "id": "496490af",
   "metadata": {},
   "outputs": [],
   "source": [
    "# Shaping the training data\n",
    "train_data = np.reshape(train_reload,(-1,500, 8, 1))\n",
    "test_data = np.reshape(test_reload,(-1,500, 8, 1))"
   ]
  },
  {
   "cell_type": "code",
   "execution_count": 62,
   "id": "4499bca2",
   "metadata": {},
   "outputs": [],
   "source": [
    "train_label = np.loadtxt('jul20data/train_label.txt').astype(int)\n",
    "test_label = np.loadtxt('jul20data/test_label.txt').astype(int)\n"
   ]
  },
  {
   "cell_type": "code",
   "execution_count": 63,
   "id": "e7d4261d",
   "metadata": {},
   "outputs": [],
   "source": [
    "#Load prediction data\n",
    "pred_load = np.loadtxt(\"jul19data/pred_data.txt\")\n",
    "pred_data = np.reshape(pred_load,(-1,500, 8, 1))\n",
    "pred_label = np.loadtxt(\"jul19data/pred_label.txt\")"
   ]
  },
  {
   "cell_type": "code",
   "execution_count": null,
   "id": "552db1b5",
   "metadata": {},
   "outputs": [],
   "source": [
    "!rm -rf ./logs/"
   ]
  },
  {
   "cell_type": "code",
   "execution_count": 2,
   "id": "16153052",
   "metadata": {},
   "outputs": [
    {
     "name": "stdout",
     "output_type": "stream",
     "text": [
      "Model: \"sequential\"\n",
      "_________________________________________________________________\n",
      "Layer (type)                 Output Shape              Param #   \n",
      "=================================================================\n",
      "conv2d (Conv2D)              (None, 500, 8, 30)        300       \n",
      "_________________________________________________________________\n",
      "flatten (Flatten)            (None, 120000)            0         \n",
      "_________________________________________________________________\n",
      "dense (Dense)                (None, 16)                1920016   \n",
      "_________________________________________________________________\n",
      "dense_1 (Dense)              (None, 1)                 17        \n",
      "=================================================================\n",
      "Total params: 1,920,333\n",
      "Trainable params: 1,920,333\n",
      "Non-trainable params: 0\n",
      "_________________________________________________________________\n"
     ]
    }
   ],
   "source": [
    "#Build the model\n",
    "model = Sequential()\n",
    "model.add(Conv2D(30, (9, 1), input_shape=(500, 8, 1), padding = 'same', activation='relu'))\n",
    "#model.add(Dropout(0.2))\n",
    "model.add(Flatten())\n",
    "# model.add(Dense(128, activation='relu'))\n",
    "# model.add(Dense(64, activation='relu'))\n",
    "# model.add(Dropout(0.2))\n",
    "# model.add(Dense(32, activation='relu'))\n",
    "model.add(Dense(16, activation='relu'))\n",
    "model.add(Dense(1, activation='sigmoid'))\n",
    "# Compile model\n",
    "model.compile(loss='binary_crossentropy', optimizer='adam', metrics=['accuracy'])\n",
    "model.summary()"
   ]
  },
  {
   "cell_type": "code",
   "execution_count": null,
   "id": "66146451",
   "metadata": {},
   "outputs": [],
   "source": [
    "ld = \"logs/fit/\" + datetime.datetime.now().strftime(\"%Y%m%d-%H%M%S\")\n",
    "callTensorboard = tf.keras.callbacks.TensorBoard(log_dir=ld, histogram_freq=1)"
   ]
  },
  {
   "cell_type": "code",
   "execution_count": 160,
   "id": "fe16fe62",
   "metadata": {
    "scrolled": true
   },
   "outputs": [
    {
     "name": "stdout",
     "output_type": "stream",
     "text": [
      "Epoch 1/10\n",
      "2830/2830 [==============================] - 17s 6ms/step - loss: 0.4054 - accuracy: 0.9024 - val_loss: 0.1820 - val_accuracy: 0.9333\n",
      "Epoch 2/10\n",
      "2830/2830 [==============================] - 15s 5ms/step - loss: 0.1650 - accuracy: 0.9288 - val_loss: 0.2072 - val_accuracy: 0.9535\n",
      "Epoch 3/10\n",
      "2830/2830 [==============================] - 15s 5ms/step - loss: 0.0895 - accuracy: 0.9709 - val_loss: 0.2265 - val_accuracy: 0.9495\n",
      "Epoch 4/10\n",
      "2830/2830 [==============================] - 15s 5ms/step - loss: 0.0594 - accuracy: 0.9809 - val_loss: 0.1264 - val_accuracy: 0.9667\n",
      "Epoch 5/10\n",
      "2830/2830 [==============================] - 16s 6ms/step - loss: 0.0427 - accuracy: 0.9855 - val_loss: 0.1859 - val_accuracy: 0.9636\n",
      "Epoch 6/10\n",
      "2830/2830 [==============================] - 15s 5ms/step - loss: 0.0587 - accuracy: 0.9880 - val_loss: 0.1323 - val_accuracy: 0.9414\n",
      "Epoch 7/10\n",
      "2830/2830 [==============================] - 15s 5ms/step - loss: 0.0406 - accuracy: 0.9904 - val_loss: 0.1437 - val_accuracy: 0.9667\n",
      "Epoch 8/10\n",
      "2830/2830 [==============================] - 16s 5ms/step - loss: 0.0335 - accuracy: 0.9864 - val_loss: 0.1570 - val_accuracy: 0.9768\n",
      "Epoch 9/10\n",
      "2830/2830 [==============================] - 16s 6ms/step - loss: 0.0701 - accuracy: 0.9835 - val_loss: 0.1006 - val_accuracy: 0.9687\n",
      "Epoch 10/10\n",
      "2830/2830 [==============================] - 15s 5ms/step - loss: 0.0249 - accuracy: 0.9920 - val_loss: 0.1087 - val_accuracy: 0.9697\n"
     ]
    }
   ],
   "source": [
    "history = model.fit(train_data, train_label, validation_data=(test_data, test_label), callbacks=[callTensorboard], epochs=10, batch_size=1)"
   ]
  },
  {
   "cell_type": "code",
   "execution_count": 161,
   "id": "7eae0b1d",
   "metadata": {},
   "outputs": [
    {
     "name": "stdout",
     "output_type": "stream",
     "text": [
      "31/31 [==============================] - 0s 4ms/step - loss: 0.0909 - accuracy: 0.9697\n"
     ]
    },
    {
     "data": {
      "text/plain": [
       "[0.09094946086406708, 0.9696969985961914]"
      ]
     },
     "execution_count": 161,
     "metadata": {},
     "output_type": "execute_result"
    }
   ],
   "source": [
    "model.evaluate(pred_data, pred_label)"
   ]
  },
  {
   "cell_type": "code",
   "execution_count": 13,
   "id": "aec2bfab",
   "metadata": {},
   "outputs": [
    {
     "data": {
      "image/png": "[encoded data removed]",
      "text/plain": [
       "<Figure size 432x288 with 1 Axes>"
      ]
     },
     "metadata": {
      "needs_background": "light"
     },
     "output_type": "display_data"
    }
   ],
   "source": [
    "plt.plot(history.history['accuracy'])\n",
    "plt.plot(history.history['val_accuracy'])\n",
    "plt.title('Model Accuracy')\n",
    "plt.ylabel('accuracy')\n",
    "plt.xlabel('epoch')\n",
    "plt.legend(['train', 'val'], loc='upper right')\n",
    "plt.show()"
   ]
  },
  {
   "cell_type": "code",
   "execution_count": 27,
   "id": "ab4fd957",
   "metadata": {},
   "outputs": [
    {
     "name": "stdout",
     "output_type": "stream",
     "text": [
      "31/31 [==============================] - 0s 3ms/step - loss: 0.1144 - accuracy: 0.9808\n"
     ]
    }
   ],
   "source": [
    "test_accuracy = model.evaluate(test_data, test_label)"
   ]
  },
  {
   "cell_type": "code",
   "execution_count": null,
   "id": "3ccdd8dd",
   "metadata": {},
   "outputs": [],
   "source": [
    "%tensorboard --logdir logs/fit"
   ]
  }
 ],
 "metadata": {
  "kernelspec": {
   "display_name": "Python 3 (ipykernel)",
   "language": "python",
   "name": "python3"
  },
  "language_info": {
   "codemirror_mode": {
    "name": "ipython",
    "version": 3
   },
   "file_extension": ".py",
   "mimetype": "text/x-python",
   "name": "python",
   "nbconvert_exporter": "python",
   "pygments_lexer": "ipython3",
   "version": "3.9.5"
  }
 },
 "nbformat": 4,
 "nbformat_minor": 5
}
