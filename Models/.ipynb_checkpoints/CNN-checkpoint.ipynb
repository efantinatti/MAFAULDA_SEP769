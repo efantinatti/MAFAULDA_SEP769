{
 "cells": [
  {
   "cell_type": "code",
   "execution_count": 58,
   "id": "5936569e",
   "metadata": {},
   "outputs": [],
   "source": [
    "# import numpy as np\n",
    "# from tensorflow import random\n",
    "# # https://machinelearningmastery.com/reproducible-results-neural-networks-keras/\n",
    "# #Seed for repeatable results\n",
    "# seed = 1\n",
    "# np.random.seed(seed)\n",
    "# random.set_seed(seed)"
   ]
  },
  {
   "cell_type": "code",
   "execution_count": 1,
   "id": "a03dec13",
   "metadata": {},
   "outputs": [],
   "source": [
    "%load_ext tensorboard"
   ]
  },
  {
   "cell_type": "code",
   "execution_count": 2,
   "id": "3a9b57e5",
   "metadata": {},
   "outputs": [],
   "source": [
    "import numpy as np\n",
    "from keras.models import Sequential\n",
    "from keras.layers import Dense, Dropout, Flatten\n",
    "from keras.layers.convolutional import Conv2D, Conv1D\n",
    "from keras.utils import np_utils\n",
    "import matplotlib.pyplot as plt\n",
    "import glob\n",
    "import datetime\n",
    "import tensorflow as tf"
   ]
  },
  {
   "cell_type": "code",
   "execution_count": 3,
   "id": "828eed9b",
   "metadata": {},
   "outputs": [
    {
     "name": "stdout",
     "output_type": "stream",
     "text": [
      "(11575000, 8)\n",
      "Loaded data files...\n"
     ]
    }
   ],
   "source": [
    "#Loads train/test data from .txt files to np arrays \n",
    "train_reload = np.loadtxt(\"D:/SEP769_DeepLearning/jul26data/train_data.txt\")\n",
    "test_reload = np.loadtxt(\"D:/SEP769_DeepLearning/jul26data/test_data.txt\")\n",
    "\n",
    "print(train_reload.shape)\n",
    "print(\"Loaded data files...\")"
   ]
  },
  {
   "cell_type": "code",
   "execution_count": 4,
   "id": "496490af",
   "metadata": {},
   "outputs": [
    {
     "name": "stdout",
     "output_type": "stream",
     "text": [
      "(2315, 5000, 8)\n"
     ]
    }
   ],
   "source": [
    "# Shaping the training data\n",
    "train_data = np.reshape(train_reload,(-1,5000, 8))\n",
    "test_data = np.reshape(test_reload,(-1,5000, 8))\n",
    "print(train_data.shape)"
   ]
  },
  {
   "cell_type": "code",
   "execution_count": 5,
   "id": "4499bca2",
   "metadata": {},
   "outputs": [
    {
     "name": "stdout",
     "output_type": "stream",
     "text": [
      "1080\n",
      "1235\n"
     ]
    }
   ],
   "source": [
    "train_label = np.loadtxt('D:/SEP769_DeepLearning/jul26data/train_label.txt').astype(int)\n",
    "test_label = np.loadtxt('D:/SEP769_DeepLearning/jul26data/test_label.txt').astype(int)\n",
    "print(sum(train_label == 0))\n",
    "print(sum(train_label != 0))"
   ]
  },
  {
   "cell_type": "code",
   "execution_count": 8,
   "id": "e7d4261d",
   "metadata": {},
   "outputs": [
    {
     "name": "stdout",
     "output_type": "stream",
     "text": [
      "390\n",
      "430\n"
     ]
    }
   ],
   "source": [
    "#Load prediction data\n",
    "pred_load = np.loadtxt(\"D:/SEP769_DeepLearning/jul26data/pred_data_5k.txt\")\n",
    "pred_data = np.reshape(pred_load,(-1,5000, 8))\n",
    "pred_label = np.loadtxt(\"D:/SEP769_DeepLearning/jul26data/pred_label_5k.txt\")\n",
    "print(sum(pred_label == 0))\n",
    "print(sum(pred_label != 0))"
   ]
  },
  {
   "cell_type": "code",
   "execution_count": 131,
   "id": "552db1b5",
   "metadata": {},
   "outputs": [
    {
     "name": "stderr",
     "output_type": "stream",
     "text": [
      "'rm' is not recognized as an internal or external command,\n",
      "operable program or batch file.\n"
     ]
    }
   ],
   "source": [
    "!rm -rf ./logs/"
   ]
  },
  {
   "cell_type": "code",
   "execution_count": 146,
   "id": "16153052",
   "metadata": {},
   "outputs": [
    {
     "name": "stdout",
     "output_type": "stream",
     "text": [
      "Model: \"sequential_35\"\n",
      "_________________________________________________________________\n",
      "Layer (type)                 Output Shape              Param #   \n",
      "=================================================================\n",
      "conv1d_59 (Conv1D)           (None, 5000, 30)          1230      \n",
      "_________________________________________________________________\n",
      "flatten_34 (Flatten)         (None, 150000)            0         \n",
      "_________________________________________________________________\n",
      "dense_96 (Dense)             (None, 32)                4800032   \n",
      "_________________________________________________________________\n",
      "dense_97 (Dense)             (None, 16)                528       \n",
      "_________________________________________________________________\n",
      "dense_98 (Dense)             (None, 1)                 17        \n",
      "=================================================================\n",
      "Total params: 4,801,807\n",
      "Trainable params: 4,801,807\n",
      "Non-trainable params: 0\n",
      "_________________________________________________________________\n"
     ]
    }
   ],
   "source": [
    "#Build the model\n",
    "model = Sequential()\n",
    "model.add(Conv1D(30, (5), input_shape=(5000, 8), padding = 'same', strides = 1, activation='relu'))\n",
    "# model.add(Conv1D(15, (5), padding = 'same', activation='relu'))\n",
    "# model.add(Dropout(0.2))\n",
    "model.add(Flatten())\n",
    "# model.add(Dense(128, activation='relu'))\n",
    "# model.add(Dense(64, activation='relu'))\n",
    "# model.add(Dropout(0.2))\n",
    "model.add(Dense(32, activation='relu'))\n",
    "model.add(Dense(16, activation='relu'))\n",
    "model.add(Dense(1, activation='sigmoid'))\n",
    "# Compile model\n",
    "model.compile(loss='binary_crossentropy', optimizer='adam', metrics=['accuracy'])\n",
    "model.summary()"
   ]
  },
  {
   "cell_type": "code",
   "execution_count": 147,
   "id": "66146451",
   "metadata": {},
   "outputs": [],
   "source": [
    "ld = \"logs/fit/\" + datetime.datetime.now().strftime(\"%Y%m%d-%H%M%S\")\n",
    "callTensorboard = tf.keras.callbacks.TensorBoard(log_dir=ld, histogram_freq=1)"
   ]
  },
  {
   "cell_type": "code",
   "execution_count": 148,
   "id": "fe16fe62",
   "metadata": {
    "scrolled": true
   },
   "outputs": [
    {
     "name": "stdout",
     "output_type": "stream",
     "text": [
      "Epoch 1/10\n",
      "73/73 [==============================] - 3s 33ms/step - loss: 0.9882 - accuracy: 0.7066 - val_loss: 0.3543 - val_accuracy: 0.9341\n",
      "Epoch 2/10\n",
      "73/73 [==============================] - 1s 9ms/step - loss: 0.1571 - accuracy: 0.9506 - val_loss: 0.3175 - val_accuracy: 0.9695\n",
      "Epoch 3/10\n",
      "73/73 [==============================] - 1s 9ms/step - loss: 0.1068 - accuracy: 0.9735 - val_loss: 0.2997 - val_accuracy: 0.9476\n",
      "Epoch 4/10\n",
      "73/73 [==============================] - 1s 9ms/step - loss: 0.0655 - accuracy: 0.9820 - val_loss: 0.1972 - val_accuracy: 0.9524\n",
      "Epoch 5/10\n",
      "73/73 [==============================] - 1s 9ms/step - loss: 0.0738 - accuracy: 0.9757 - val_loss: 0.1962 - val_accuracy: 0.9573\n",
      "Epoch 6/10\n",
      "73/73 [==============================] - 1s 10ms/step - loss: 0.0339 - accuracy: 0.9876 - val_loss: 0.1505 - val_accuracy: 0.9768\n",
      "Epoch 7/10\n",
      "73/73 [==============================] - 1s 9ms/step - loss: 0.0171 - accuracy: 0.9968 - val_loss: 0.1428 - val_accuracy: 0.9805\n",
      "Epoch 8/10\n",
      "73/73 [==============================] - 1s 9ms/step - loss: 0.0190 - accuracy: 0.9962 - val_loss: 0.1869 - val_accuracy: 0.9793\n",
      "Epoch 9/10\n",
      "73/73 [==============================] - 1s 9ms/step - loss: 0.0056 - accuracy: 0.9998 - val_loss: 0.1474 - val_accuracy: 0.9793\n",
      "Epoch 10/10\n",
      "73/73 [==============================] - 1s 9ms/step - loss: 0.0057 - accuracy: 0.9984 - val_loss: 0.2095 - val_accuracy: 0.9841\n"
     ]
    }
   ],
   "source": [
    "history = model.fit(train_data, train_label, validation_data=(test_data, test_label), callbacks = [callTensorboard], epochs=10, batch_size=32)"
   ]
  },
  {
   "cell_type": "code",
   "execution_count": 149,
   "id": "7eae0b1d",
   "metadata": {},
   "outputs": [
    {
     "name": "stdout",
     "output_type": "stream",
     "text": [
      "26/26 [==============================] - 1s 5ms/step - loss: 0.1607 - accuracy: 0.9829\n"
     ]
    },
    {
     "data": {
      "text/plain": [
       "[0.16070666909217834, 0.9829268455505371]"
      ]
     },
     "execution_count": 149,
     "metadata": {},
     "output_type": "execute_result"
    }
   ],
   "source": [
    "model.evaluate(pred_data, pred_label)"
   ]
  },
  {
   "cell_type": "code",
   "execution_count": 121,
   "id": "aec2bfab",
   "metadata": {},
   "outputs": [
    {
     "ename": "KeyError",
     "evalue": "'val_accuracy'",
     "output_type": "error",
     "traceback": [
      "\u001b[1;31m---------------------------------------------------------------------------\u001b[0m",
      "\u001b[1;31mKeyError\u001b[0m                                  Traceback (most recent call last)",
      "\u001b[1;32m<ipython-input-121-e2e9e8ca1ef9>\u001b[0m in \u001b[0;36m<module>\u001b[1;34m\u001b[0m\n\u001b[0;32m      1\u001b[0m \u001b[0mplt\u001b[0m\u001b[1;33m.\u001b[0m\u001b[0mplot\u001b[0m\u001b[1;33m(\u001b[0m\u001b[0mhistory\u001b[0m\u001b[1;33m.\u001b[0m\u001b[0mhistory\u001b[0m\u001b[1;33m[\u001b[0m\u001b[1;34m'accuracy'\u001b[0m\u001b[1;33m]\u001b[0m\u001b[1;33m)\u001b[0m\u001b[1;33m\u001b[0m\u001b[1;33m\u001b[0m\u001b[0m\n\u001b[1;32m----> 2\u001b[1;33m \u001b[0mplt\u001b[0m\u001b[1;33m.\u001b[0m\u001b[0mplot\u001b[0m\u001b[1;33m(\u001b[0m\u001b[0mhistory\u001b[0m\u001b[1;33m.\u001b[0m\u001b[0mhistory\u001b[0m\u001b[1;33m[\u001b[0m\u001b[1;34m'val_accuracy'\u001b[0m\u001b[1;33m]\u001b[0m\u001b[1;33m)\u001b[0m\u001b[1;33m\u001b[0m\u001b[1;33m\u001b[0m\u001b[0m\n\u001b[0m\u001b[0;32m      3\u001b[0m \u001b[0mplt\u001b[0m\u001b[1;33m.\u001b[0m\u001b[0mtitle\u001b[0m\u001b[1;33m(\u001b[0m\u001b[1;34m'Model Accuracy'\u001b[0m\u001b[1;33m)\u001b[0m\u001b[1;33m\u001b[0m\u001b[1;33m\u001b[0m\u001b[0m\n\u001b[0;32m      4\u001b[0m \u001b[0mplt\u001b[0m\u001b[1;33m.\u001b[0m\u001b[0mylabel\u001b[0m\u001b[1;33m(\u001b[0m\u001b[1;34m'accuracy'\u001b[0m\u001b[1;33m)\u001b[0m\u001b[1;33m\u001b[0m\u001b[1;33m\u001b[0m\u001b[0m\n\u001b[0;32m      5\u001b[0m \u001b[0mplt\u001b[0m\u001b[1;33m.\u001b[0m\u001b[0mxlabel\u001b[0m\u001b[1;33m(\u001b[0m\u001b[1;34m'epoch'\u001b[0m\u001b[1;33m)\u001b[0m\u001b[1;33m\u001b[0m\u001b[1;33m\u001b[0m\u001b[0m\n",
      "\u001b[1;31mKeyError\u001b[0m: 'val_accuracy'"
     ]
    },
    {
     "data": {
      "image/png": "[encoded data removed]",
      "text/plain": [
       "<Figure size 432x288 with 1 Axes>"
      ]
     },
     "metadata": {
      "needs_background": "light"
     },
     "output_type": "display_data"
    }
   ],
   "source": [
    "plt.plot(history.history['accuracy'])\n",
    "plt.plot(history.history['val_accuracy'])\n",
    "plt.title('Model Accuracy')\n",
    "plt.ylabel('accuracy')\n",
    "plt.xlabel('epoch')\n",
    "plt.legend(['train', 'val'], loc='upper right')\n",
    "plt.show()"
   ]
  },
  {
   "cell_type": "code",
   "execution_count": 84,
   "id": "ab4fd957",
   "metadata": {},
   "outputs": [
    {
     "name": "stdout",
     "output_type": "stream",
     "text": [
      "26/26 [==============================] - 0s 8ms/step - loss: 0.0462 - accuracy: 0.9829\n"
     ]
    }
   ],
   "source": [
    "test_accuracy = model.evaluate(test_data, test_label)"
   ]
  },
  {
   "cell_type": "code",
   "execution_count": 85,
   "id": "3ccdd8dd",
   "metadata": {},
   "outputs": [
    {
     "data": {
      "text/html": [
       "\n",
       "      <iframe id=\"tensorboard-frame-73276b70e0806ecb\" width=\"100%\" height=\"800\" frameborder=\"0\">\n",
       "      </iframe>\n",
       "      <script>\n",
       "        (function() {\n",
       "          const frame = document.getElementById(\"tensorboard-frame-73276b70e0806ecb\");\n",
       "          const url = new URL(\"/\", window.location);\n",
       "          const port = 6006;\n",
       "          if (port) {\n",
       "            url.port = port;\n",
       "          }\n",
       "          frame.src = url;\n",
       "        })();\n",
       "      </script>\n",
       "    "
      ],
      "text/plain": [
       "<IPython.core.display.HTML object>"
      ]
     },
     "metadata": {},
     "output_type": "display_data"
    }
   ],
   "source": [
    "%tensorboard --logdir logs/fit"
   ]
  },
  {
   "cell_type": "code",
   "execution_count": null,
   "id": "1abf4d9e",
   "metadata": {},
   "outputs": [],
   "source": []
  }
 ],
 "metadata": {
  "kernelspec": {
   "display_name": "Python [conda env:tf-gpu-new]",
   "language": "python",
   "name": "conda-env-tf-gpu-new-py"
  },
  "language_info": {
   "codemirror_mode": {
    "name": "ipython",
    "version": 3
   },
   "file_extension": ".py",
   "mimetype": "text/x-python",
   "name": "python",
   "nbconvert_exporter": "python",
   "pygments_lexer": "ipython3",
   "version": "3.8.1"
  }
 },
 "nbformat": 4,
 "nbformat_minor": 5
}
