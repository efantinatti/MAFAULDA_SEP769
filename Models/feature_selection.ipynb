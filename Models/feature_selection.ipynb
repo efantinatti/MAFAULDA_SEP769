{
  "nbformat": 4,
  "nbformat_minor": 0,
  "metadata": {
    "colab": {
      "name": "feature_selection.ipynb",
      "provenance": [],
      "collapsed_sections": []
    },
    "kernelspec": {
      "name": "python3",
      "display_name": "Python 3"
    },
    "language_info": {
      "name": "python"
    }
  },
  "cells": [
    {
      "cell_type": "code",
      "metadata": {
        "id": "_keBloZPNHQw"
      },
      "source": [
        "# SEP769 - July 27, 2021\n",
        "# Amir Kamaleddine, Ernani Fantinatti, Mohammed Ibraheem\n",
        "# Performing feature selection\n",
        "# https://github.com/efantinatti/MAFAULDA_SEP769\n"
      ],
      "execution_count": null,
      "outputs": []
    },
    {
      "cell_type": "code",
      "metadata": {
        "id": "Gej0OJqKzr3N"
      },
      "source": [
        "from sklearn.preprocessing import MinMaxScaler\n",
        "import tensorflow as tf\n",
        "from tensorflow import keras\n",
        "from tensorflow.keras import layers\n",
        "from keras.layers import Dense\n",
        "from keras.models import Sequential\n",
        "from tensorflow.keras.models import Model\n",
        "from sklearn.feature_selection import SelectKBest, chi2\n",
        "import datetime\n",
        "import numpy as np"
      ],
      "execution_count": null,
      "outputs": []
    },
    {
      "cell_type": "code",
      "metadata": {
        "id": "lbx--nGENSMP"
      },
      "source": [
        "# For Google Colab only\n",
        "# Pulling processed data from public folder\n",
        "# Credit to this stack overflow forum: https://stackoverflow.com/questions/38511444/python-download-files-from-google-drive-using-url\n",
        "import gdown\n",
        "url = 'https://drive.google.com/uc?id=192BrYfD9UXg2sf91t2knFfd4wRdLhqm7' \n",
        "output = 'fsDATA.zip'\n",
        "gdown.download(url, output, quiet=False)\n",
        "\n",
        "!unzip /content/fsDATA.zip\n",
        "!rm -rf sample_data\n"
      ],
      "execution_count": null,
      "outputs": []
    },
    {
      "cell_type": "code",
      "metadata": {
        "id": "zC7xkDl-z6C1"
      },
      "source": [
        "train_data = np.loadtxt('/content/fsData/train_data.csv', delimiter=\",\")\n",
        "test_data = np.loadtxt('/content/fsData/test_data.csv', delimiter=\",\")\n",
        "train_label = np.loadtxt('/content/fsData/trian_label.csv', delimiter=\",\")\n",
        "test_label = np.loadtxt('/content/fsData/test_label.csv', delimiter=\",\")"
      ],
      "execution_count": null,
      "outputs": []
    },
    {
      "cell_type": "code",
      "metadata": {
        "id": "-tEo80PN0LMh"
      },
      "source": [
        "scaler = MinMaxScaler(feature_range=(0, 1))\n",
        "train_data = scaler.fit_transform(train_data)\n",
        "test_data = scaler.fit_transform(test_data)"
      ],
      "execution_count": null,
      "outputs": []
    },
    {
      "cell_type": "code",
      "metadata": {
        "id": "O94dGdTk-7ea"
      },
      "source": [
        "print(train_data.shape,train_label.shape, test_data.shape, test_label.shape)"
      ],
      "execution_count": null,
      "outputs": []
    },
    {
      "cell_type": "code",
      "metadata": {
        "id": "PSK0v4PqcfRQ"
      },
      "source": [
        "selection = SelectKBest(score_func=chi2, k=6)\n",
        "selection.fit(train_data, train_label)\n",
        "new_train_data = selection.transform(train_data)\n",
        "new_test_data = selection.transform(test_data)"
      ],
      "execution_count": null,
      "outputs": []
    },
    {
      "cell_type": "code",
      "metadata": {
        "id": "U27567ilzWGw"
      },
      "source": [
        "features = [\"rotation frequency\" , \"underhang accelerometer 1\", \"underhang accelerometer 2\", \"underhang accelerometer 3\",\"overhang accelerometer 1\", \"overhang accelerometer 2\", \"overhang accelerometer 3\" ,\"microphone\"]"
      ],
      "execution_count": null,
      "outputs": []
    },
    {
      "cell_type": "code",
      "metadata": {
        "id": "saQFSJuGetlB"
      },
      "source": [
        "for i in range(0,8):\n",
        "  print(features[i]+\": \", selection.scores_[i])"
      ],
      "execution_count": null,
      "outputs": []
    },
    {
      "cell_type": "code",
      "metadata": {
        "id": "ax-6QHtrf2Va"
      },
      "source": [
        "new_train_data.shape, new_test_data.shape"
      ],
      "execution_count": null,
      "outputs": []
    },
    {
      "cell_type": "code",
      "metadata": {
        "id": "y_9-GTO93ZuX"
      },
      "source": [
        "model = Sequential()\n",
        "model.add(Dense(60, input_dim=8, activation='relu'))\n",
        "model.add(Dense(32, activation='relu'))\n",
        "model.add(Dense(8, activation='relu'))\n",
        "model.add(Dense(1, activation='sigmoid'))\n",
        "model.compile(loss='binary_crossentropy', optimizer='adam', metrics=['accuracy'])\n",
        "model.summary()"
      ],
      "execution_count": null,
      "outputs": []
    },
    {
      "cell_type": "code",
      "metadata": {
        "id": "2TVP9QG02boN"
      },
      "source": [
        "history = model.fit(train_data, train_label, epochs=5, batch_size=50, validation_data=(test_data, test_label), verbose=2)"
      ],
      "execution_count": null,
      "outputs": []
    },
    {
      "cell_type": "code",
      "metadata": {
        "id": "P_CIYZWQ2t2T"
      },
      "source": [
        "test_accuracy = model.evaluate(test_data, test_label)"
      ],
      "execution_count": null,
      "outputs": []
    },
    {
      "cell_type": "code",
      "metadata": {
        "id": "AwucvYX9m9iD"
      },
      "source": [
        "model2 = Sequential()\n",
        "model2.add(Dense(60, input_dim=6, activation='relu'))\n",
        "model2.add(Dense(32, activation='relu'))\n",
        "model2.add(Dense(8, activation='relu'))\n",
        "model2.add(Dense(1, activation='sigmoid'))\n",
        "model2.compile(loss='binary_crossentropy', optimizer='adam', metrics=['accuracy'])\n",
        "model2.summary()"
      ],
      "execution_count": null,
      "outputs": []
    },
    {
      "cell_type": "code",
      "metadata": {
        "id": "twLSTeNknSlu"
      },
      "source": [
        "history = model2.fit(new_train_data, train_label, epochs=5, batch_size=50, validation_data=(new_test_data, test_label), verbose=2)"
      ],
      "execution_count": null,
      "outputs": []
    },
    {
      "cell_type": "code",
      "metadata": {
        "id": "3UM83BiInl-c"
      },
      "source": [
        "test_accuracy = model2.evaluate(new_test_data, test_label)"
      ],
      "execution_count": null,
      "outputs": []
    }
  ]
}