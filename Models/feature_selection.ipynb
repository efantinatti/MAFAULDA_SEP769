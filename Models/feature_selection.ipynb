{
  "nbformat": 4,
  "nbformat_minor": 0,
  "metadata": {
    "colab": {
      "name": "feature_selection.ipynb",
      "provenance": [],
      "collapsed_sections": []
    },
    "kernelspec": {
      "name": "python3",
      "display_name": "Python 3"
    },
    "language_info": {
      "name": "python"
    }
  },
  "cells": [
    {
      "cell_type": "code",
      "metadata": {
        "id": "Gej0OJqKzr3N"
      },
      "source": [
        "from sklearn.preprocessing import MinMaxScaler\n",
        "import tensorflow as tf\n",
        "from tensorflow import keras\n",
        "from tensorflow.keras import layers\n",
        "from keras.layers import Dense\n",
        "from keras.models import Sequential\n",
        "from tensorflow.keras.models import Model\n",
        "from sklearn.feature_selection import SelectKBest, chi2\n",
        "import datetime\n",
        "import numpy as np"
      ],
      "execution_count": 20,
      "outputs": []
    },
    {
      "cell_type": "code",
      "metadata": {
        "id": "zC7xkDl-z6C1"
      },
      "source": [
        "train_data = np.loadtxt('train_data.csv', delimiter=\",\")\n",
        "test_data = np.loadtxt('test_data.csv', delimiter=\",\")\n",
        "train_label = np.loadtxt('trian_label.csv', delimiter=\",\")\n",
        "test_label = np.loadtxt('test_label.csv', delimiter=\",\")"
      ],
      "execution_count": 34,
      "outputs": []
    },
    {
      "cell_type": "code",
      "metadata": {
        "id": "-tEo80PN0LMh"
      },
      "source": [
        "scaler = MinMaxScaler(feature_range=(0, 1))\n",
        "train_data = scaler.fit_transform(train_data)\n",
        "test_data = scaler.fit_transform(test_data)"
      ],
      "execution_count": 37,
      "outputs": []
    },
    {
      "cell_type": "code",
      "metadata": {
        "colab": {
          "base_uri": "https://localhost:8080/"
        },
        "id": "O94dGdTk-7ea",
        "outputId": "c3d587ed-812f-47d0-a930-bedeb2fde83f"
      },
      "source": [
        "print(train_data.shape,train_label.shape, test_data.shape, test_label.shape)"
      ],
      "execution_count": 38,
      "outputs": [
        {
          "output_type": "stream",
          "text": [
            "(382000, 8) (382000,) (76400, 8) (76400,)\n"
          ],
          "name": "stdout"
        }
      ]
    },
    {
      "cell_type": "code",
      "metadata": {
        "id": "PSK0v4PqcfRQ"
      },
      "source": [
        "selection = SelectKBest(score_func=chi2, k=6)\n",
        "selection.fit(train_data, train_label)\n",
        "new_train_data = selection.transform(train_data)\n",
        "new_test_data = selection.transform(test_data)"
      ],
      "execution_count": 39,
      "outputs": []
    },
    {
      "cell_type": "code",
      "metadata": {
        "id": "U27567ilzWGw"
      },
      "source": [
        "features = [\"rotation frequency\" , \"underhang accelerometer 1\", \"underhang accelerometer 2\", \"underhang accelerometer 3\",\"overhang accelerometer 1\", \"overhang accelerometer 2\", \"overhang accelerometer 3\" ,\"microphone\"]"
      ],
      "execution_count": 45,
      "outputs": []
    },
    {
      "cell_type": "code",
      "metadata": {
        "colab": {
          "base_uri": "https://localhost:8080/"
        },
        "id": "saQFSJuGetlB",
        "outputId": "649e3d63-11aa-425f-8c2e-e3234ff5be4a"
      },
      "source": [
        "for i in range(0,8):\n",
        "  print(features[i]+\": \", selection.scores_[i])"
      ],
      "execution_count": 46,
      "outputs": [
        {
          "output_type": "stream",
          "text": [
            "rotation frequency:  7.6064597264072535\n",
            "underhang accelerometer 1:  0.8530206010997197\n",
            "underhang accelerometer 2:  0.08849307594983512\n",
            "underhang accelerometer 3:  0.1152830051596175\n",
            "overhang accelerometer 1:  4.836199452161274\n",
            "overhang accelerometer 2:  24.70542988027959\n",
            "overhang accelerometer 3:  0.5749444747251456\n",
            "microphone:  6.658416939604581e-05\n"
          ],
          "name": "stdout"
        }
      ]
    },
    {
      "cell_type": "code",
      "metadata": {
        "colab": {
          "base_uri": "https://localhost:8080/"
        },
        "id": "ax-6QHtrf2Va",
        "outputId": "7f7bc481-0040-4feb-c01c-88b71b27765b"
      },
      "source": [
        "new_train_data.shape, new_test_data.shape"
      ],
      "execution_count": 41,
      "outputs": [
        {
          "output_type": "execute_result",
          "data": {
            "text/plain": [
              "((382000, 6), (76400, 6))"
            ]
          },
          "metadata": {
            "tags": []
          },
          "execution_count": 41
        }
      ]
    },
    {
      "cell_type": "code",
      "metadata": {
        "colab": {
          "base_uri": "https://localhost:8080/"
        },
        "id": "y_9-GTO93ZuX",
        "outputId": "96e7a5bf-8bb1-4a5f-c81e-d998a957f70e"
      },
      "source": [
        "model = Sequential()\n",
        "model.add(Dense(60, input_dim=8, activation='relu'))\n",
        "model.add(Dense(32, activation='relu'))\n",
        "model.add(Dense(8, activation='relu'))\n",
        "model.add(Dense(1, activation='sigmoid'))\n",
        "model.compile(loss='binary_crossentropy', optimizer='adam', metrics=['accuracy'])\n",
        "model.summary()"
      ],
      "execution_count": 42,
      "outputs": [
        {
          "output_type": "stream",
          "text": [
            "Model: \"sequential_3\"\n",
            "_________________________________________________________________\n",
            "Layer (type)                 Output Shape              Param #   \n",
            "=================================================================\n",
            "dense_12 (Dense)             (None, 60)                540       \n",
            "_________________________________________________________________\n",
            "dense_13 (Dense)             (None, 32)                1952      \n",
            "_________________________________________________________________\n",
            "dense_14 (Dense)             (None, 8)                 264       \n",
            "_________________________________________________________________\n",
            "dense_15 (Dense)             (None, 1)                 9         \n",
            "=================================================================\n",
            "Total params: 2,765\n",
            "Trainable params: 2,765\n",
            "Non-trainable params: 0\n",
            "_________________________________________________________________\n"
          ],
          "name": "stdout"
        }
      ]
    },
    {
      "cell_type": "code",
      "metadata": {
        "id": "2TVP9QG02boN",
        "colab": {
          "base_uri": "https://localhost:8080/"
        },
        "outputId": "986445d5-96f5-409a-906d-fe934e2e7e48"
      },
      "source": [
        "history = model.fit(train_data, train_label, epochs=5, batch_size=50, validation_data=(test_data, test_label), verbose=2)"
      ],
      "execution_count": 25,
      "outputs": [
        {
          "output_type": "stream",
          "text": [
            "Epoch 1/5\n",
            "7640/7640 - 21s - loss: 0.2707 - accuracy: 0.8952 - val_loss: 0.2929 - val_accuracy: 0.8974\n",
            "Epoch 2/5\n",
            "7640/7640 - 10s - loss: 0.2048 - accuracy: 0.9221 - val_loss: 0.3526 - val_accuracy: 0.8880\n",
            "Epoch 3/5\n",
            "7640/7640 - 10s - loss: 0.1948 - accuracy: 0.9271 - val_loss: 0.3092 - val_accuracy: 0.8917\n",
            "Epoch 4/5\n",
            "7640/7640 - 10s - loss: 0.1892 - accuracy: 0.9294 - val_loss: 0.2893 - val_accuracy: 0.8940\n",
            "Epoch 5/5\n",
            "7640/7640 - 10s - loss: 0.1866 - accuracy: 0.9309 - val_loss: 0.2763 - val_accuracy: 0.9004\n"
          ],
          "name": "stdout"
        }
      ]
    },
    {
      "cell_type": "code",
      "metadata": {
        "id": "P_CIYZWQ2t2T",
        "colab": {
          "base_uri": "https://localhost:8080/"
        },
        "outputId": "fd56bf3b-c17b-460d-e441-94e5f190509f"
      },
      "source": [
        "test_accuracy = model.evaluate(test_data, test_label)"
      ],
      "execution_count": 43,
      "outputs": [
        {
          "output_type": "stream",
          "text": [
            "2388/2388 [==============================] - 3s 1ms/step - loss: 0.6834 - accuracy: 0.6081\n"
          ],
          "name": "stdout"
        }
      ]
    },
    {
      "cell_type": "code",
      "metadata": {
        "colab": {
          "base_uri": "https://localhost:8080/"
        },
        "id": "AwucvYX9m9iD",
        "outputId": "ebb76493-25ad-4163-970d-34da71c57f94"
      },
      "source": [
        "model2 = Sequential()\n",
        "model2.add(Dense(60, input_dim=6, activation='relu'))\n",
        "model2.add(Dense(32, activation='relu'))\n",
        "model2.add(Dense(8, activation='relu'))\n",
        "model2.add(Dense(1, activation='sigmoid'))\n",
        "model2.compile(loss='binary_crossentropy', optimizer='adam', metrics=['accuracy'])\n",
        "model2.summary()"
      ],
      "execution_count": 27,
      "outputs": [
        {
          "output_type": "stream",
          "text": [
            "Model: \"sequential_2\"\n",
            "_________________________________________________________________\n",
            "Layer (type)                 Output Shape              Param #   \n",
            "=================================================================\n",
            "dense_8 (Dense)              (None, 60)                420       \n",
            "_________________________________________________________________\n",
            "dense_9 (Dense)              (None, 32)                1952      \n",
            "_________________________________________________________________\n",
            "dense_10 (Dense)             (None, 8)                 264       \n",
            "_________________________________________________________________\n",
            "dense_11 (Dense)             (None, 1)                 9         \n",
            "=================================================================\n",
            "Total params: 2,645\n",
            "Trainable params: 2,645\n",
            "Non-trainable params: 0\n",
            "_________________________________________________________________\n"
          ],
          "name": "stdout"
        }
      ]
    },
    {
      "cell_type": "code",
      "metadata": {
        "colab": {
          "base_uri": "https://localhost:8080/"
        },
        "id": "twLSTeNknSlu",
        "outputId": "7bedd893-1510-4e93-e8c9-5c3fbac45309"
      },
      "source": [
        "history = model2.fit(new_train_data, train_label, epochs=5, batch_size=50, validation_data=(new_test_data, test_label), verbose=2)"
      ],
      "execution_count": 29,
      "outputs": [
        {
          "output_type": "stream",
          "text": [
            "Epoch 1/5\n",
            "7640/7640 - 10s - loss: 0.3140 - accuracy: 0.8844 - val_loss: 0.3037 - val_accuracy: 0.8970\n",
            "Epoch 2/5\n",
            "7640/7640 - 9s - loss: 0.2256 - accuracy: 0.9124 - val_loss: 0.2976 - val_accuracy: 0.8940\n",
            "Epoch 3/5\n",
            "7640/7640 - 9s - loss: 0.2114 - accuracy: 0.9195 - val_loss: 0.2768 - val_accuracy: 0.8937\n",
            "Epoch 4/5\n",
            "7640/7640 - 9s - loss: 0.2066 - accuracy: 0.9216 - val_loss: 0.2636 - val_accuracy: 0.8939\n",
            "Epoch 5/5\n",
            "7640/7640 - 9s - loss: 0.2038 - accuracy: 0.9232 - val_loss: 0.2874 - val_accuracy: 0.8892\n"
          ],
          "name": "stdout"
        }
      ]
    },
    {
      "cell_type": "code",
      "metadata": {
        "colab": {
          "base_uri": "https://localhost:8080/"
        },
        "id": "3UM83BiInl-c",
        "outputId": "0ac713cc-1595-4fa5-efd2-08d258854a18"
      },
      "source": [
        "test_accuracy = model2.evaluate(new_test_data, test_label)"
      ],
      "execution_count": 44,
      "outputs": [
        {
          "output_type": "stream",
          "text": [
            "2388/2388 [==============================] - 3s 1ms/step - loss: 0.2874 - accuracy: 0.8892\n"
          ],
          "name": "stdout"
        }
      ]
    }
  ]
}