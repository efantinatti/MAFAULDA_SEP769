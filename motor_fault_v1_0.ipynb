{
  "nbformat": 4,
  "nbformat_minor": 0,
  "metadata": {
    "colab": {
      "name": "motor_fault_v1.0.ipynb",
      "provenance": [],
      "collapsed_sections": []
    },
    "kernelspec": {
      "name": "python3",
      "display_name": "Python 3"
    },
    "language_info": {
      "name": "python"
    },
    "accelerator": "GPU"
  },
  "cells": [
    {
      "cell_type": "markdown",
      "metadata": {
        "id": "Jub35xXXVE5n"
      },
      "source": [
        "### Model\n",
        "#### Group 12\n",
        "##### Amir Kamarleddine\n",
        "##### Ernani Fantinatti\n",
        "##### Mohammed Ibraheem"
      ]
    },
    {
      "cell_type": "code",
      "metadata": {
        "id": "XX8Jmj72vc0N"
      },
      "source": [
        "#Importing libraries\n",
        "\n",
        "from sklearn.preprocessing import MinMaxScaler\n",
        "from keras.models import Sequential\n",
        "from keras.layers import Dense, LSTM, BatchNormalization\n",
        "import numpy as np\n",
        "import glob\n"
      ],
      "execution_count": 8,
      "outputs": []
    },
    {
      "cell_type": "code",
      "metadata": {
        "colab": {
          "base_uri": "https://localhost:8080/"
        },
        "id": "GqBk8sbpklsV",
        "outputId": "0209c7d5-c46d-4e0f-81b7-ff704bf78a11"
      },
      "source": [
        "#Choose whether you will run the ETL or not\n",
        "\n",
        "choice = 0; #1 will run the ETL\n",
        "\n",
        "#If choice is one, choose the portion size of train and test\n",
        "\n",
        "SIZE = 10000\n",
        "\n",
        "print(\"test size is:\", SIZE)\n",
        "print(\"train size is:\", int(SIZE+SIZE*0.2))\n"
      ],
      "execution_count": 34,
      "outputs": [
        {
          "output_type": "stream",
          "text": [
            "test size is: 10000\n",
            "train size is: 12000\n"
          ],
          "name": "stdout"
        }
      ]
    },
    {
      "cell_type": "code",
      "metadata": {
        "id": "NHY5rOWwN4Dp",
        "colab": {
          "base_uri": "https://localhost:8080/"
        },
        "outputId": "226f3033-a938-4f8d-9bed-3ec89e8e2767"
      },
      "source": [
        "if choice == 1:\n",
        "  files_no = glob.glob('normal/*.csv')\n",
        "  folders_im = glob.glob('imbalance/*')\n",
        "  train_data = np.empty((0,8), float)\n",
        "  test_data = np.empty((0,8), float)\n",
        "  for f_on in files_no:\n",
        "    source_data = np.loadtxt(f_on, delimiter=\",\")\n",
        "    train_data = np.append(train_data, source_data[0:SIZE,:], axis=0)\n",
        "    test_data = np.append(test_data, source_data[SIZE:int(SIZE+SIZE*0.2),:], axis=0)\n",
        "\n",
        "  n_train_labels = len(train_data)\n",
        "  n_test_labels = len(test_data)\n",
        "  \n",
        "  for folder in folders_im:\n",
        "    files_im = glob.glob( folder +'/*.csv')\n",
        "    for f_im in files_im:\n",
        "      source_data = np.loadtxt(f_im, delimiter=\",\")\n",
        "      train_data = np.append(train_data, source_data[0:SIZE,:], axis=0)\n",
        "      test_data = np.append(test_data, source_data[SIZE:int(SIZE+SIZE*0.2),:], axis=0)\n",
        "  \n",
        "  np.savetxt(\"train_data.csv\", train_data, delimiter=\",\")\n",
        "  np.savetxt(\"test_data.csv\", test_data, delimiter=\",\")\n",
        "  \n",
        "  train_label = np.zeros(n_train_labels)\n",
        "  train_label = np.append(train_label, np.ones(len(train_data)-n_train_labels), axis=0)\n",
        "  test_label = np.zeros(n_test_labels)\n",
        "  test_label = np.append(test_label, np.ones(len(test_data)-n_test_labels), axis=0)\n",
        "  \n",
        "  np.savetxt(\"train_label.csv\", train_label, delimiter=\",\")\n",
        "  np.savetxt(\"test_label.csv\", test_label, delimiter=\",\")\n",
        "  print(\"Finished parsing the files\")\n",
        "\n",
        "else:\n",
        "  print(\"Skipping this step...\")\n"
      ],
      "execution_count": 21,
      "outputs": [
        {
          "output_type": "stream",
          "text": [
            "Skipping this step...\n"
          ],
          "name": "stdout"
        }
      ]
    },
    {
      "cell_type": "code",
      "metadata": {
        "id": "5y_PzTqDxTYH",
        "colab": {
          "base_uri": "https://localhost:8080/"
        },
        "outputId": "3cce24aa-15c8-4012-b116-392de8cc98aa"
      },
      "source": [
        "if choice == 0:\n",
        "  train_data = np.loadtxt('train_data.csv', delimiter=\",\")\n",
        "  test_data = np.loadtxt('test_data.csv', delimiter=\",\")\n",
        "  train_label = np.loadtxt('train_label.csv', delimiter=\",\")\n",
        "  test_label = np.loadtxt('test_label.csv', delimiter=\",\")\n",
        "  print(\"Loaded data files...\")\n",
        "\n",
        "else:\n",
        "  print(\"Skipped loading files...\")\n"
      ],
      "execution_count": 22,
      "outputs": [
        {
          "output_type": "stream",
          "text": [
            "Loaded data files...\n"
          ],
          "name": "stdout"
        }
      ]
    },
    {
      "cell_type": "code",
      "metadata": {
        "id": "BHcVWl5YlYIP"
      },
      "source": [
        "scaler = MinMaxScaler(feature_range=(0, 1))\n",
        "train_data = scaler.fit_transform(train_data)\n",
        "test_data = scaler.fit_transform(test_data)\n"
      ],
      "execution_count": 23,
      "outputs": []
    },
    {
      "cell_type": "code",
      "metadata": {
        "id": "K1OUrew3I4qA",
        "colab": {
          "base_uri": "https://localhost:8080/"
        },
        "outputId": "aed92a1e-ba73-4808-f781-42e0313e7054"
      },
      "source": [
        "train_data.shape\n"
      ],
      "execution_count": 24,
      "outputs": [
        {
          "output_type": "execute_result",
          "data": {
            "text/plain": [
              "(3820000, 8)"
            ]
          },
          "metadata": {
            "tags": []
          },
          "execution_count": 24
        }
      ]
    },
    {
      "cell_type": "code",
      "metadata": {
        "id": "Y0W9Lu06I5Je",
        "colab": {
          "base_uri": "https://localhost:8080/"
        },
        "outputId": "fc01f256-42dc-486f-fdb4-53dee7ee6422"
      },
      "source": [
        "test_data.shape\n"
      ],
      "execution_count": 25,
      "outputs": [
        {
          "output_type": "execute_result",
          "data": {
            "text/plain": [
              "(764000, 8)"
            ]
          },
          "metadata": {
            "tags": []
          },
          "execution_count": 25
        }
      ]
    },
    {
      "cell_type": "code",
      "metadata": {
        "id": "4VQ-CKc38V6-",
        "colab": {
          "base_uri": "https://localhost:8080/"
        },
        "outputId": "22959b39-dc54-4e6e-b75e-5ce00042033b"
      },
      "source": [
        "model2 = Sequential()\n",
        "model2.add(LSTM(12, input_shape=(1, 8),activation='tanh', recurrent_activation='hard_sigmoid',return_sequences=True, return_state=False)) \n",
        "model2.add(BatchNormalization())\n",
        "model2.add(LSTM(8, activation='tanh', recurrent_activation='hard_sigmoid'))\n",
        "model2.add(BatchNormalization())\n",
        "model2.add(Dense(1, activation='sigmoid'))\n",
        "model2.compile(loss='binary_crossentropy', optimizer='adam', metrics=['accuracy'])\n",
        "model2.summary()\n"
      ],
      "execution_count": 26,
      "outputs": [
        {
          "output_type": "stream",
          "text": [
            "WARNING:tensorflow:Layer lstm will not use cuDNN kernels since it doesn't meet the criteria. It will use a generic GPU kernel as fallback when running on GPU.\n",
            "WARNING:tensorflow:Layer lstm_1 will not use cuDNN kernels since it doesn't meet the criteria. It will use a generic GPU kernel as fallback when running on GPU.\n",
            "Model: \"sequential\"\n",
            "_________________________________________________________________\n",
            "Layer (type)                 Output Shape              Param #   \n",
            "=================================================================\n",
            "lstm (LSTM)                  (None, 1, 12)             1008      \n",
            "_________________________________________________________________\n",
            "batch_normalization (BatchNo (None, 1, 12)             48        \n",
            "_________________________________________________________________\n",
            "lstm_1 (LSTM)                (None, 8)                 672       \n",
            "_________________________________________________________________\n",
            "batch_normalization_1 (Batch (None, 8)                 32        \n",
            "_________________________________________________________________\n",
            "dense (Dense)                (None, 1)                 9         \n",
            "=================================================================\n",
            "Total params: 1,769\n",
            "Trainable params: 1,729\n",
            "Non-trainable params: 40\n",
            "_________________________________________________________________\n"
          ],
          "name": "stdout"
        }
      ]
    },
    {
      "cell_type": "code",
      "metadata": {
        "id": "xCi9d7WmumjV",
        "colab": {
          "base_uri": "https://localhost:8080/",
          "height": 644
        },
        "outputId": "4d5b6ca4-942c-40e5-f066-964387030af2"
      },
      "source": [
        "from keras.utils.vis_utils import plot_model\n",
        "plot_model(model2, to_file='model_plot.png', show_shapes=True, show_layer_names=True)\n"
      ],
      "execution_count": 27,
      "outputs": [
        {
          "output_type": "execute_result",
          "data": {
            "image/png": "[encoded data removed]",
            "text/plain": [
              "<IPython.core.display.Image object>"
            ]
          },
          "metadata": {
            "tags": []
          },
          "execution_count": 27
        }
      ]
    },
    {
      "cell_type": "code",
      "metadata": {
        "id": "MN_zDxb99OBY"
      },
      "source": [
        "train_LSTM = train_data.reshape((train_data.shape[0], 1, train_data.shape[1]))\n",
        "test_LSTM = test_data.reshape((test_data.shape[0], 1, test_data.shape[1]))\n"
      ],
      "execution_count": 28,
      "outputs": []
    },
    {
      "cell_type": "code",
      "metadata": {
        "id": "Ks-eTfkM8tLl",
        "colab": {
          "base_uri": "https://localhost:8080/"
        },
        "outputId": "5adecde8-2f66-4469-ef68-1fcdaab642ac"
      },
      "source": [
        "history2 = model2.fit(train_LSTM, train_label, epochs=5, batch_size=32, validation_data=(test_LSTM, test_label), verbose=2, shuffle=False)\n"
      ],
      "execution_count": 29,
      "outputs": [
        {
          "output_type": "stream",
          "text": [
            "Epoch 1/5\n",
            "119375/119375 - 544s - loss: 0.0161 - accuracy: 0.9968 - val_loss: 2.2781 - val_accuracy: 0.8717\n",
            "Epoch 2/5\n",
            "119375/119375 - 516s - loss: 0.0252 - accuracy: 0.9962 - val_loss: 2.2531 - val_accuracy: 0.8717\n",
            "Epoch 3/5\n",
            "119375/119375 - 516s - loss: 0.0140 - accuracy: 0.9980 - val_loss: 2.2632 - val_accuracy: 0.8717\n",
            "Epoch 4/5\n",
            "119375/119375 - 512s - loss: 0.0114 - accuracy: 0.9984 - val_loss: 2.2385 - val_accuracy: 0.8717\n",
            "Epoch 5/5\n",
            "119375/119375 - 514s - loss: 0.0100 - accuracy: 0.9987 - val_loss: 2.2302 - val_accuracy: 0.8717\n"
          ],
          "name": "stdout"
        }
      ]
    },
    {
      "cell_type": "code",
      "metadata": {
        "id": "Mwu1zhrwGLhO",
        "colab": {
          "base_uri": "https://localhost:8080/"
        },
        "outputId": "95e2afbf-0758-4b6f-bdc6-a9793c4fb0bc"
      },
      "source": [
        "accuracy2 = model2.evaluate(train_LSTM, train_label)\n"
      ],
      "execution_count": 30,
      "outputs": [
        {
          "output_type": "stream",
          "text": [
            "119375/119375 [==============================] - 235s 2ms/step - loss: 2.2405 - accuracy: 0.8717\n"
          ],
          "name": "stdout"
        }
      ]
    },
    {
      "cell_type": "code",
      "metadata": {
        "id": "8AkbHP82sMbD",
        "colab": {
          "base_uri": "https://localhost:8080/"
        },
        "outputId": "3297c62e-6c0d-4411-c1db-502ebaa7ce94"
      },
      "source": [
        "test_accuracy2 = model2.evaluate(test_LSTM, test_label)\n"
      ],
      "execution_count": 31,
      "outputs": [
        {
          "output_type": "stream",
          "text": [
            "23875/23875 [==============================] - 47s 2ms/step - loss: 2.2302 - accuracy: 0.8717\n"
          ],
          "name": "stdout"
        }
      ]
    }
  ]
}